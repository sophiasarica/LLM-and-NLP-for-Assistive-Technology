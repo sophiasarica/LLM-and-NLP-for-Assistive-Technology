{
 "cells": [
  {
   "cell_type": "code",
   "execution_count": null,
   "id": "32e204f6",
   "metadata": {},
   "outputs": [],
   "source": []
  },
  {
   "cell_type": "code",
   "execution_count": 6,
   "id": "47e593d5",
   "metadata": {},
   "outputs": [
    {
     "name": "stdout",
     "output_type": "stream",
     "text": [
      "mkdir: data: File exists\n",
      "  % Total    % Received % Xferd  Average Speed   Time    Time     Time  Current\n",
      "                                 Dload  Upload   Total   Spent    Left  Speed\n",
      "100   219  100   219    0     0   1733      0 --:--:-- --:--:-- --:--:--  1738\n"
     ]
    }
   ],
   "source": [
    "!mkdir data\n",
    "!curl http://google.com --output data/readme.txt"
   ]
  },
  {
   "cell_type": "code",
   "execution_count": 7,
   "id": "97305d22",
   "metadata": {},
   "outputs": [
    {
     "name": "stdout",
     "output_type": "stream",
     "text": [
      "['<HTML><HEAD><meta http-equiv=\"content-type\" content=\"text/html;charset=utf-8\">\\n', '<TITLE>301 Moved</TITLE></HEAD><BODY>\\n', '<H1>301 Moved</H1>\\n', 'The document has moved\\n', '<A HREF=\"http://www.google.com/\">here</A>.\\n', '</BODY></HTML>\\n']\n"
     ]
    }
   ],
   "source": [
    "with open('data/readme.txt') as f:\n",
    "    lines = f.readlines()\n",
    "    print(lines)"
   ]
  },
  {
   "cell_type": "markdown",
   "id": "ce07c913",
   "metadata": {},
   "source": [
    " Q1: Write a Python function to return a list of all the numbers from 1 to n which are divisible by 5. n will be given as an argument to your function.\n",
    "\n",
    "\n",
    "\n"
   ]
  },
  {
   "cell_type": "code",
   "execution_count": null,
   "id": "b6323a4a",
   "metadata": {},
   "outputs": [],
   "source": [
    "result = [n for n in range(122) if n % 5 == 0]"
   ]
  },
  {
   "cell_type": "code",
   "execution_count": null,
   "id": "f06ec18a",
   "metadata": {},
   "outputs": [],
   "source": [
    "#result\n"
   ]
  },
  {
   "cell_type": "code",
   "execution_count": null,
   "id": "bea2f7c7",
   "metadata": {},
   "outputs": [],
   "source": [
    "def is_divisible_by_five(x):\n",
    "    result = [n for n in range(x) if n % 5 == 0]\n",
    "    return result\n",
    "    \n",
    "    \n"
   ]
  },
  {
   "cell_type": "code",
   "execution_count": null,
   "id": "0b95c1e2",
   "metadata": {},
   "outputs": [],
   "source": [
    "is_divisible_by_five(13)"
   ]
  },
  {
   "cell_type": "code",
   "execution_count": null,
   "id": "e826b391",
   "metadata": {},
   "outputs": [],
   "source": [
    "def is_divisible_by_five(x):\n",
    "    result=[]\n",
    "    for n in range(x):\n",
    "        if n%5 == 0:\n",
    "            result.append(n)\n",
    "    return(result)\n",
    "        \n",
    "        \n",
    "        \n",
    "\n"
   ]
  },
  {
   "cell_type": "code",
   "execution_count": null,
   "id": "76390ff0",
   "metadata": {},
   "outputs": [],
   "source": [
    "is_divisible_by_five(11)"
   ]
  },
  {
   "cell_type": "code",
   "execution_count": null,
   "id": "95673a2e",
   "metadata": {},
   "outputs": [],
   "source": [
    "#Q2: Write a function that returns the sum of the parameters\n",
    "\n"
   ]
  },
  {
   "cell_type": "code",
   "execution_count": null,
   "id": "3fba3c3b",
   "metadata": {},
   "outputs": [],
   "source": [
    "def sum_function(a, b):\n",
    "    result = a+b\n",
    "\n",
    "    return result\n"
   ]
  },
  {
   "cell_type": "code",
   "execution_count": null,
   "id": "49d857b9",
   "metadata": {},
   "outputs": [],
   "source": [
    "sum_function(3, 5)"
   ]
  },
  {
   "cell_type": "code",
   "execution_count": null,
   "id": "9ad3b4dc",
   "metadata": {},
   "outputs": [],
   "source": [
    "def sum_function(a, b):\n",
    "    \n",
    "    return sum([a,b])"
   ]
  },
  {
   "cell_type": "code",
   "execution_count": null,
   "id": "dd34e9e0",
   "metadata": {},
   "outputs": [],
   "source": [
    "sum_function(4, 9)"
   ]
  },
  {
   "cell_type": "code",
   "execution_count": null,
   "id": "f19b8f2c",
   "metadata": {},
   "outputs": [],
   "source": [
    "def fizbuz(sayi):\n",
    "    for i in range(1,sayi+1):\n",
    "        if i%15==0:\n",
    "            print('fizzbuzz')\n",
    "        elif i%3==0:\n",
    "            print('fizz')\n",
    "        elif i%5==0:\n",
    "            print('buzz')\n",
    "        else:\n",
    "            print(i)\n",
    "            \n",
    "        "
   ]
  },
  {
   "cell_type": "code",
   "execution_count": null,
   "id": "70f54d86",
   "metadata": {},
   "outputs": [],
   "source": [
    "fizbuz(15)"
   ]
  },
  {
   "cell_type": "code",
   "execution_count": null,
   "id": "0a9d3ca0",
   "metadata": {},
   "outputs": [],
   "source": [
    "# Q(3-a) Below print current working directory."
   ]
  },
  {
   "cell_type": "code",
   "execution_count": 14,
   "id": "3ae6da17",
   "metadata": {},
   "outputs": [
    {
     "name": "stdout",
     "output_type": "stream",
     "text": [
      "/Users/sophiasarica/Downloads\r\n"
     ]
    }
   ],
   "source": [
    "!pwd "
   ]
  },
  {
   "cell_type": "code",
   "execution_count": 8,
   "id": "157c3603",
   "metadata": {},
   "outputs": [],
   "source": [
    "#(3-b) Below list all the files and folders in the current working directory.\n"
   ]
  },
  {
   "cell_type": "code",
   "execution_count": 9,
   "id": "8ad4a67d",
   "metadata": {},
   "outputs": [
    {
     "name": "stdout",
     "output_type": "stream",
     "text": [
      "Appendix_A_Rapid_Fire_Python_Fundamentals.ipynb\r\n",
      "Appendix_A_Rapid_Fire_Python_Fundamentals.ipynb.zip\r\n",
      "Untitled.ipynb\r\n",
      "Untitled1.ipynb\r\n",
      "VSCode-darwin-universal.zip\r\n",
      "\u001b[34mdata\u001b[m\u001b[m/\r\n"
     ]
    }
   ],
   "source": [
    "%ls"
   ]
  },
  {
   "cell_type": "code",
   "execution_count": 17,
   "id": "90cba64b",
   "metadata": {},
   "outputs": [],
   "source": [
    "# !echo 'print(\"Sophia Sarica\")' > my_script.py "
   ]
  },
  {
   "cell_type": "code",
   "execution_count": 16,
   "id": "70fac92a",
   "metadata": {},
   "outputs": [
    {
     "name": "stdout",
     "output_type": "stream",
     "text": [
      "Sophia Sarica\r\n"
     ]
    }
   ],
   "source": [
    "#Create 'my_script.py' that prints 'Your First Name-Your Last Name' in the same directory and run this scripy in the cell below.\n",
    "\n",
    "!python my_script.py\n"
   ]
  },
  {
   "cell_type": "code",
   "execution_count": null,
   "id": "2274ab22",
   "metadata": {},
   "outputs": [],
   "source": []
  },
  {
   "cell_type": "code",
   "execution_count": null,
   "id": "4190aec4",
   "metadata": {},
   "outputs": [],
   "source": []
  },
  {
   "cell_type": "code",
   "execution_count": null,
   "id": "47da2203",
   "metadata": {},
   "outputs": [],
   "source": []
  }
 ],
 "metadata": {
  "kernelspec": {
   "display_name": "Python 3 (ipykernel)",
   "language": "python",
   "name": "python3"
  },
  "language_info": {
   "codemirror_mode": {
    "name": "ipython",
    "version": 3
   },
   "file_extension": ".py",
   "mimetype": "text/x-python",
   "name": "python",
   "nbconvert_exporter": "python",
   "pygments_lexer": "ipython3",
   "version": "3.9.7"
  }
 },
 "nbformat": 4,
 "nbformat_minor": 5
}
