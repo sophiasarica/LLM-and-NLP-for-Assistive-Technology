{
 "cells": [
  {
   "cell_type": "markdown",
   "metadata": {
    "colab_type": "text",
    "id": "39tfJzLBMLjF"
   },
   "source": [
    "#### Section Intro"
   ]
  },
  {
   "cell_type": "code",
   "execution_count": 2,
   "metadata": {
    "colab": {},
    "colab_type": "code",
    "id": "gSmhTpMpMOY1"
   },
   "outputs": [],
   "source": [
    "import sys"
   ]
  },
  {
   "cell_type": "code",
   "execution_count": 4,
   "metadata": {
    "colab": {
     "base_uri": "https://localhost:8080/",
     "height": 34
    },
    "colab_type": "code",
    "id": "TaiUUF2QMOqc",
    "outputId": "96853fe9-1bfa-4adc-d329-2ba423e36daa"
   },
   "outputs": [
    {
     "data": {
      "text/plain": [
       "'3.9.7 (default, Sep 16 2021, 08:50:36) \\n[Clang 10.0.0 ]'"
      ]
     },
     "execution_count": 4,
     "metadata": {},
     "output_type": "execute_result"
    }
   ],
   "source": [
    "sys.version"
   ]
  },
  {
   "cell_type": "markdown",
   "metadata": {
    "colab_type": "text",
    "id": "k_KCUC6eMeKl"
   },
   "source": [
    "Agenda:"
   ]
  },
  {
   "cell_type": "markdown",
   "metadata": {
    "colab_type": "text",
    "id": "8gOg5O3EMeGb"
   },
   "source": [
    "- fundamental data types\n",
    "- containers\n",
    "- iteration and membership\n",
    "- control flow: if, else, elif and for, while loops\n",
    "- comprehensions\n",
    "- function declarations and anonymous functions\n",
    "- modules & more"
   ]
  },
  {
   "cell_type": "markdown",
   "metadata": {
    "colab_type": "text",
    "id": "GKYj32csWh-F"
   },
   "source": [
    "![alt text](https://img.freepik.com/free-vector/black-dark-3d-low-poly-geometric-background_79145-393.jpg?size=626&ext=jpg)"
   ]
  },
  {
   "cell_type": "code",
   "execution_count": null,
   "metadata": {
    "colab": {},
    "colab_type": "code",
    "id": "mrIX3dsFWiG_"
   },
   "outputs": [],
   "source": []
  },
  {
   "cell_type": "code",
   "execution_count": null,
   "metadata": {
    "colab": {},
    "colab_type": "code",
    "id": "X4l8VXbFWiYr"
   },
   "outputs": [],
   "source": []
  },
  {
   "cell_type": "code",
   "execution_count": null,
   "metadata": {
    "colab": {},
    "colab_type": "code",
    "id": "vgChVCjgWih1"
   },
   "outputs": [],
   "source": []
  },
  {
   "cell_type": "code",
   "execution_count": null,
   "metadata": {
    "colab": {},
    "colab_type": "code",
    "id": "XT3Qn4DcWipN"
   },
   "outputs": [],
   "source": []
  },
  {
   "cell_type": "code",
   "execution_count": null,
   "metadata": {
    "colab": {},
    "colab_type": "code",
    "id": "dm_GIjMXWiw2"
   },
   "outputs": [],
   "source": []
  },
  {
   "cell_type": "markdown",
   "metadata": {
    "colab_type": "text",
    "id": "j0XYiqY1HsXR"
   },
   "source": [
    "#### Data Types"
   ]
  },
  {
   "cell_type": "markdown",
   "metadata": {
    "colab_type": "text",
    "id": "K8NOncjSHuBD"
   },
   "source": [
    "* every object in python will have a type"
   ]
  },
  {
   "cell_type": "code",
   "execution_count": null,
   "metadata": {
    "colab": {},
    "colab_type": "code",
    "id": "S4-78rOMJ4yC"
   },
   "outputs": [],
   "source": [
    "# fundamental data types\n",
    "int, float, bool, str, tuple, list, set, dict"
   ]
  },
  {
   "cell_type": "markdown",
   "metadata": {
    "colab_type": "text",
    "id": "_C4btbZ5J6T1"
   },
   "source": [
    "* there's also None (NoneType)"
   ]
  },
  {
   "cell_type": "code",
   "execution_count": null,
   "metadata": {
    "colab": {},
    "colab_type": "code",
    "id": "GTsYyA3CKlbO"
   },
   "outputs": [],
   "source": [
    "None"
   ]
  },
  {
   "cell_type": "markdown",
   "metadata": {
    "colab_type": "text",
    "id": "7bw9jiHoHuTU"
   },
   "source": [
    "* the type will determine what properties and behaviors apply to that object"
   ]
  },
  {
   "cell_type": "markdown",
   "metadata": {
    "colab_type": "text",
    "id": "WMXYH7ouHuZu"
   },
   "source": [
    "* we could check type using the type() built-in function"
   ]
  },
  {
   "cell_type": "code",
   "execution_count": null,
   "metadata": {
    "colab": {
     "base_uri": "https://localhost:8080/",
     "height": 34
    },
    "colab_type": "code",
    "id": "cLDisJHGINdB",
    "outputId": "941f175e-f484-4d3a-d020-badb2524e413"
   },
   "outputs": [
    {
     "data": {
      "text/plain": [
       "2"
      ]
     },
     "execution_count": 342,
     "metadata": {
      "tags": []
     },
     "output_type": "execute_result"
    }
   ],
   "source": [
    "2"
   ]
  },
  {
   "cell_type": "code",
   "execution_count": 5,
   "metadata": {
    "colab": {
     "base_uri": "https://localhost:8080/",
     "height": 34
    },
    "colab_type": "code",
    "id": "WyAXXfP2INY7",
    "outputId": "bee14521-9c85-4a40-a2af-5fbbe229b4c4"
   },
   "outputs": [
    {
     "data": {
      "text/plain": [
       "int"
      ]
     },
     "execution_count": 5,
     "metadata": {},
     "output_type": "execute_result"
    }
   ],
   "source": [
    "type(2)"
   ]
  },
  {
   "cell_type": "code",
   "execution_count": 6,
   "metadata": {
    "colab": {
     "base_uri": "https://localhost:8080/",
     "height": 34
    },
    "colab_type": "code",
    "id": "XpU5ppZeINVX",
    "outputId": "c3cd654f-a234-43a7-913f-7ca0f4ba143d"
   },
   "outputs": [
    {
     "data": {
      "text/plain": [
       "str"
      ]
     },
     "execution_count": 6,
     "metadata": {},
     "output_type": "execute_result"
    }
   ],
   "source": [
    "type('Andy')"
   ]
  },
  {
   "cell_type": "code",
   "execution_count": 10,
   "metadata": {
    "colab": {
     "base_uri": "https://localhost:8080/",
     "height": 34
    },
    "colab_type": "code",
    "id": "Pa9UYoeEINQ0",
    "outputId": "5b288ff0-72b1-4e5d-af0d-1563876a5cda"
   },
   "outputs": [
    {
     "name": "stdout",
     "output_type": "stream",
     "text": [
      "Hey, there\n"
     ]
    }
   ],
   "source": [
    "print('Hey, there')"
   ]
  },
  {
   "cell_type": "code",
   "execution_count": null,
   "metadata": {
    "colab": {},
    "colab_type": "code",
    "id": "hxKlrBa1INM2"
   },
   "outputs": [],
   "source": [
    "#built-in functions: type()"
   ]
  },
  {
   "cell_type": "code",
   "execution_count": 9,
   "metadata": {
    "colab": {},
    "colab_type": "code",
    "id": "aIBspejiINJG"
   },
   "outputs": [],
   "source": [
    "user_name, user_age = 'Sophia', 32"
   ]
  },
  {
   "cell_type": "raw",
   "metadata": {
    "colab": {},
    "colab_type": "code",
    "id": "y_WoqlmfINEd"
   },
   "source": []
  },
  {
   "cell_type": "code",
   "execution_count": 12,
   "metadata": {
    "colab": {},
    "colab_type": "code",
    "id": "qbe0lUPfHugA"
   },
   "outputs": [
    {
     "name": "stdout",
     "output_type": "stream",
     "text": [
      "32\n"
     ]
    }
   ],
   "source": [
    "print(user_age)"
   ]
  },
  {
   "cell_type": "markdown",
   "metadata": {
    "colab_type": "text",
    "id": "I0NW-Y5cH8PK"
   },
   "source": [
    "#### Arithmetic And Augmented Assignment Operators"
   ]
  },
  {
   "cell_type": "markdown",
   "metadata": {
    "colab_type": "text",
    "id": "wR4d3gFLDwgf"
   },
   "source": [
    "* basic arithmetics with +, -, *, /"
   ]
  },
  {
   "cell_type": "markdown",
   "metadata": {
    "colab_type": "text",
    "id": "F51SzSPfD0Ee"
   },
   "source": [
    "* augmented assignment operators"
   ]
  },
  {
   "cell_type": "code",
   "execution_count": 23,
   "metadata": {
    "colab": {},
    "colab_type": "code",
    "id": "5M1jSXtJGH66"
   },
   "outputs": [],
   "source": [
    "counter = 0"
   ]
  },
  {
   "cell_type": "code",
   "execution_count": null,
   "metadata": {
    "colab": {},
    "colab_type": "code",
    "id": "GZzGxLpTGI3V"
   },
   "outputs": [],
   "source": [
    "# task: increment the counter by 1        ##augmented - artirilmis"
   ]
  },
  {
   "cell_type": "code",
   "execution_count": 24,
   "metadata": {
    "colab": {},
    "colab_type": "code",
    "id": "wkYQQPjvGMXE"
   },
   "outputs": [],
   "source": [
    "counter = counter + 1"
   ]
  },
  {
   "cell_type": "code",
   "execution_count": 25,
   "metadata": {
    "colab": {},
    "colab_type": "code",
    "id": "dmW4RC74GUy8"
   },
   "outputs": [],
   "source": [
    "counter += 1"
   ]
  },
  {
   "cell_type": "code",
   "execution_count": 26,
   "metadata": {
    "colab": {},
    "colab_type": "code",
    "id": "fCxtfkDsGe7E"
   },
   "outputs": [],
   "source": [
    "counter *= 2"
   ]
  },
  {
   "cell_type": "code",
   "execution_count": 27,
   "metadata": {
    "colab": {
     "base_uri": "https://localhost:8080/",
     "height": 34
    },
    "colab_type": "code",
    "id": "klBjPas9GOV_",
    "outputId": "c81eb9e2-23a4-46be-f3f3-a4ad0acd7593"
   },
   "outputs": [
    {
     "data": {
      "text/plain": [
       "4"
      ]
     },
     "execution_count": 27,
     "metadata": {},
     "output_type": "execute_result"
    }
   ],
   "source": [
    "counter"
   ]
  },
  {
   "cell_type": "code",
   "execution_count": 28,
   "metadata": {},
   "outputs": [],
   "source": [
    "counter = 1989"
   ]
  },
  {
   "cell_type": "raw",
   "metadata": {},
   "source": [
    "counter += 10"
   ]
  },
  {
   "cell_type": "raw",
   "metadata": {},
   "source": []
  },
  {
   "cell_type": "raw",
   "metadata": {},
   "source": []
  },
  {
   "cell_type": "code",
   "execution_count": 39,
   "metadata": {},
   "outputs": [],
   "source": [
    "counter+= 10"
   ]
  },
  {
   "cell_type": "code",
   "execution_count": 40,
   "metadata": {},
   "outputs": [
    {
     "name": "stdout",
     "output_type": "stream",
     "text": [
      "2029\n"
     ]
    }
   ],
   "source": [
    "print(counter)"
   ]
  },
  {
   "cell_type": "code",
   "execution_count": 34,
   "metadata": {},
   "outputs": [
    {
     "name": "stdout",
     "output_type": "stream",
     "text": [
      "1999\n"
     ]
    }
   ],
   "source": [
    "print(counter)"
   ]
  },
  {
   "cell_type": "code",
   "execution_count": null,
   "metadata": {},
   "outputs": [],
   "source": []
  },
  {
   "cell_type": "markdown",
   "metadata": {
    "colab_type": "text",
    "id": "AnuSNHgLDuNa"
   },
   "source": [
    "* other operators worth knowing about: **, %"
   ]
  },
  {
   "cell_type": "code",
   "execution_count": null,
   "metadata": {
    "colab": {},
    "colab_type": "code",
    "id": "w5YmpkGUGjJF"
   },
   "outputs": [],
   "source": [
    "# 2 cubed"
   ]
  },
  {
   "cell_type": "code",
   "execution_count": null,
   "metadata": {
    "colab": {
     "base_uri": "https://localhost:8080/",
     "height": 34
    },
    "colab_type": "code",
    "id": "jf-rdbAnGlpw",
    "outputId": "51d0d644-cbbc-421a-9d37-140d41161762"
   },
   "outputs": [
    {
     "data": {
      "text/plain": [
       "8"
      ]
     },
     "execution_count": 324,
     "metadata": {
      "tags": []
     },
     "output_type": "execute_result"
    }
   ],
   "source": [
    "2 ** 3"
   ]
  },
  {
   "cell_type": "code",
   "execution_count": null,
   "metadata": {
    "colab": {
     "base_uri": "https://localhost:8080/",
     "height": 34
    },
    "colab_type": "code",
    "id": "AtWajqpzGmvv",
    "outputId": "4fd1b46b-a482-4fd7-c732-90a4a8033f54"
   },
   "outputs": [
    {
     "data": {
      "text/plain": [
       "4"
      ]
     },
     "execution_count": 325,
     "metadata": {
      "tags": []
     },
     "output_type": "execute_result"
    }
   ],
   "source": [
    "2 ** 2"
   ]
  },
  {
   "cell_type": "code",
   "execution_count": null,
   "metadata": {
    "colab": {
     "base_uri": "https://localhost:8080/",
     "height": 34
    },
    "colab_type": "code",
    "id": "pW9BoO_oGoGo",
    "outputId": "57edd58e-f276-42ef-d92f-b91fd337922d"
   },
   "outputs": [
    {
     "data": {
      "text/plain": [
       "16"
      ]
     },
     "execution_count": 326,
     "metadata": {
      "tags": []
     },
     "output_type": "execute_result"
    }
   ],
   "source": [
    "2**4"
   ]
  },
  {
   "cell_type": "code",
   "execution_count": null,
   "metadata": {
    "colab": {},
    "colab_type": "code",
    "id": "PAgtZ4YMGp1R"
   },
   "outputs": [],
   "source": [
    "# modulo operator"
   ]
  },
  {
   "cell_type": "code",
   "execution_count": null,
   "metadata": {
    "colab": {},
    "colab_type": "code",
    "id": "_DkKilu-GrOG"
   },
   "outputs": [],
   "source": [
    "# num % div"
   ]
  },
  {
   "cell_type": "code",
   "execution_count": null,
   "metadata": {
    "colab": {
     "base_uri": "https://localhost:8080/",
     "height": 34
    },
    "colab_type": "code",
    "id": "3gCMbcNuGuC4",
    "outputId": "a1888f99-5486-40c9-c0f5-52cac495584e"
   },
   "outputs": [
    {
     "data": {
      "text/plain": [
       "1"
      ]
     },
     "execution_count": 328,
     "metadata": {
      "tags": []
     },
     "output_type": "execute_result"
    }
   ],
   "source": [
    "5 % 2"
   ]
  },
  {
   "cell_type": "code",
   "execution_count": null,
   "metadata": {
    "colab": {
     "base_uri": "https://localhost:8080/",
     "height": 34
    },
    "colab_type": "code",
    "id": "iGC4TVi6GwMx",
    "outputId": "53ba30e1-4888-4986-a987-e636bca091f8"
   },
   "outputs": [
    {
     "data": {
      "text/plain": [
       "2"
      ]
     },
     "execution_count": 329,
     "metadata": {
      "tags": []
     },
     "output_type": "execute_result"
    }
   ],
   "source": [
    "5 % 3"
   ]
  },
  {
   "cell_type": "code",
   "execution_count": null,
   "metadata": {
    "colab": {
     "base_uri": "https://localhost:8080/",
     "height": 34
    },
    "colab_type": "code",
    "id": "5FLnz4eLGx45",
    "outputId": "85c2c7c7-8fe6-445c-a82f-ebf98719c7f4"
   },
   "outputs": [
    {
     "data": {
      "text/plain": [
       "0"
      ]
     },
     "execution_count": 330,
     "metadata": {
      "tags": []
     },
     "output_type": "execute_result"
    }
   ],
   "source": [
    "4 % 2"
   ]
  },
  {
   "cell_type": "code",
   "execution_count": null,
   "metadata": {
    "colab": {},
    "colab_type": "code",
    "id": "3r25npH8G0QO"
   },
   "outputs": [],
   "source": [
    "# Q: check if a given number is odd or even"
   ]
  },
  {
   "cell_type": "code",
   "execution_count": null,
   "metadata": {
    "colab": {
     "base_uri": "https://localhost:8080/",
     "height": 34
    },
    "colab_type": "code",
    "id": "xx6s0lj9G0MA",
    "outputId": "703247a8-4b7f-4cb4-9feb-25ac534cd499"
   },
   "outputs": [
    {
     "data": {
      "text/plain": [
       "0"
      ]
     },
     "execution_count": 334,
     "metadata": {
      "tags": []
     },
     "output_type": "execute_result"
    }
   ],
   "source": [
    "12312312 % 2 # even"
   ]
  },
  {
   "cell_type": "code",
   "execution_count": null,
   "metadata": {
    "colab": {
     "base_uri": "https://localhost:8080/",
     "height": 34
    },
    "colab_type": "code",
    "id": "piCF3Oi_Gz5S",
    "outputId": "7266a2ee-2aa2-4f11-8dc1-a42c9323b209"
   },
   "outputs": [
    {
     "data": {
      "text/plain": [
       "1"
      ]
     },
     "execution_count": 333,
     "metadata": {
      "tags": []
     },
     "output_type": "execute_result"
    }
   ],
   "source": [
    "123123211 % 2 # odd"
   ]
  },
  {
   "cell_type": "markdown",
   "metadata": {
    "colab_type": "text",
    "id": "25UJpEovDtEx"
   },
   "source": [
    "* operator precedence: PEMDAS"
   ]
  },
  {
   "cell_type": "code",
   "execution_count": 43,
   "metadata": {},
   "outputs": [],
   "source": [
    "#Parantesis - Expo - Multiplication - Division - Addition - Substaction "
   ]
  },
  {
   "cell_type": "code",
   "execution_count": null,
   "metadata": {
    "colab": {
     "base_uri": "https://localhost:8080/",
     "height": 34
    },
    "colab_type": "code",
    "id": "9EHMZIXeHDZ-",
    "outputId": "e7395263-f6f7-41ae-c55e-438653fff8cf"
   },
   "outputs": [
    {
     "data": {
      "text/plain": [
       "16"
      ]
     },
     "execution_count": 335,
     "metadata": {
      "tags": []
     },
     "output_type": "execute_result"
    }
   ],
   "source": [
    "(2 - 1) * 4 ** 2"
   ]
  },
  {
   "cell_type": "code",
   "execution_count": null,
   "metadata": {
    "colab": {},
    "colab_type": "code",
    "id": "fxb9PsRwHDjq"
   },
   "outputs": [],
   "source": [
    "1 * 4 ** 2"
   ]
  },
  {
   "cell_type": "code",
   "execution_count": null,
   "metadata": {
    "colab": {},
    "colab_type": "code",
    "id": "YBT45uQGHDon"
   },
   "outputs": [],
   "source": [
    "1 * 16"
   ]
  },
  {
   "cell_type": "code",
   "execution_count": null,
   "metadata": {
    "colab": {},
    "colab_type": "code",
    "id": "ACZjUgcjHDtN"
   },
   "outputs": [],
   "source": [
    "16"
   ]
  },
  {
   "cell_type": "code",
   "execution_count": null,
   "metadata": {
    "colab": {},
    "colab_type": "code",
    "id": "-BQ42N_8HDx-"
   },
   "outputs": [],
   "source": []
  },
  {
   "cell_type": "code",
   "execution_count": null,
   "metadata": {
    "colab": {},
    "colab_type": "code",
    "id": "lKxFdKLiFoux"
   },
   "outputs": [],
   "source": [
    "num1 = 39"
   ]
  },
  {
   "cell_type": "code",
   "execution_count": null,
   "metadata": {
    "colab": {},
    "colab_type": "code",
    "id": "30-AazreFoOb"
   },
   "outputs": [],
   "source": [
    "num2 = 40"
   ]
  },
  {
   "cell_type": "code",
   "execution_count": null,
   "metadata": {
    "colab": {
     "base_uri": "https://localhost:8080/",
     "height": 34
    },
    "colab_type": "code",
    "id": "Mj7EyORJFoJP",
    "outputId": "dddc1b72-9ddd-4885-8d73-f2b743533f84"
   },
   "outputs": [
    {
     "data": {
      "text/plain": [
       "79"
      ]
     },
     "execution_count": 306,
     "metadata": {
      "tags": []
     },
     "output_type": "execute_result"
    }
   ],
   "source": [
    "num1 + num2"
   ]
  },
  {
   "cell_type": "code",
   "execution_count": null,
   "metadata": {
    "colab": {
     "base_uri": "https://localhost:8080/",
     "height": 34
    },
    "colab_type": "code",
    "id": "0tg9-dhLFoET",
    "outputId": "0060d95f-ba58-47b4-e653-adbfd1a0b8b3"
   },
   "outputs": [
    {
     "data": {
      "text/plain": [
       "79"
      ]
     },
     "execution_count": 307,
     "metadata": {
      "tags": []
     },
     "output_type": "execute_result"
    }
   ],
   "source": [
    "39 + 40"
   ]
  },
  {
   "cell_type": "code",
   "execution_count": null,
   "metadata": {
    "colab": {
     "base_uri": "https://localhost:8080/",
     "height": 34
    },
    "colab_type": "code",
    "id": "SECSkb2sFn_t",
    "outputId": "b8b546cc-1027-47a8-8bf3-36031bb2b13f"
   },
   "outputs": [
    {
     "data": {
      "text/plain": [
       "1560"
      ]
     },
     "execution_count": 308,
     "metadata": {
      "tags": []
     },
     "output_type": "execute_result"
    }
   ],
   "source": [
    "num1 * num2"
   ]
  },
  {
   "cell_type": "code",
   "execution_count": null,
   "metadata": {
    "colab": {
     "base_uri": "https://localhost:8080/",
     "height": 34
    },
    "colab_type": "code",
    "id": "MauFDh0aFn6_",
    "outputId": "e56775da-d093-4035-9460-3575a88faace"
   },
   "outputs": [
    {
     "data": {
      "text/plain": [
       "0.975"
      ]
     },
     "execution_count": 309,
     "metadata": {
      "tags": []
     },
     "output_type": "execute_result"
    }
   ],
   "source": [
    "num1 / num2"
   ]
  },
  {
   "cell_type": "code",
   "execution_count": null,
   "metadata": {
    "colab": {
     "base_uri": "https://localhost:8080/",
     "height": 34
    },
    "colab_type": "code",
    "id": "0U6VmTUXFn3d",
    "outputId": "e544d7a8-1347-4fa6-91a2-598d9b3bc892"
   },
   "outputs": [
    {
     "data": {
      "text/plain": [
       "-1"
      ]
     },
     "execution_count": 310,
     "metadata": {
      "tags": []
     },
     "output_type": "execute_result"
    }
   ],
   "source": [
    "num1 - num2"
   ]
  },
  {
   "cell_type": "code",
   "execution_count": null,
   "metadata": {
    "colab": {},
    "colab_type": "code",
    "id": "GQ8is5I0FnzY"
   },
   "outputs": [],
   "source": []
  },
  {
   "cell_type": "code",
   "execution_count": null,
   "metadata": {
    "colab": {},
    "colab_type": "code",
    "id": "N_zhoOS4D_wH"
   },
   "outputs": [],
   "source": []
  },
  {
   "cell_type": "markdown",
   "metadata": {
    "colab_type": "text",
    "id": "5ZWFvFjCM7Ou"
   },
   "source": [
    "#### Variables"
   ]
  },
  {
   "cell_type": "markdown",
   "metadata": {
    "colab_type": "text",
    "id": "krS9i31WYCkI"
   },
   "source": [
    "##### ❓ What are they?"
   ]
  },
  {
   "cell_type": "markdown",
   "metadata": {
    "colab_type": "text",
    "id": "r66gPJhqYF42"
   },
   "source": [
    "* variables hold values and have a name"
   ]
  },
  {
   "cell_type": "markdown",
   "metadata": {
    "colab_type": "text",
    "id": "Yh-DwGVHYI5N"
   },
   "source": [
    "* in other words, they bind a value to a name\n"
   ]
  },
  {
   "cell_type": "markdown",
   "metadata": {
    "colab_type": "text",
    "id": "F2ukcvOKYTJ4"
   },
   "source": [
    "##### 📝 Variable Naming"
   ]
  },
  {
   "cell_type": "markdown",
   "metadata": {
    "colab_type": "text",
    "id": "HvlnLxJ7YVrn"
   },
   "source": [
    "* why is it important? "
   ]
  },
  {
   "cell_type": "markdown",
   "metadata": {
    "colab_type": "text",
    "id": "L5zZvG0QYZjl"
   },
   "source": [
    "* best practice: variable names should be descriptive"
   ]
  },
  {
   "cell_type": "markdown",
   "metadata": {
    "colab_type": "text",
    "id": "y3TbUr-QYf9X"
   },
   "source": [
    "* case-sensitive"
   ]
  },
  {
   "cell_type": "markdown",
   "metadata": {
    "colab_type": "text",
    "id": "DOPRGwkHZM3e"
   },
   "source": [
    "* variable naming is lowercase_word (also known as snake_case)"
   ]
  },
  {
   "cell_type": "markdown",
   "metadata": {
    "colab_type": "text",
    "id": "eVjhKJj_Yk1k"
   },
   "source": [
    "* python keywords cannot be used as variables"
   ]
  },
  {
   "cell_type": "markdown",
   "metadata": {
    "colab_type": "text",
    "id": "5v_wdXzdZUyw"
   },
   "source": [
    "##### 🥢 Variable Assignment"
   ]
  },
  {
   "cell_type": "markdown",
   "metadata": {
    "colab_type": "text",
    "id": "LMS34jv-ZYkj"
   },
   "source": [
    "* single variable assignment with \"=\""
   ]
  },
  {
   "cell_type": "markdown",
   "metadata": {
    "colab_type": "text",
    "id": "BvRZ-stdZd8A"
   },
   "source": [
    "* multiple variable assignment"
   ]
  },
  {
   "cell_type": "markdown",
   "metadata": {
    "colab_type": "text",
    "id": "hmRvdyOAVlMb"
   },
   "source": [
    "##### _"
   ]
  },
  {
   "cell_type": "code",
   "execution_count": null,
   "metadata": {
    "colab": {},
    "colab_type": "code",
    "id": "MwxkN4yEdUeu"
   },
   "outputs": [],
   "source": [
    "username = \"Andy\""
   ]
  },
  {
   "cell_type": "code",
   "execution_count": null,
   "metadata": {
    "colab": {},
    "colab_type": "code",
    "id": "cfJth9DpfMrh"
   },
   "outputs": [],
   "source": [
    "user_name, user_age, user_gender = 'Andy', 39, 'Male'"
   ]
  },
  {
   "cell_type": "code",
   "execution_count": null,
   "metadata": {
    "colab": {
     "base_uri": "https://localhost:8080/"
    },
    "colab_type": "code",
    "id": "LrbUpjTzfVuQ",
    "outputId": "eda1be5e-ede4-4b8c-94b8-ccdcb984cd13"
   },
   "outputs": [
    {
     "data": {
      "text/plain": [
       "39"
      ]
     },
     "execution_count": 3,
     "metadata": {
      "tags": []
     },
     "output_type": "execute_result"
    }
   ],
   "source": [
    "user_age"
   ]
  },
  {
   "cell_type": "code",
   "execution_count": null,
   "metadata": {
    "colab": {
     "base_uri": "https://localhost:8080/"
    },
    "colab_type": "code",
    "id": "05Jc7axrfW36",
    "outputId": "b6c520b6-d33a-4502-8559-e7e66064e1c5"
   },
   "outputs": [
    {
     "data": {
      "text/plain": [
       "'Male'"
      ]
     },
     "execution_count": 4,
     "metadata": {
      "tags": []
     },
     "output_type": "execute_result"
    }
   ],
   "source": [
    "user_gender"
   ]
  },
  {
   "cell_type": "code",
   "execution_count": null,
   "metadata": {
    "colab": {},
    "colab_type": "code",
    "id": "nSWJeyIPd18D"
   },
   "outputs": [],
   "source": [
    "u = 'Andrew'"
   ]
  },
  {
   "cell_type": "code",
   "execution_count": null,
   "metadata": {
    "colab": {
     "base_uri": "https://localhost:8080/"
    },
    "colab_type": "code",
    "id": "FRV3Weytdk9y",
    "outputId": "0d99a11b-54e8-43da-92f1-004a9107e2c7"
   },
   "outputs": [
    {
     "data": {
      "text/plain": [
       "'Andy'"
      ]
     },
     "execution_count": 6,
     "metadata": {
      "tags": []
     },
     "output_type": "execute_result"
    }
   ],
   "source": [
    "username"
   ]
  },
  {
   "cell_type": "code",
   "execution_count": null,
   "metadata": {
    "colab": {},
    "colab_type": "code",
    "id": "7dVobfL_dn8u"
   },
   "outputs": [],
   "source": [
    "age = 63"
   ]
  },
  {
   "cell_type": "code",
   "execution_count": null,
   "metadata": {
    "colab": {
     "base_uri": "https://localhost:8080/"
    },
    "colab_type": "code",
    "id": "V1IAm4FndpaV",
    "outputId": "f674a5e6-55e5-4be3-f008-d36d02d5d535"
   },
   "outputs": [
    {
     "data": {
      "text/plain": [
       "63"
      ]
     },
     "execution_count": 8,
     "metadata": {
      "tags": []
     },
     "output_type": "execute_result"
    }
   ],
   "source": [
    "age"
   ]
  },
  {
   "cell_type": "code",
   "execution_count": null,
   "metadata": {
    "colab": {},
    "colab_type": "code",
    "id": "zMqYd8kxdqOF"
   },
   "outputs": [],
   "source": [
    "# Age"
   ]
  },
  {
   "cell_type": "code",
   "execution_count": null,
   "metadata": {
    "colab": {},
    "colab_type": "code",
    "id": "drsw0mgzeIcr"
   },
   "outputs": [],
   "source": [
    "sdklfjalsewriouwe = \"Andy\"\n",
    "asdfsd_8234ljsfd = 'Andrew'"
   ]
  },
  {
   "cell_type": "code",
   "execution_count": null,
   "metadata": {
    "colab": {},
    "colab_type": "code",
    "id": "Q-pz13d0ezq0"
   },
   "outputs": [],
   "source": [
    "# else = 'Andy'"
   ]
  },
  {
   "cell_type": "code",
   "execution_count": null,
   "metadata": {
    "colab": {},
    "colab_type": "code",
    "id": "yw8U-9Poe4a-"
   },
   "outputs": [],
   "source": [
    "# else_player"
   ]
  },
  {
   "cell_type": "code",
   "execution_count": null,
   "metadata": {
    "colab": {},
    "colab_type": "code",
    "id": "dPKAVZH0eRf1"
   },
   "outputs": [],
   "source": [
    "# snake_case: user_name, user_age, capital_city"
   ]
  },
  {
   "cell_type": "markdown",
   "metadata": {
    "colab_type": "text",
    "id": "XhUxYlJ-eekG"
   },
   "source": [
    "#### Ints And Floats"
   ]
  },
  {
   "cell_type": "markdown",
   "metadata": {
    "colab_type": "text",
    "id": "KbgWYcorU7gu"
   },
   "source": [
    "##### Integers"
   ]
  },
  {
   "cell_type": "markdown",
   "metadata": {
    "colab_type": "text",
    "id": "_zMn2anrVMGp"
   },
   "source": [
    "* whole (complete) numbers, with *no* fractional value"
   ]
  },
  {
   "cell_type": "code",
   "execution_count": null,
   "metadata": {
    "colab": {
     "base_uri": "https://localhost:8080/"
    },
    "colab_type": "code",
    "id": "JUr7lKpQe3r3",
    "outputId": "791bb806-de61-44fd-f164-f46a61b51a37"
   },
   "outputs": [
    {
     "data": {
      "text/plain": [
       "4"
      ]
     },
     "execution_count": 14,
     "metadata": {
      "tags": []
     },
     "output_type": "execute_result"
    }
   ],
   "source": [
    "4"
   ]
  },
  {
   "cell_type": "code",
   "execution_count": null,
   "metadata": {
    "colab": {
     "base_uri": "https://localhost:8080/"
    },
    "colab_type": "code",
    "id": "IKIqvDTpe4ZM",
    "outputId": "bcf50ffe-2e8a-4951-efac-8583960be7ec"
   },
   "outputs": [
    {
     "data": {
      "text/plain": [
       "int"
      ]
     },
     "execution_count": 15,
     "metadata": {
      "tags": []
     },
     "output_type": "execute_result"
    }
   ],
   "source": [
    "type(4)"
   ]
  },
  {
   "cell_type": "code",
   "execution_count": null,
   "metadata": {
    "colab": {
     "base_uri": "https://localhost:8080/"
    },
    "colab_type": "code",
    "id": "brgMP1hxe6P3",
    "outputId": "f959f38e-cbfc-4704-84b2-003c1855dd49"
   },
   "outputs": [
    {
     "data": {
      "text/plain": [
       "10"
      ]
     },
     "execution_count": 16,
     "metadata": {
      "tags": []
     },
     "output_type": "execute_result"
    }
   ],
   "source": [
    "10"
   ]
  },
  {
   "cell_type": "code",
   "execution_count": null,
   "metadata": {
    "colab": {
     "base_uri": "https://localhost:8080/"
    },
    "colab_type": "code",
    "id": "xNO7BIbwe7NW",
    "outputId": "848cab24-b048-48a2-9539-b73c1b00369f"
   },
   "outputs": [
    {
     "data": {
      "text/plain": [
       "int"
      ]
     },
     "execution_count": 17,
     "metadata": {
      "tags": []
     },
     "output_type": "execute_result"
    }
   ],
   "source": [
    "type(10)"
   ]
  },
  {
   "cell_type": "markdown",
   "metadata": {
    "colab_type": "text",
    "id": "nioz7ddXVPXi"
   },
   "source": [
    "* useful for counting "
   ]
  },
  {
   "cell_type": "markdown",
   "metadata": {
    "colab_type": "text",
    "id": "9MezKwLGVebQ"
   },
   "source": [
    "##### Floats"
   ]
  },
  {
   "cell_type": "markdown",
   "metadata": {
    "colab_type": "text",
    "id": "dMbuuKqZVfzu"
   },
   "source": [
    "* dividing one integer by another gives us a float, or floating-point number"
   ]
  },
  {
   "cell_type": "code",
   "execution_count": null,
   "metadata": {
    "colab": {
     "base_uri": "https://localhost:8080/"
    },
    "colab_type": "code",
    "id": "YGyBUhJ7fG9s",
    "outputId": "36473b08-442a-4241-a6cb-ed1a1e450601"
   },
   "outputs": [
    {
     "data": {
      "text/plain": [
       "0.4"
      ]
     },
     "execution_count": 18,
     "metadata": {
      "tags": []
     },
     "output_type": "execute_result"
    }
   ],
   "source": [
    "4/10"
   ]
  },
  {
   "cell_type": "code",
   "execution_count": null,
   "metadata": {
    "colab": {
     "base_uri": "https://localhost:8080/"
    },
    "colab_type": "code",
    "id": "HIRPttjVfJrQ",
    "outputId": "627c2cea-5419-4379-ef75-07015e36774a"
   },
   "outputs": [
    {
     "data": {
      "text/plain": [
       "float"
      ]
     },
     "execution_count": 19,
     "metadata": {
      "tags": []
     },
     "output_type": "execute_result"
    }
   ],
   "source": [
    "type(4/10)"
   ]
  },
  {
   "cell_type": "code",
   "execution_count": null,
   "metadata": {
    "colab": {
     "base_uri": "https://localhost:8080/"
    },
    "colab_type": "code",
    "id": "ySAPyOPmfNzy",
    "outputId": "4ef28dda-4fc0-4a87-98ef-cadddd29c79e"
   },
   "outputs": [
    {
     "data": {
      "text/plain": [
       "2.0"
      ]
     },
     "execution_count": 20,
     "metadata": {
      "tags": []
     },
     "output_type": "execute_result"
    }
   ],
   "source": [
    "2.0"
   ]
  },
  {
   "cell_type": "code",
   "execution_count": null,
   "metadata": {
    "colab": {
     "base_uri": "https://localhost:8080/"
    },
    "colab_type": "code",
    "id": "JCGd5l-efPTf",
    "outputId": "ca9e9486-2b72-4ea5-aa28-f76e714c6605"
   },
   "outputs": [
    {
     "data": {
      "text/plain": [
       "float"
      ]
     },
     "execution_count": 21,
     "metadata": {
      "tags": []
     },
     "output_type": "execute_result"
    }
   ],
   "source": [
    "type(2.0)"
   ]
  },
  {
   "cell_type": "code",
   "execution_count": null,
   "metadata": {
    "colab": {
     "base_uri": "https://localhost:8080/"
    },
    "colab_type": "code",
    "id": "dAAdmMrYfU8t",
    "outputId": "ce1369e9-615b-4b1a-afe3-ddcdc50c2bc8"
   },
   "outputs": [
    {
     "data": {
      "text/plain": [
       "2.0"
      ]
     },
     "execution_count": 22,
     "metadata": {
      "tags": []
     },
     "output_type": "execute_result"
    }
   ],
   "source": [
    "2."
   ]
  },
  {
   "cell_type": "code",
   "execution_count": null,
   "metadata": {
    "colab": {
     "base_uri": "https://localhost:8080/"
    },
    "colab_type": "code",
    "id": "qDwy0CXqfXuH",
    "outputId": "aa925c7a-a880-4de5-c122-121b37693127"
   },
   "outputs": [
    {
     "data": {
      "text/plain": [
       "float"
      ]
     },
     "execution_count": 23,
     "metadata": {
      "tags": []
     },
     "output_type": "execute_result"
    }
   ],
   "source": [
    "type(2.)"
   ]
  },
  {
   "cell_type": "markdown",
   "metadata": {
    "colab_type": "text",
    "id": "FWL3BachWdOd"
   },
   "source": [
    "* floats represent real numbers with fractional values"
   ]
  },
  {
   "cell_type": "markdown",
   "metadata": {
    "colab_type": "text",
    "id": "eOIGXjTdW-DF"
   },
   "source": [
    "##### Ints and Floats"
   ]
  },
  {
   "cell_type": "markdown",
   "metadata": {
    "colab_type": "text",
    "id": "Uq_vDSChXDbv"
   },
   "source": [
    "* operations between ints and floats always produce floats"
   ]
  },
  {
   "cell_type": "code",
   "execution_count": null,
   "metadata": {
    "colab": {
     "base_uri": "https://localhost:8080/"
    },
    "colab_type": "code",
    "id": "U9gNpraTfb-t",
    "outputId": "c384da21-82bb-4617-ef40-2a1d3868b944"
   },
   "outputs": [
    {
     "data": {
      "text/plain": [
       "2.0"
      ]
     },
     "execution_count": 24,
     "metadata": {
      "tags": []
     },
     "output_type": "execute_result"
    }
   ],
   "source": [
    "1.0 + 1 "
   ]
  },
  {
   "cell_type": "code",
   "execution_count": null,
   "metadata": {
    "colab": {
     "base_uri": "https://localhost:8080/"
    },
    "colab_type": "code",
    "id": "4JdxQIj5fdz1",
    "outputId": "1affa614-619e-4584-84f8-f756b4a7ebf4"
   },
   "outputs": [
    {
     "data": {
      "text/plain": [
       "float"
      ]
     },
     "execution_count": 25,
     "metadata": {
      "tags": []
     },
     "output_type": "execute_result"
    }
   ],
   "source": [
    "type(1.0 + 1)"
   ]
  },
  {
   "cell_type": "code",
   "execution_count": null,
   "metadata": {
    "colab": {
     "base_uri": "https://localhost:8080/"
    },
    "colab_type": "code",
    "id": "pKiGRCf9fe4n",
    "outputId": "e4bd0fd1-33de-48fd-b392-a8615d7c1bb5"
   },
   "outputs": [
    {
     "data": {
      "text/plain": [
       "1.0"
      ]
     },
     "execution_count": 26,
     "metadata": {
      "tags": []
     },
     "output_type": "execute_result"
    }
   ],
   "source": [
    "3.0 - 2 "
   ]
  },
  {
   "cell_type": "code",
   "execution_count": null,
   "metadata": {
    "colab": {
     "base_uri": "https://localhost:8080/"
    },
    "colab_type": "code",
    "id": "e7Un_Itffho2",
    "outputId": "1655f02f-62e7-4178-88e1-4d45ba7973ae"
   },
   "outputs": [
    {
     "data": {
      "text/plain": [
       "100.0"
      ]
     },
     "execution_count": 27,
     "metadata": {
      "tags": []
     },
     "output_type": "execute_result"
    }
   ],
   "source": [
    "10 * 10.0"
   ]
  },
  {
   "cell_type": "markdown",
   "metadata": {
    "colab_type": "text",
    "id": "p_JjX1NDXHwG"
   },
   "source": [
    "* we could convert floats to ints, and vice versa"
   ]
  },
  {
   "cell_type": "code",
   "execution_count": null,
   "metadata": {
    "colab": {
     "base_uri": "https://localhost:8080/"
    },
    "colab_type": "code",
    "id": "QP0tZGxJfmDG",
    "outputId": "3d10fb5f-5b95-4dee-e312-97a618d6d1e2"
   },
   "outputs": [
    {
     "data": {
      "text/plain": [
       "float"
      ]
     },
     "execution_count": 28,
     "metadata": {
      "tags": []
     },
     "output_type": "execute_result"
    }
   ],
   "source": [
    "type(3.0)"
   ]
  },
  {
   "cell_type": "code",
   "execution_count": null,
   "metadata": {
    "colab": {
     "base_uri": "https://localhost:8080/"
    },
    "colab_type": "code",
    "id": "Xo6a42Mffo3o",
    "outputId": "243b3ff8-198d-4230-c84d-840e6c361dd8"
   },
   "outputs": [
    {
     "data": {
      "text/plain": [
       "3"
      ]
     },
     "execution_count": 29,
     "metadata": {
      "tags": []
     },
     "output_type": "execute_result"
    }
   ],
   "source": [
    "int(3.0)"
   ]
  },
  {
   "cell_type": "code",
   "execution_count": null,
   "metadata": {
    "colab": {
     "base_uri": "https://localhost:8080/"
    },
    "colab_type": "code",
    "id": "aPQpfnkvfqSz",
    "outputId": "15ec8e07-dbb0-4cfe-ab62-53763ecf9ef4"
   },
   "outputs": [
    {
     "data": {
      "text/plain": [
       "int"
      ]
     },
     "execution_count": 30,
     "metadata": {
      "tags": []
     },
     "output_type": "execute_result"
    }
   ],
   "source": [
    "type(100)"
   ]
  },
  {
   "cell_type": "code",
   "execution_count": null,
   "metadata": {
    "colab": {
     "base_uri": "https://localhost:8080/"
    },
    "colab_type": "code",
    "id": "IrolPxzRfrdv",
    "outputId": "242f503b-0be9-46c1-b338-e6626c7d5718"
   },
   "outputs": [
    {
     "data": {
      "text/plain": [
       "100.0"
      ]
     },
     "execution_count": 31,
     "metadata": {
      "tags": []
     },
     "output_type": "execute_result"
    }
   ],
   "source": [
    "float(100)"
   ]
  },
  {
   "cell_type": "code",
   "execution_count": null,
   "metadata": {
    "colab": {
     "base_uri": "https://localhost:8080/"
    },
    "colab_type": "code",
    "id": "ocMFFjgeft-A",
    "outputId": "dd2c609f-3a38-405b-bcb4-6f7da0a41400"
   },
   "outputs": [
    {
     "data": {
      "text/plain": [
       "3"
      ]
     },
     "execution_count": 32,
     "metadata": {
      "tags": []
     },
     "output_type": "execute_result"
    }
   ],
   "source": [
    "int(3.1416)"
   ]
  },
  {
   "cell_type": "code",
   "execution_count": null,
   "metadata": {
    "colab": {
     "base_uri": "https://localhost:8080/"
    },
    "colab_type": "code",
    "id": "A_mTQ5kAfzeR",
    "outputId": "55b5d100-08ae-431a-9609-8bb63e7e24ad"
   },
   "outputs": [
    {
     "data": {
      "text/plain": [
       "3"
      ]
     },
     "execution_count": 33,
     "metadata": {
      "tags": []
     },
     "output_type": "execute_result"
    }
   ],
   "source": [
    "int(3.99999999)"
   ]
  },
  {
   "cell_type": "code",
   "execution_count": 44,
   "metadata": {},
   "outputs": [
    {
     "data": {
      "text/plain": [
       "12.33333"
      ]
     },
     "execution_count": 44,
     "metadata": {},
     "output_type": "execute_result"
    }
   ],
   "source": [
    "float(12.33333)"
   ]
  },
  {
   "cell_type": "markdown",
   "metadata": {
    "colab_type": "text",
    "id": "5xSU2_ziXP9Q"
   },
   "source": [
    "* floats take up more place in memory than ints"
   ]
  },
  {
   "cell_type": "code",
   "execution_count": 45,
   "metadata": {},
   "outputs": [
    {
     "data": {
      "text/plain": [
       "10.0"
      ]
     },
     "execution_count": 45,
     "metadata": {},
     "output_type": "execute_result"
    }
   ],
   "source": [
    "float(10)"
   ]
  },
  {
   "cell_type": "code",
   "execution_count": 46,
   "metadata": {},
   "outputs": [
    {
     "data": {
      "text/plain": [
       "10"
      ]
     },
     "execution_count": 46,
     "metadata": {},
     "output_type": "execute_result"
    }
   ],
   "source": [
    "int(10.0)"
   ]
  },
  {
   "cell_type": "code",
   "execution_count": null,
   "metadata": {},
   "outputs": [],
   "source": []
  },
  {
   "cell_type": "code",
   "execution_count": null,
   "metadata": {},
   "outputs": [],
   "source": []
  },
  {
   "cell_type": "code",
   "execution_count": null,
   "metadata": {
    "colab": {},
    "colab_type": "code",
    "id": "S6rztVlyf6GP"
   },
   "outputs": [],
   "source": [
    "# 3 vs 3.0"
   ]
  },
  {
   "cell_type": "markdown",
   "metadata": {
    "colab_type": "text",
    "id": "19byOjKSXrV0"
   },
   "source": [
    "##### ⚠️ Floats Are Approximations!"
   ]
  },
  {
   "cell_type": "markdown",
   "metadata": {
    "colab_type": "text",
    "id": "hjO2CmpiXwMP"
   },
   "source": [
    "* computers store floating-point numbers as binary (base 2) fractions"
   ]
  },
  {
   "cell_type": "code",
   "execution_count": null,
   "metadata": {
    "colab": {
     "base_uri": "https://localhost:8080/"
    },
    "colab_type": "code",
    "id": "PI_8g1FggIZe",
    "outputId": "8ca857f6-87ad-476f-c09f-012b9afa7359"
   },
   "outputs": [
    {
     "data": {
      "text/plain": [
       "0.1"
      ]
     },
     "execution_count": 35,
     "metadata": {
      "tags": []
     },
     "output_type": "execute_result"
    }
   ],
   "source": [
    "0.1 # 1/10, base 10"
   ]
  },
  {
   "cell_type": "code",
   "execution_count": null,
   "metadata": {
    "colab": {
     "base_uri": "https://localhost:8080/"
    },
    "colab_type": "code",
    "id": "bGDR0I1WgYz8",
    "outputId": "4f14ac19-f4f8-4f58-dbee-bf74a920a221"
   },
   "outputs": [
    {
     "data": {
      "text/plain": [
       "0.1"
      ]
     },
     "execution_count": 36,
     "metadata": {
      "tags": []
     },
     "output_type": "execute_result"
    }
   ],
   "source": [
    "0.100000000000000010001"
   ]
  },
  {
   "cell_type": "markdown",
   "metadata": {
    "colab_type": "text",
    "id": "ep3pVFl1YM7O"
   },
   "source": [
    "* this may produce unexpected results with certain real numbers that do not have a precise binary representation"
   ]
  },
  {
   "cell_type": "code",
   "execution_count": null,
   "metadata": {
    "colab": {
     "base_uri": "https://localhost:8080/"
    },
    "colab_type": "code",
    "id": "y2ErgnkjghJy",
    "outputId": "d71ff563-5208-4ccd-a11a-2934f8a0248d"
   },
   "outputs": [
    {
     "data": {
      "text/plain": [
       "0.30000000000000004"
      ]
     },
     "execution_count": 37,
     "metadata": {
      "tags": []
     },
     "output_type": "execute_result"
    }
   ],
   "source": [
    "0.1 + 0.2 # = 0.3"
   ]
  },
  {
   "cell_type": "markdown",
   "metadata": {
    "colab_type": "text",
    "id": "BZfTHaM-gl-Y"
   },
   "source": [
    "#### Booleans And Comparison Operators"
   ]
  },
  {
   "cell_type": "markdown",
   "metadata": {
    "colab_type": "text",
    "id": "TyULVALbjOOD"
   },
   "source": [
    "* a bool represents the notion of True or False"
   ]
  },
  {
   "cell_type": "code",
   "execution_count": null,
   "metadata": {
    "colab": {
     "base_uri": "https://localhost:8080/"
    },
    "colab_type": "code",
    "id": "xopmdB_wmd5w",
    "outputId": "0b15505f-3d8e-4f95-e4e3-b148d183c8b1"
   },
   "outputs": [
    {
     "data": {
      "text/plain": [
       "True"
      ]
     },
     "execution_count": 38,
     "metadata": {
      "tags": []
     },
     "output_type": "execute_result"
    }
   ],
   "source": [
    "True"
   ]
  },
  {
   "cell_type": "code",
   "execution_count": null,
   "metadata": {
    "colab": {
     "base_uri": "https://localhost:8080/"
    },
    "colab_type": "code",
    "id": "-h5gHXBcmen8",
    "outputId": "7c9e2dbf-91c3-4e8e-a6c0-1b34ad19b5d7"
   },
   "outputs": [
    {
     "data": {
      "text/plain": [
       "bool"
      ]
     },
     "execution_count": 39,
     "metadata": {
      "tags": []
     },
     "output_type": "execute_result"
    }
   ],
   "source": [
    "type(True)"
   ]
  },
  {
   "cell_type": "code",
   "execution_count": null,
   "metadata": {
    "colab": {
     "base_uri": "https://localhost:8080/"
    },
    "colab_type": "code",
    "id": "T_AjZgGcmguS",
    "outputId": "309384a5-96b9-4c5a-e145-46e80cef6d63"
   },
   "outputs": [
    {
     "data": {
      "text/plain": [
       "bool"
      ]
     },
     "execution_count": 40,
     "metadata": {
      "tags": []
     },
     "output_type": "execute_result"
    }
   ],
   "source": [
    "type(False)"
   ]
  },
  {
   "cell_type": "code",
   "execution_count": null,
   "metadata": {
    "colab": {},
    "colab_type": "code",
    "id": "m4VP0zhXmi4i"
   },
   "outputs": [],
   "source": [
    "# type(true)"
   ]
  },
  {
   "cell_type": "markdown",
   "metadata": {
    "colab_type": "text",
    "id": "Jmw5bsNsjS7k"
   },
   "source": [
    "* we could generate bools using comparison operators"
   ]
  },
  {
   "cell_type": "code",
   "execution_count": null,
   "metadata": {
    "colab": {},
    "colab_type": "code",
    "id": "xGrepXvgmruo"
   },
   "outputs": [],
   "source": [
    "age         = 43\n",
    "retirement  = 64"
   ]
  },
  {
   "cell_type": "code",
   "execution_count": null,
   "metadata": {
    "colab": {
     "base_uri": "https://localhost:8080/"
    },
    "colab_type": "code",
    "id": "7v6IiAEkmxVO",
    "outputId": "7c626e2f-baef-46be-a53d-54cce01f1879"
   },
   "outputs": [
    {
     "data": {
      "text/plain": [
       "False"
      ]
     },
     "execution_count": 43,
     "metadata": {
      "tags": []
     },
     "output_type": "execute_result"
    }
   ],
   "source": [
    "age >= retirement"
   ]
  },
  {
   "cell_type": "code",
   "execution_count": null,
   "metadata": {
    "colab": {
     "base_uri": "https://localhost:8080/"
    },
    "colab_type": "code",
    "id": "Bqmjlcjtm3TF",
    "outputId": "8b5ddc37-440c-4204-af29-8e47a12949c0"
   },
   "outputs": [
    {
     "data": {
      "text/plain": [
       "False"
      ]
     },
     "execution_count": 44,
     "metadata": {
      "tags": []
     },
     "output_type": "execute_result"
    }
   ],
   "source": [
    "retirement < age"
   ]
  },
  {
   "cell_type": "code",
   "execution_count": null,
   "metadata": {
    "colab": {
     "base_uri": "https://localhost:8080/"
    },
    "colab_type": "code",
    "id": "zffiz00Ym6VI",
    "outputId": "8e2ec71d-fb08-43f7-ce8d-240fa5538893"
   },
   "outputs": [
    {
     "data": {
      "text/plain": [
       "True"
      ]
     },
     "execution_count": 45,
     "metadata": {
      "tags": []
     },
     "output_type": "execute_result"
    }
   ],
   "source": [
    "retirement != age"
   ]
  },
  {
   "cell_type": "code",
   "execution_count": null,
   "metadata": {
    "colab": {
     "base_uri": "https://localhost:8080/"
    },
    "colab_type": "code",
    "id": "vssaNco6m914",
    "outputId": "6abc9e3a-5a0f-48a5-9963-9d1e6e07f412"
   },
   "outputs": [
    {
     "data": {
      "text/plain": [
       "False"
      ]
     },
     "execution_count": 46,
     "metadata": {
      "tags": []
     },
     "output_type": "execute_result"
    }
   ],
   "source": [
    "retirement == age # comparison operatior '=='"
   ]
  },
  {
   "cell_type": "code",
   "execution_count": null,
   "metadata": {
    "colab": {},
    "colab_type": "code",
    "id": "qHV9tuP6nB4X"
   },
   "outputs": [],
   "source": [
    "# '=' assignment operator"
   ]
  },
  {
   "cell_type": "markdown",
   "metadata": {
    "colab_type": "text",
    "id": "X13jjDLsjZtZ"
   },
   "source": [
    "* ...and combine them using logical operators"
   ]
  },
  {
   "cell_type": "code",
   "execution_count": null,
   "metadata": {
    "colab": {
     "base_uri": "https://localhost:8080/"
    },
    "colab_type": "code",
    "id": "wHSc6Ko2nP3Z",
    "outputId": "f63a1793-db62-43ed-e3ac-34b853e90508"
   },
   "outputs": [
    {
     "data": {
      "text/plain": [
       "True"
      ]
     },
     "execution_count": 48,
     "metadata": {
      "tags": []
     },
     "output_type": "execute_result"
    }
   ],
   "source": [
    "True or True"
   ]
  },
  {
   "cell_type": "code",
   "execution_count": null,
   "metadata": {
    "colab": {
     "base_uri": "https://localhost:8080/"
    },
    "colab_type": "code",
    "id": "VNkFNJsHnSzl",
    "outputId": "a2f6cad9-b788-4b61-fa2d-74588d3cbc71"
   },
   "outputs": [
    {
     "data": {
      "text/plain": [
       "True"
      ]
     },
     "execution_count": 49,
     "metadata": {
      "tags": []
     },
     "output_type": "execute_result"
    }
   ],
   "source": [
    "True or False"
   ]
  },
  {
   "cell_type": "code",
   "execution_count": null,
   "metadata": {
    "colab": {
     "base_uri": "https://localhost:8080/"
    },
    "colab_type": "code",
    "id": "xbai5uxfnTmG",
    "outputId": "2265c28c-657c-49bc-b3d8-d192f92547fe"
   },
   "outputs": [
    {
     "data": {
      "text/plain": [
       "False"
      ]
     },
     "execution_count": 50,
     "metadata": {
      "tags": []
     },
     "output_type": "execute_result"
    }
   ],
   "source": [
    "True and False"
   ]
  },
  {
   "cell_type": "code",
   "execution_count": null,
   "metadata": {
    "colab": {
     "base_uri": "https://localhost:8080/"
    },
    "colab_type": "code",
    "id": "w685bFtVnUtB",
    "outputId": "35734891-0b33-4c09-f39a-5641b268f9fa"
   },
   "outputs": [
    {
     "data": {
      "text/plain": [
       "False"
      ]
     },
     "execution_count": 51,
     "metadata": {
      "tags": []
     },
     "output_type": "execute_result"
    }
   ],
   "source": [
    "False and False"
   ]
  },
  {
   "cell_type": "code",
   "execution_count": null,
   "metadata": {
    "colab": {
     "base_uri": "https://localhost:8080/"
    },
    "colab_type": "code",
    "id": "r1ehxgj5nW44",
    "outputId": "7a9f7d4d-3e06-4977-caa1-7785d1e17aaf"
   },
   "outputs": [
    {
     "data": {
      "text/plain": [
       "True"
      ]
     },
     "execution_count": 52,
     "metadata": {
      "tags": []
     },
     "output_type": "execute_result"
    }
   ],
   "source": [
    "not False"
   ]
  },
  {
   "cell_type": "code",
   "execution_count": null,
   "metadata": {
    "colab": {
     "base_uri": "https://localhost:8080/"
    },
    "colab_type": "code",
    "id": "kFF7dwxnnaRz",
    "outputId": "a0f442f2-63d2-412c-f41b-46d2b008b73d"
   },
   "outputs": [
    {
     "data": {
      "text/plain": [
       "False"
      ]
     },
     "execution_count": 53,
     "metadata": {
      "tags": []
     },
     "output_type": "execute_result"
    }
   ],
   "source": [
    "not True"
   ]
  },
  {
   "cell_type": "code",
   "execution_count": null,
   "metadata": {
    "colab": {
     "base_uri": "https://localhost:8080/"
    },
    "colab_type": "code",
    "id": "vNJpcj_Jnb_O",
    "outputId": "c1addf8c-de0a-4f7d-8289-5a21f8da5200"
   },
   "outputs": [
    {
     "data": {
      "text/plain": [
       "True"
      ]
     },
     "execution_count": 54,
     "metadata": {
      "tags": []
     },
     "output_type": "execute_result"
    }
   ],
   "source": [
    "(retirement == age) or True"
   ]
  },
  {
   "cell_type": "markdown",
   "metadata": {
    "colab_type": "text",
    "id": "jkZHq--knlup"
   },
   "source": [
    "#### Strings"
   ]
  },
  {
   "cell_type": "markdown",
   "metadata": {
    "colab_type": "text",
    "id": "Yc7L8GNttvA5"
   },
   "source": [
    "##### A string is juse a sequence of characters"
   ]
  },
  {
   "cell_type": "markdown",
   "metadata": {
    "colab_type": "text",
    "id": "Y8U8ypLBt7ye"
   },
   "source": [
    "* it is an ordered sequence of characters that could include any letters, numbers, symbols, punctuation, etc"
   ]
  },
  {
   "cell_type": "code",
   "execution_count": null,
   "metadata": {
    "colab": {
     "base_uri": "https://localhost:8080/"
    },
    "colab_type": "code",
    "id": "taBcPUraQiWP",
    "outputId": "3f32d893-9820-4a7d-d331-7868070e1216"
   },
   "outputs": [
    {
     "data": {
      "text/plain": [
       "'Andy'"
      ]
     },
     "execution_count": 55,
     "metadata": {
      "tags": []
     },
     "output_type": "execute_result"
    }
   ],
   "source": [
    "\"Andy\""
   ]
  },
  {
   "cell_type": "code",
   "execution_count": null,
   "metadata": {
    "colab": {
     "base_uri": "https://localhost:8080/"
    },
    "colab_type": "code",
    "id": "V-YQf5AaQkWF",
    "outputId": "2d76f011-de02-4739-b993-9b073240a586"
   },
   "outputs": [
    {
     "data": {
      "text/plain": [
       "str"
      ]
     },
     "execution_count": 56,
     "metadata": {
      "tags": []
     },
     "output_type": "execute_result"
    }
   ],
   "source": [
    "type('Andy')"
   ]
  },
  {
   "cell_type": "code",
   "execution_count": null,
   "metadata": {
    "colab": {
     "base_uri": "https://localhost:8080/"
    },
    "colab_type": "code",
    "id": "ZUcQDLxqQmqi",
    "outputId": "dfc58305-4bb2-4922-abae-e7423aebf197"
   },
   "outputs": [
    {
     "data": {
      "text/plain": [
       "str"
      ]
     },
     "execution_count": 57,
     "metadata": {
      "tags": []
     },
     "output_type": "execute_result"
    }
   ],
   "source": [
    "type('Andy - python, pandas, v3.9!!!!')"
   ]
  },
  {
   "cell_type": "markdown",
   "metadata": {
    "colab_type": "text",
    "id": "GeJi6Gm6uKnW"
   },
   "source": [
    "* we create string using ' ' or \" \""
   ]
  },
  {
   "cell_type": "code",
   "execution_count": null,
   "metadata": {
    "colab": {},
    "colab_type": "code",
    "id": "P1l5JfM9Qr85"
   },
   "outputs": [],
   "source": [
    "# '' or \"\""
   ]
  },
  {
   "cell_type": "markdown",
   "metadata": {
    "colab_type": "text",
    "id": "khErcG2A1CqO"
   },
   "source": [
    "* what about strings with ' ' or \" \" in them? "
   ]
  },
  {
   "cell_type": "code",
   "execution_count": null,
   "metadata": {
    "colab": {},
    "colab_type": "code",
    "id": "2hc0m86dQvhM"
   },
   "outputs": [],
   "source": [
    "# \"Let's code \"pandorably\"\""
   ]
  },
  {
   "cell_type": "code",
   "execution_count": null,
   "metadata": {
    "colab": {},
    "colab_type": "code",
    "id": "Gl1DdNa3Q_NS"
   },
   "outputs": [],
   "source": [
    "# 'Let's code \"pandorably\"'"
   ]
  },
  {
   "cell_type": "code",
   "execution_count": null,
   "metadata": {
    "colab": {},
    "colab_type": "code",
    "id": "40ygKkAqRHgb"
   },
   "outputs": [],
   "source": [
    "# use alternating quotes:"
   ]
  },
  {
   "cell_type": "code",
   "execution_count": null,
   "metadata": {
    "colab": {
     "base_uri": "https://localhost:8080/"
    },
    "colab_type": "code",
    "id": "ZADCBpaWRPkX",
    "outputId": "01aead18-ed41-4809-e283-9b6a909e4ae7"
   },
   "outputs": [
    {
     "data": {
      "text/plain": [
       "\"Let's code 'pandorably'\""
      ]
     },
     "execution_count": 62,
     "metadata": {
      "tags": []
     },
     "output_type": "execute_result"
    }
   ],
   "source": [
    "\"Let's code 'pandorably'\""
   ]
  },
  {
   "cell_type": "code",
   "execution_count": null,
   "metadata": {
    "colab": {},
    "colab_type": "code",
    "id": "vHRGjda-RWlF"
   },
   "outputs": [],
   "source": [
    "# we could use the \\ char"
   ]
  },
  {
   "cell_type": "code",
   "execution_count": null,
   "metadata": {
    "colab": {
     "base_uri": "https://localhost:8080/"
    },
    "colab_type": "code",
    "id": "i2KRp60eRKTD",
    "outputId": "8dc468ea-3615-4a30-a0f6-c9cb94b8db4d"
   },
   "outputs": [
    {
     "data": {
      "text/plain": [
       "'Let\\'s code \"pandorably\"'"
      ]
     },
     "execution_count": 64,
     "metadata": {
      "tags": []
     },
     "output_type": "execute_result"
    }
   ],
   "source": [
    "'Let\\'s code \"pandorably\"'"
   ]
  },
  {
   "cell_type": "markdown",
   "metadata": {
    "colab_type": "text",
    "id": "CDKIGrp31HOA"
   },
   "source": [
    "* there's also ' ' '"
   ]
  },
  {
   "cell_type": "code",
   "execution_count": null,
   "metadata": {
    "colab": {
     "base_uri": "https://localhost:8080/"
    },
    "colab_type": "code",
    "id": "s7TQIQvCRhDk",
    "outputId": "0470dad2-048d-4197-ebf6-eab17d9efa6d"
   },
   "outputs": [
    {
     "data": {
      "text/plain": [
       "'this is the \\'first\\' line of the string\\nthis is the \"second\"\\nand this is the third'"
      ]
     },
     "execution_count": 65,
     "metadata": {
      "tags": []
     },
     "output_type": "execute_result"
    }
   ],
   "source": [
    "'''this is the 'first' line of the string\n",
    "this is the \"second\"\n",
    "and this is the third'''"
   ]
  },
  {
   "cell_type": "code",
   "execution_count": null,
   "metadata": {
    "colab": {
     "base_uri": "https://localhost:8080/"
    },
    "colab_type": "code",
    "id": "ktCvRJjhRnuw",
    "outputId": "983e6ead-9a86-4ea2-d531-f1a2ed6239b0"
   },
   "outputs": [
    {
     "data": {
      "text/plain": [
       "str"
      ]
     },
     "execution_count": 66,
     "metadata": {
      "tags": []
     },
     "output_type": "execute_result"
    }
   ],
   "source": [
    "type('''this is the first line of the string\n",
    "this is the second\n",
    "and this is the third''')"
   ]
  },
  {
   "cell_type": "code",
   "execution_count": null,
   "metadata": {
    "colab": {},
    "colab_type": "code",
    "id": "kYLnI_CrRqEM"
   },
   "outputs": [],
   "source": [
    "# \"this is the first line\n",
    "# this s the second\""
   ]
  },
  {
   "cell_type": "markdown",
   "metadata": {
    "colab_type": "text",
    "id": "GXb0-edc1PWh"
   },
   "source": [
    "* strings could be combined with +"
   ]
  },
  {
   "cell_type": "code",
   "execution_count": null,
   "metadata": {
    "colab": {
     "base_uri": "https://localhost:8080/"
    },
    "colab_type": "code",
    "id": "-YZFweHGR340",
    "outputId": "99a7597b-66b0-4d51-e709-09e2a66d2a4f"
   },
   "outputs": [
    {
     "data": {
      "text/plain": [
       "4"
      ]
     },
     "execution_count": 68,
     "metadata": {
      "tags": []
     },
     "output_type": "execute_result"
    }
   ],
   "source": [
    "2 + 2"
   ]
  },
  {
   "cell_type": "code",
   "execution_count": null,
   "metadata": {
    "colab": {
     "base_uri": "https://localhost:8080/"
    },
    "colab_type": "code",
    "id": "qFOHuYThR588",
    "outputId": "22d6c81a-fcbc-465a-8f4a-c9191e259deb"
   },
   "outputs": [
    {
     "data": {
      "text/plain": [
       "'Andy Bek'"
      ]
     },
     "execution_count": 69,
     "metadata": {
      "tags": []
     },
     "output_type": "execute_result"
    }
   ],
   "source": [
    "'Andy' + ' ' + \"Bek\""
   ]
  },
  {
   "cell_type": "markdown",
   "metadata": {
    "colab_type": "text",
    "id": "ZmP3ytHq1U6V"
   },
   "source": [
    "* strings could be repeated with *"
   ]
  },
  {
   "cell_type": "code",
   "execution_count": null,
   "metadata": {
    "colab": {
     "base_uri": "https://localhost:8080/"
    },
    "colab_type": "code",
    "id": "qNn10jp4SDA6",
    "outputId": "a80acf12-d8c4-43bb-fd1d-862f57a3cd61"
   },
   "outputs": [
    {
     "data": {
      "text/plain": [
       "6"
      ]
     },
     "execution_count": 70,
     "metadata": {
      "tags": []
     },
     "output_type": "execute_result"
    }
   ],
   "source": [
    "2 * 3"
   ]
  },
  {
   "cell_type": "code",
   "execution_count": null,
   "metadata": {
    "colab": {
     "base_uri": "https://localhost:8080/"
    },
    "colab_type": "code",
    "id": "99dngE6ISEZT",
    "outputId": "9cbfdbd1-b9af-4f38-82c2-5506c338a299"
   },
   "outputs": [
    {
     "data": {
      "text/plain": [
       "'pythonpythonpython'"
      ]
     },
     "execution_count": 71,
     "metadata": {
      "tags": []
     },
     "output_type": "execute_result"
    }
   ],
   "source": [
    "'python' * 3"
   ]
  },
  {
   "cell_type": "markdown",
   "metadata": {
    "colab_type": "text",
    "id": "txtYTs3tSHMw"
   },
   "source": [
    "#### Methods"
   ]
  },
  {
   "cell_type": "markdown",
   "metadata": {
    "colab_type": "text",
    "id": "Pa9g3vJDSila"
   },
   "source": [
    "* methods are similar to functions, eg type()"
   ]
  },
  {
   "cell_type": "code",
   "execution_count": null,
   "metadata": {
    "colab": {
     "base_uri": "https://localhost:8080/"
    },
    "colab_type": "code",
    "id": "ZYLOgfZgaTrJ",
    "outputId": "66a00fe2-1a14-4d7f-c800-e7d0b3cb502e"
   },
   "outputs": [
    {
     "data": {
      "text/plain": [
       "str"
      ]
     },
     "execution_count": 72,
     "metadata": {
      "tags": []
     },
     "output_type": "execute_result"
    }
   ],
   "source": [
    "type('python')"
   ]
  },
  {
   "cell_type": "code",
   "execution_count": null,
   "metadata": {
    "colab": {
     "base_uri": "https://localhost:8080/"
    },
    "colab_type": "code",
    "id": "zmv2YhByaVrm",
    "outputId": "1c13456f-1b57-45e4-ba3f-3827db08a1da"
   },
   "outputs": [
    {
     "data": {
      "text/plain": [
       "int"
      ]
     },
     "execution_count": 73,
     "metadata": {
      "tags": []
     },
     "output_type": "execute_result"
    }
   ],
   "source": [
    "type(714)"
   ]
  },
  {
   "cell_type": "code",
   "execution_count": null,
   "metadata": {
    "colab": {
     "base_uri": "https://localhost:8080/"
    },
    "colab_type": "code",
    "id": "k5j_3xQvaWwF",
    "outputId": "62ed4760-fe1f-4d10-f3d2-c7f36d5890c2"
   },
   "outputs": [
    {
     "data": {
      "text/plain": [
       "float"
      ]
     },
     "execution_count": 74,
     "metadata": {
      "tags": []
     },
     "output_type": "execute_result"
    }
   ],
   "source": [
    "type(714.9)"
   ]
  },
  {
   "cell_type": "markdown",
   "metadata": {
    "colab_type": "text",
    "id": "_YchGKjmTbRi"
   },
   "source": [
    "* ...but they are always attached to a type of object"
   ]
  },
  {
   "cell_type": "markdown",
   "metadata": {
    "colab_type": "text",
    "id": "8R-r53UMTsEr"
   },
   "source": [
    "* different data types have different methods defined and available"
   ]
  },
  {
   "cell_type": "markdown",
   "metadata": {
    "colab_type": "text",
    "id": "08aMGAT-Tj-C"
   },
   "source": [
    " * some methods available on strings:\n",
    "  > .upper(), .lower(), .isalpha(), .startsWith()"
   ]
  },
  {
   "cell_type": "code",
   "execution_count": null,
   "metadata": {
    "colab": {
     "base_uri": "https://localhost:8080/"
    },
    "colab_type": "code",
    "id": "5Tl6pJhOagFk",
    "outputId": "00864e2c-1005-439e-d965-9b1d7caa3cf2"
   },
   "outputs": [
    {
     "data": {
      "text/plain": [
       "'PYTHON'"
      ]
     },
     "execution_count": 75,
     "metadata": {
      "tags": []
     },
     "output_type": "execute_result"
    }
   ],
   "source": [
    "'python'.upper()"
   ]
  },
  {
   "cell_type": "code",
   "execution_count": null,
   "metadata": {
    "colab": {
     "base_uri": "https://localhost:8080/"
    },
    "colab_type": "code",
    "id": "kfB7GRblaruR",
    "outputId": "72dd2f85-515d-4912-ebaf-7739da5d256d"
   },
   "outputs": [
    {
     "data": {
      "text/plain": [
       "'python'"
      ]
     },
     "execution_count": 76,
     "metadata": {
      "tags": []
     },
     "output_type": "execute_result"
    }
   ],
   "source": [
    "'PYthon'.lower()"
   ]
  },
  {
   "cell_type": "code",
   "execution_count": null,
   "metadata": {
    "colab": {
     "base_uri": "https://localhost:8080/"
    },
    "colab_type": "code",
    "id": "DSSMsUhFavbu",
    "outputId": "9f90b609-af9e-42ae-add5-58b572823894"
   },
   "outputs": [
    {
     "data": {
      "text/plain": [
       "False"
      ]
     },
     "execution_count": 77,
     "metadata": {
      "tags": []
     },
     "output_type": "execute_result"
    }
   ],
   "source": [
    "'pythonv3.9'.isalpha()"
   ]
  },
  {
   "cell_type": "code",
   "execution_count": null,
   "metadata": {
    "colab": {
     "base_uri": "https://localhost:8080/"
    },
    "colab_type": "code",
    "id": "2BEG_vBZa3-J",
    "outputId": "92f1b938-6e2d-4ede-ddb5-1fc1c75fd442"
   },
   "outputs": [
    {
     "data": {
      "text/plain": [
       "True"
      ]
     },
     "execution_count": 78,
     "metadata": {
      "tags": []
     },
     "output_type": "execute_result"
    }
   ],
   "source": [
    "'python'.startswith('py')"
   ]
  },
  {
   "cell_type": "code",
   "execution_count": null,
   "metadata": {
    "colab": {
     "base_uri": "https://localhost:8080/"
    },
    "colab_type": "code",
    "id": "ipBoWqRxa69F",
    "outputId": "26b45918-568f-4b3f-f5c2-b8bbeb88900c"
   },
   "outputs": [
    {
     "data": {
      "text/plain": [
       "False"
      ]
     },
     "execution_count": 79,
     "metadata": {
      "tags": []
     },
     "output_type": "execute_result"
    }
   ],
   "source": [
    "'pythON'.endswith('on')"
   ]
  },
  {
   "cell_type": "markdown",
   "metadata": {
    "colab_type": "text",
    "id": "lMbmiCNLYPmc"
   },
   "source": [
    "* BONUS: value substitutions with .format()"
   ]
  },
  {
   "cell_type": "code",
   "execution_count": null,
   "metadata": {
    "colab": {
     "base_uri": "https://localhost:8080/"
    },
    "colab_type": "code",
    "id": "JMApACqObEIc",
    "outputId": "7a867be2-21b3-4c9b-e776-df1e2a2d4515"
   },
   "outputs": [
    {
     "data": {
      "text/plain": [
       "'We will be using python v3.9'"
      ]
     },
     "execution_count": 80,
     "metadata": {
      "tags": []
     },
     "output_type": "execute_result"
    }
   ],
   "source": [
    "\"We will be using python v{}\".format(3.9)"
   ]
  },
  {
   "cell_type": "code",
   "execution_count": null,
   "metadata": {
    "colab": {
     "base_uri": "https://localhost:8080/"
    },
    "colab_type": "code",
    "id": "gxB77521bXGz",
    "outputId": "e5ee543a-4338-44cb-a890-a8d755c456b5"
   },
   "outputs": [
    {
     "data": {
      "text/plain": [
       "'We will be using python v3.9, pandas v1.0.3, and numpy v1.2.1'"
      ]
     },
     "execution_count": 81,
     "metadata": {
      "tags": []
     },
     "output_type": "execute_result"
    }
   ],
   "source": [
    "\"We will be using python v{py_v}, pandas v{pa_v}, and numpy v{nu_v}\".format(py_v=3.9, pa_v='1.0.3', nu_v='1.2.1')"
   ]
  },
  {
   "cell_type": "markdown",
   "metadata": {
    "colab_type": "text",
    "id": "0CzdUiSNbqyU"
   },
   "source": [
    "#### Containers I: Lists"
   ]
  },
  {
   "cell_type": "markdown",
   "metadata": {
    "colab_type": "text",
    "id": "UKeglmkLczf4"
   },
   "source": [
    "* lists are ordered sequences of elements"
   ]
  },
  {
   "cell_type": "code",
   "execution_count": null,
   "metadata": {
    "colab": {},
    "colab_type": "code",
    "id": "66lFzU3ChV13"
   },
   "outputs": [],
   "source": [
    "students = ['Andrew', 'Brie', 'Cynthia', 'Dr.Dre']"
   ]
  },
  {
   "cell_type": "markdown",
   "metadata": {
    "colab_type": "text",
    "id": "OZzjxvVodMzn"
   },
   "source": [
    "* we denote them with [ ]"
   ]
  },
  {
   "cell_type": "markdown",
   "metadata": {
    "colab_type": "text",
    "id": "iB2lNoYhdPyj"
   },
   "source": [
    "* each element has an index, the first starting at 0 (zero-based indexing)"
   ]
  },
  {
   "cell_type": "markdown",
   "metadata": {
    "colab_type": "text",
    "id": "7Gf4PryCdT-s"
   },
   "source": [
    "* we select items from lists using the respective index"
   ]
  },
  {
   "cell_type": "code",
   "execution_count": null,
   "metadata": {
    "colab": {
     "base_uri": "https://localhost:8080/"
    },
    "colab_type": "code",
    "id": "fHm1uEUQhsEy",
    "outputId": "23219c8a-5227-4960-dfcc-fe415fbec390"
   },
   "outputs": [
    {
     "data": {
      "text/plain": [
       "'Brie'"
      ]
     },
     "execution_count": 83,
     "metadata": {
      "tags": []
     },
     "output_type": "execute_result"
    }
   ],
   "source": [
    "students[1]"
   ]
  },
  {
   "cell_type": "code",
   "execution_count": null,
   "metadata": {
    "colab": {
     "base_uri": "https://localhost:8080/"
    },
    "colab_type": "code",
    "id": "34Wft7_EhzU7",
    "outputId": "19608a6b-790b-490e-df45-9f146c0f0577"
   },
   "outputs": [
    {
     "data": {
      "text/plain": [
       "'Andrew'"
      ]
     },
     "execution_count": 84,
     "metadata": {
      "tags": []
     },
     "output_type": "execute_result"
    }
   ],
   "source": [
    "students[0]"
   ]
  },
  {
   "cell_type": "markdown",
   "metadata": {
    "colab_type": "text",
    "id": "0ZOOJKPMdocB"
   },
   "source": [
    "* ...or sequence of indices (list slicing)"
   ]
  },
  {
   "cell_type": "code",
   "execution_count": null,
   "metadata": {
    "colab": {
     "base_uri": "https://localhost:8080/"
    },
    "colab_type": "code",
    "id": "wN3PDOTVh21q",
    "outputId": "56e896c7-31a1-416c-c58e-215973d2b95f"
   },
   "outputs": [
    {
     "data": {
      "text/plain": [
       "['Andrew', 'Brie']"
      ]
     },
     "execution_count": 85,
     "metadata": {
      "tags": []
     },
     "output_type": "execute_result"
    }
   ],
   "source": [
    "students[0:2]"
   ]
  },
  {
   "cell_type": "markdown",
   "metadata": {
    "colab_type": "text",
    "id": "USXv9PjDdtKR"
   },
   "source": [
    "* some slicing rules:\n",
    " > lower bound is inclusive, upper bound is exclusive\n",
    "\n",
    " > we could also select from the end using a negative indexing system\n",
    " \n",
    " > if we get out of bounds, pythons throws Indexerror"
   ]
  },
  {
   "cell_type": "code",
   "execution_count": null,
   "metadata": {
    "colab": {},
    "colab_type": "code",
    "id": "evdyZpq2guQj"
   },
   "outputs": [],
   "source": [
    "# last element:"
   ]
  },
  {
   "cell_type": "code",
   "execution_count": null,
   "metadata": {
    "colab": {
     "base_uri": "https://localhost:8080/"
    },
    "colab_type": "code",
    "id": "PCGcVUWsiOIq",
    "outputId": "4e3ed340-9be9-414a-f470-c4335f3a8543"
   },
   "outputs": [
    {
     "data": {
      "text/plain": [
       "'Brie'"
      ]
     },
     "execution_count": 87,
     "metadata": {
      "tags": []
     },
     "output_type": "execute_result"
    }
   ],
   "source": [
    "students[-3]"
   ]
  },
  {
   "cell_type": "code",
   "execution_count": null,
   "metadata": {
    "colab": {},
    "colab_type": "code",
    "id": "_vWgPqNriP_M"
   },
   "outputs": [],
   "source": [
    "# students[20]"
   ]
  },
  {
   "cell_type": "code",
   "execution_count": null,
   "metadata": {
    "colab": {},
    "colab_type": "code",
    "id": "aa-pAKdiihmP"
   },
   "outputs": [],
   "source": [
    "# students[4]"
   ]
  },
  {
   "cell_type": "markdown",
   "metadata": {
    "colab_type": "text",
    "id": "nZre24Xpin_A"
   },
   "source": [
    "#### Lists vs. Strings"
   ]
  },
  {
   "cell_type": "markdown",
   "metadata": {
    "colab_type": "text",
    "id": "wdqxWsfFlhX7"
   },
   "source": [
    "* strings are sequences of characters, whereas"
   ]
  },
  {
   "cell_type": "code",
   "execution_count": null,
   "metadata": {
    "colab": {},
    "colab_type": "code",
    "id": "xYeqb3qQnjz9"
   },
   "outputs": [],
   "source": [
    "py = 'python'"
   ]
  },
  {
   "cell_type": "code",
   "execution_count": null,
   "metadata": {
    "colab": {
     "base_uri": "https://localhost:8080/"
    },
    "colab_type": "code",
    "id": "AZUsCn4OnlWZ",
    "outputId": "1038da1f-430a-441c-916d-62c1337b037d"
   },
   "outputs": [
    {
     "data": {
      "text/plain": [
       "str"
      ]
     },
     "execution_count": 91,
     "metadata": {
      "tags": []
     },
     "output_type": "execute_result"
    }
   ],
   "source": [
    "type(py)"
   ]
  },
  {
   "cell_type": "markdown",
   "metadata": {
    "colab_type": "text",
    "id": "2ihArNk7lmZo"
   },
   "source": [
    "* lists are sequences of any object"
   ]
  },
  {
   "cell_type": "code",
   "execution_count": null,
   "metadata": {
    "colab": {
     "base_uri": "https://localhost:8080/"
    },
    "colab_type": "code",
    "id": "csHq-vL5nn13",
    "outputId": "953ad235-d1c0-4cc7-8425-8f87bfbc73ae"
   },
   "outputs": [
    {
     "data": {
      "text/plain": [
       "['Andrew', 'Brie', 'Cynthia', 'Dr.Dre']"
      ]
     },
     "execution_count": 92,
     "metadata": {
      "tags": []
     },
     "output_type": "execute_result"
    }
   ],
   "source": [
    "students"
   ]
  },
  {
   "cell_type": "code",
   "execution_count": null,
   "metadata": {
    "colab": {
     "base_uri": "https://localhost:8080/"
    },
    "colab_type": "code",
    "id": "z3qgaIkDnoup",
    "outputId": "c9b88620-d3c9-4483-9e2a-cbb9a3468e93"
   },
   "outputs": [
    {
     "data": {
      "text/plain": [
       "list"
      ]
     },
     "execution_count": 93,
     "metadata": {
      "tags": []
     },
     "output_type": "execute_result"
    }
   ],
   "source": [
    "type(students)"
   ]
  },
  {
   "cell_type": "code",
   "execution_count": null,
   "metadata": {
    "colab": {
     "base_uri": "https://localhost:8080/"
    },
    "colab_type": "code",
    "id": "kWG5u9dQnwfB",
    "outputId": "352c474f-069a-4a7a-cbf9-9164b4a2c54b"
   },
   "outputs": [
    {
     "data": {
      "text/plain": [
       "'Andrew'"
      ]
     },
     "execution_count": 94,
     "metadata": {
      "tags": []
     },
     "output_type": "execute_result"
    }
   ],
   "source": [
    "students[0] "
   ]
  },
  {
   "cell_type": "code",
   "execution_count": null,
   "metadata": {
    "colab": {
     "base_uri": "https://localhost:8080/"
    },
    "colab_type": "code",
    "id": "756Nzf8Jn1x4",
    "outputId": "2421b2f8-1c75-4ba7-cef0-d35c2a151d8d"
   },
   "outputs": [
    {
     "data": {
      "text/plain": [
       "'p'"
      ]
     },
     "execution_count": 95,
     "metadata": {
      "tags": []
     },
     "output_type": "execute_result"
    }
   ],
   "source": [
    "py[0]"
   ]
  },
  {
   "cell_type": "code",
   "execution_count": null,
   "metadata": {
    "colab": {
     "base_uri": "https://localhost:8080/"
    },
    "colab_type": "code",
    "id": "6GFRmgQFn82v",
    "outputId": "44d04e81-cc9d-4d23-ea54-d2494ac10f9f"
   },
   "outputs": [
    {
     "data": {
      "text/plain": [
       "['Andrew', 'Brie']"
      ]
     },
     "execution_count": 96,
     "metadata": {
      "tags": []
     },
     "output_type": "execute_result"
    }
   ],
   "source": [
    "students[0:2]"
   ]
  },
  {
   "cell_type": "code",
   "execution_count": null,
   "metadata": {
    "colab": {
     "base_uri": "https://localhost:8080/"
    },
    "colab_type": "code",
    "id": "1mS3Nv5Rn-wZ",
    "outputId": "6e2b0d1b-1d33-4575-d10e-4d1d968c60a4"
   },
   "outputs": [
    {
     "data": {
      "text/plain": [
       "'py'"
      ]
     },
     "execution_count": 97,
     "metadata": {
      "tags": []
     },
     "output_type": "execute_result"
    }
   ],
   "source": [
    "py[0:2]"
   ]
  },
  {
   "cell_type": "markdown",
   "metadata": {
    "colab_type": "text",
    "id": "oK6DTqdQls0u"
   },
   "source": [
    "* both lists and strings are ordered"
   ]
  },
  {
   "cell_type": "markdown",
   "metadata": {
    "colab_type": "text",
    "id": "PsPpxOV-lvUM"
   },
   "source": [
    "* BONUS: lists are mutable; strings are immutable"
   ]
  },
  {
   "cell_type": "code",
   "execution_count": null,
   "metadata": {
    "colab": {
     "base_uri": "https://localhost:8080/"
    },
    "colab_type": "code",
    "id": "3Dn-6sBqoP6m",
    "outputId": "343b81c3-0955-4b3a-a891-173178d31e56"
   },
   "outputs": [
    {
     "data": {
      "text/plain": [
       "'python'"
      ]
     },
     "execution_count": 98,
     "metadata": {
      "tags": []
     },
     "output_type": "execute_result"
    }
   ],
   "source": [
    "py"
   ]
  },
  {
   "cell_type": "code",
   "execution_count": null,
   "metadata": {
    "colab": {
     "base_uri": "https://localhost:8080/"
    },
    "colab_type": "code",
    "id": "FeJuCoNJoUnp",
    "outputId": "5a5e65c8-cc8b-4263-bb32-a95679457d60"
   },
   "outputs": [
    {
     "data": {
      "text/plain": [
       "'n'"
      ]
     },
     "execution_count": 99,
     "metadata": {
      "tags": []
     },
     "output_type": "execute_result"
    }
   ],
   "source": [
    "py[-1]"
   ]
  },
  {
   "cell_type": "code",
   "execution_count": null,
   "metadata": {
    "colab": {},
    "colab_type": "code",
    "id": "IO7JgW1joYJw"
   },
   "outputs": [],
   "source": [
    "# py[-1] = 'N' # strings cannot be changed!"
   ]
  },
  {
   "cell_type": "code",
   "execution_count": null,
   "metadata": {
    "colab": {},
    "colab_type": "code",
    "id": "IMgIx4o5oe58"
   },
   "outputs": [],
   "source": [
    "py = 'pythoN'"
   ]
  },
  {
   "cell_type": "code",
   "execution_count": null,
   "metadata": {
    "colab": {
     "base_uri": "https://localhost:8080/"
    },
    "colab_type": "code",
    "id": "VI5qANeXol0t",
    "outputId": "3eafc6f7-8e31-4c24-ab10-f86be9a49e96"
   },
   "outputs": [
    {
     "data": {
      "text/plain": [
       "['Andrew', 'Brie', 'Cynthia', 'Dr.Dre']"
      ]
     },
     "execution_count": 102,
     "metadata": {
      "tags": []
     },
     "output_type": "execute_result"
    }
   ],
   "source": [
    "students"
   ]
  },
  {
   "cell_type": "code",
   "execution_count": null,
   "metadata": {
    "colab": {
     "base_uri": "https://localhost:8080/"
    },
    "colab_type": "code",
    "id": "c4Sn7jcVoxmi",
    "outputId": "de298669-774a-4830-a66c-dc0be487781f"
   },
   "outputs": [
    {
     "data": {
      "text/plain": [
       "'Dr.Dre'"
      ]
     },
     "execution_count": 103,
     "metadata": {
      "tags": []
     },
     "output_type": "execute_result"
    }
   ],
   "source": [
    "students[-1]"
   ]
  },
  {
   "cell_type": "code",
   "execution_count": null,
   "metadata": {
    "colab": {},
    "colab_type": "code",
    "id": "XnTZacD7o0Zb"
   },
   "outputs": [],
   "source": [
    "students[-1] = 'Eminem'"
   ]
  },
  {
   "cell_type": "code",
   "execution_count": null,
   "metadata": {
    "colab": {
     "base_uri": "https://localhost:8080/"
    },
    "colab_type": "code",
    "id": "e44L5VBno5ZN",
    "outputId": "3850e273-bfc0-4ec8-b1f5-c4288162dce5"
   },
   "outputs": [
    {
     "data": {
      "text/plain": [
       "['Andrew', 'Brie', 'Cynthia', 'Eminem']"
      ]
     },
     "execution_count": 105,
     "metadata": {
      "tags": []
     },
     "output_type": "execute_result"
    }
   ],
   "source": [
    "students"
   ]
  },
  {
   "cell_type": "markdown",
   "metadata": {
    "colab_type": "text",
    "id": "sIsjdMf-o6cU"
   },
   "source": [
    "#### List Methods And Functions"
   ]
  },
  {
   "cell_type": "markdown",
   "metadata": {
    "colab_type": "text",
    "id": "cbJctzbwpT33"
   },
   "source": [
    "* built-in functions: max, len, min, sorted"
   ]
  },
  {
   "cell_type": "code",
   "execution_count": null,
   "metadata": {
    "colab": {},
    "colab_type": "code",
    "id": "K_IKghOhvQc6"
   },
   "outputs": [],
   "source": [
    "ages = [23, 39, 12, 12.1]"
   ]
  },
  {
   "cell_type": "code",
   "execution_count": null,
   "metadata": {
    "colab": {
     "base_uri": "https://localhost:8080/"
    },
    "colab_type": "code",
    "id": "KYjE3S4CvVYn",
    "outputId": "1c4c1ad7-425b-42f0-926b-e96ca2c9c296"
   },
   "outputs": [
    {
     "data": {
      "text/plain": [
       "list"
      ]
     },
     "execution_count": 107,
     "metadata": {
      "tags": []
     },
     "output_type": "execute_result"
    }
   ],
   "source": [
    "type(ages)"
   ]
  },
  {
   "cell_type": "code",
   "execution_count": null,
   "metadata": {
    "colab": {
     "base_uri": "https://localhost:8080/"
    },
    "colab_type": "code",
    "id": "vtGrheNrvWzn",
    "outputId": "d2b25af4-6a90-44e5-9048-3eef92beccc1"
   },
   "outputs": [
    {
     "data": {
      "text/plain": [
       "39"
      ]
     },
     "execution_count": 108,
     "metadata": {
      "tags": []
     },
     "output_type": "execute_result"
    }
   ],
   "source": [
    "max(ages)"
   ]
  },
  {
   "cell_type": "code",
   "execution_count": null,
   "metadata": {
    "colab": {
     "base_uri": "https://localhost:8080/"
    },
    "colab_type": "code",
    "id": "rwqkXW7gvbNm",
    "outputId": "2ab36fc6-591c-45c4-d7d5-a3cb383d401e"
   },
   "outputs": [
    {
     "data": {
      "text/plain": [
       "12"
      ]
     },
     "execution_count": 109,
     "metadata": {
      "tags": []
     },
     "output_type": "execute_result"
    }
   ],
   "source": [
    "min(ages)"
   ]
  },
  {
   "cell_type": "code",
   "execution_count": null,
   "metadata": {
    "colab": {
     "base_uri": "https://localhost:8080/"
    },
    "colab_type": "code",
    "id": "QqzKw23ZvdK5",
    "outputId": "5227dffe-d738-4510-ca5c-06891b3728d2"
   },
   "outputs": [
    {
     "data": {
      "text/plain": [
       "4"
      ]
     },
     "execution_count": 110,
     "metadata": {
      "tags": []
     },
     "output_type": "execute_result"
    }
   ],
   "source": [
    "len(ages)"
   ]
  },
  {
   "cell_type": "code",
   "execution_count": null,
   "metadata": {
    "colab": {
     "base_uri": "https://localhost:8080/"
    },
    "colab_type": "code",
    "id": "Z3d3GGMpvhQ5",
    "outputId": "4c35c645-43ed-4cd9-f212-39deae6d6dc5"
   },
   "outputs": [
    {
     "data": {
      "text/plain": [
       "[12, 12.1, 23, 39]"
      ]
     },
     "execution_count": 111,
     "metadata": {
      "tags": []
     },
     "output_type": "execute_result"
    }
   ],
   "source": [
    "sorted(ages)"
   ]
  },
  {
   "cell_type": "code",
   "execution_count": null,
   "metadata": {
    "colab": {
     "base_uri": "https://localhost:8080/"
    },
    "colab_type": "code",
    "id": "tbyMq5BrvofH",
    "outputId": "91c8fa22-3b46-41dd-ac2e-f80b048e90fc"
   },
   "outputs": [
    {
     "data": {
      "text/plain": [
       "[39, 23, 12.1, 12]"
      ]
     },
     "execution_count": 112,
     "metadata": {
      "tags": []
     },
     "output_type": "execute_result"
    }
   ],
   "source": [
    "sorted(ages, reverse=True)"
   ]
  },
  {
   "cell_type": "markdown",
   "metadata": {
    "colab_type": "text",
    "id": "W9QW_ydmqVf-"
   },
   "source": [
    "* methods:\n",
    " > .append() to add items to a list\n",
    "\n",
    " > .pop() to remove by index\n",
    "\n",
    " > .remove() to remove by item \n",
    "\n",
    " > str.join(list) to join all elements of a list into a string"
   ]
  },
  {
   "cell_type": "code",
   "execution_count": null,
   "metadata": {
    "colab": {
     "base_uri": "https://localhost:8080/"
    },
    "colab_type": "code",
    "id": "7QpVbXP4qe8S",
    "outputId": "cacfc170-2368-4232-f9b7-427383ac907d"
   },
   "outputs": [
    {
     "data": {
      "text/plain": [
       "[23, 39, 12, 12.1]"
      ]
     },
     "execution_count": 113,
     "metadata": {
      "tags": []
     },
     "output_type": "execute_result"
    }
   ],
   "source": [
    "ages"
   ]
  },
  {
   "cell_type": "code",
   "execution_count": null,
   "metadata": {
    "colab": {},
    "colab_type": "code",
    "id": "Z4DfsOcnvakA"
   },
   "outputs": [],
   "source": [
    "ages.append(24) # adds the element to the list; returns nothing"
   ]
  },
  {
   "cell_type": "code",
   "execution_count": null,
   "metadata": {
    "colab": {
     "base_uri": "https://localhost:8080/"
    },
    "colab_type": "code",
    "id": "LMTa0QZNwAW4",
    "outputId": "b37f932b-e30e-4bb0-a1b2-3b54c8b7faa2"
   },
   "outputs": [
    {
     "data": {
      "text/plain": [
       "[23, 39, 12, 12.1, 24]"
      ]
     },
     "execution_count": 115,
     "metadata": {
      "tags": []
     },
     "output_type": "execute_result"
    }
   ],
   "source": [
    "ages"
   ]
  },
  {
   "cell_type": "code",
   "execution_count": null,
   "metadata": {
    "colab": {
     "base_uri": "https://localhost:8080/"
    },
    "colab_type": "code",
    "id": "KFUTu6jJwCJ3",
    "outputId": "2cee4697-e209-456d-f9a8-2028883e02a7"
   },
   "outputs": [
    {
     "data": {
      "text/plain": [
       "24"
      ]
     },
     "execution_count": 116,
     "metadata": {
      "tags": []
     },
     "output_type": "execute_result"
    }
   ],
   "source": [
    "ages.pop(-1) # removes the element from the list; return the removed element"
   ]
  },
  {
   "cell_type": "code",
   "execution_count": null,
   "metadata": {
    "colab": {
     "base_uri": "https://localhost:8080/"
    },
    "colab_type": "code",
    "id": "hoNf39Q7wTUI",
    "outputId": "6d65752a-17e9-43cb-f68c-66ade4385e12"
   },
   "outputs": [
    {
     "data": {
      "text/plain": [
       "[23, 39, 12, 12.1]"
      ]
     },
     "execution_count": 117,
     "metadata": {
      "tags": []
     },
     "output_type": "execute_result"
    }
   ],
   "source": [
    "ages"
   ]
  },
  {
   "cell_type": "code",
   "execution_count": null,
   "metadata": {
    "colab": {},
    "colab_type": "code",
    "id": "vYGL73juwXPf"
   },
   "outputs": [],
   "source": [
    "# ages.pop(2) "
   ]
  },
  {
   "cell_type": "code",
   "execution_count": null,
   "metadata": {
    "colab": {},
    "colab_type": "code",
    "id": "cu4FzodOwaej"
   },
   "outputs": [],
   "source": [
    "ages.remove(12)"
   ]
  },
  {
   "cell_type": "code",
   "execution_count": null,
   "metadata": {
    "colab": {
     "base_uri": "https://localhost:8080/"
    },
    "colab_type": "code",
    "id": "opQ17_JZwbc6",
    "outputId": "32f92a81-865a-4525-de57-8e0cd2dec9b3"
   },
   "outputs": [
    {
     "data": {
      "text/plain": [
       "[23, 39, 12.1]"
      ]
     },
     "execution_count": 120,
     "metadata": {
      "tags": []
     },
     "output_type": "execute_result"
    }
   ],
   "source": [
    "ages"
   ]
  },
  {
   "cell_type": "code",
   "execution_count": null,
   "metadata": {
    "colab": {
     "base_uri": "https://localhost:8080/"
    },
    "colab_type": "code",
    "id": "8e5A7PmiwcNO",
    "outputId": "b69676c3-b3eb-45c5-d9aa-7bc4fba68b94"
   },
   "outputs": [
    {
     "data": {
      "text/plain": [
       "['Andrew', 'Brie', 'Cynthia', 'Eminem']"
      ]
     },
     "execution_count": 121,
     "metadata": {
      "tags": []
     },
     "output_type": "execute_result"
    }
   ],
   "source": [
    "students"
   ]
  },
  {
   "cell_type": "code",
   "execution_count": null,
   "metadata": {
    "colab": {
     "base_uri": "https://localhost:8080/"
    },
    "colab_type": "code",
    "id": "p0vd5mX-wnIU",
    "outputId": "d44e66ad-9c9c-46a9-bc20-6617f21856a5"
   },
   "outputs": [
    {
     "data": {
      "text/plain": [
       "'AndrewBrieCynthiaEminem'"
      ]
     },
     "execution_count": 122,
     "metadata": {
      "tags": []
     },
     "output_type": "execute_result"
    }
   ],
   "source": [
    "''.join(students)"
   ]
  },
  {
   "cell_type": "code",
   "execution_count": null,
   "metadata": {
    "colab": {
     "base_uri": "https://localhost:8080/"
    },
    "colab_type": "code",
    "id": "axC_LCoew0r1",
    "outputId": "32f85092-9e19-4c22-bc73-c36579012b30"
   },
   "outputs": [
    {
     "data": {
      "text/plain": [
       "str"
      ]
     },
     "execution_count": 123,
     "metadata": {
      "tags": []
     },
     "output_type": "execute_result"
    }
   ],
   "source": [
    "type(''.join(students))"
   ]
  },
  {
   "cell_type": "code",
   "execution_count": null,
   "metadata": {
    "colab": {
     "base_uri": "https://localhost:8080/"
    },
    "colab_type": "code",
    "id": "EU0wouXNw370",
    "outputId": "32282b63-8a86-478c-e218-15fdf73b65fc"
   },
   "outputs": [
    {
     "data": {
      "text/plain": [
       "'Andrew, Brie, Cynthia, Eminem'"
      ]
     },
     "execution_count": 124,
     "metadata": {
      "tags": []
     },
     "output_type": "execute_result"
    }
   ],
   "source": [
    "', '.join(students)"
   ]
  },
  {
   "cell_type": "markdown",
   "metadata": {
    "colab_type": "text",
    "id": "zlYp5hEJw6jr"
   },
   "source": [
    "#### Containers II: Tuples"
   ]
  },
  {
   "cell_type": "markdown",
   "metadata": {
    "colab_type": "text",
    "id": "fYtFAnalx1HE"
   },
   "source": [
    "* tuples are ordered and immutable containers of elements"
   ]
  },
  {
   "cell_type": "code",
   "execution_count": null,
   "metadata": {
    "colab": {},
    "colab_type": "code",
    "id": "4X_dOp7azZrh"
   },
   "outputs": [],
   "source": [
    "u_data = ('Ronald', 59)"
   ]
  },
  {
   "cell_type": "code",
   "execution_count": null,
   "metadata": {
    "colab": {
     "base_uri": "https://localhost:8080/"
    },
    "colab_type": "code",
    "id": "4rFHpjsQzdNB",
    "outputId": "43655404-560d-45f2-8a59-49b9235722d2"
   },
   "outputs": [
    {
     "data": {
      "text/plain": [
       "tuple"
      ]
     },
     "execution_count": 126,
     "metadata": {
      "tags": []
     },
     "output_type": "execute_result"
    }
   ],
   "source": [
    "type(u_data)"
   ]
  },
  {
   "cell_type": "code",
   "execution_count": null,
   "metadata": {
    "colab": {},
    "colab_type": "code",
    "id": "x2O3N7g3zgGm"
   },
   "outputs": [],
   "source": [
    "u_data_2 = 'Donald', 64"
   ]
  },
  {
   "cell_type": "code",
   "execution_count": null,
   "metadata": {
    "colab": {
     "base_uri": "https://localhost:8080/"
    },
    "colab_type": "code",
    "id": "iuJFqiG2zijV",
    "outputId": "ec22eebb-19f4-4b51-d8f8-cd5049abba1d"
   },
   "outputs": [
    {
     "data": {
      "text/plain": [
       "tuple"
      ]
     },
     "execution_count": 128,
     "metadata": {
      "tags": []
     },
     "output_type": "execute_result"
    }
   ],
   "source": [
    "type(u_data_2)"
   ]
  },
  {
   "cell_type": "markdown",
   "metadata": {
    "colab_type": "text",
    "id": "b7z5qnSdyCsN"
   },
   "source": [
    "* denoted using parentheses... though optional"
   ]
  },
  {
   "cell_type": "markdown",
   "metadata": {
    "colab_type": "text",
    "id": "SS38lP9-yLP9"
   },
   "source": [
    "* each element has a zero-based index (just like lists)"
   ]
  },
  {
   "cell_type": "code",
   "execution_count": null,
   "metadata": {
    "colab": {
     "base_uri": "https://localhost:8080/"
    },
    "colab_type": "code",
    "id": "XmJ5z26fzst_",
    "outputId": "8de024d5-9cd7-4bf9-e994-c4cbfb907d35"
   },
   "outputs": [
    {
     "data": {
      "text/plain": [
       "['Andrew', 'Brie', 'Cynthia', 'Eminem']"
      ]
     },
     "execution_count": 129,
     "metadata": {
      "tags": []
     },
     "output_type": "execute_result"
    }
   ],
   "source": [
    "students"
   ]
  },
  {
   "cell_type": "code",
   "execution_count": null,
   "metadata": {
    "colab": {
     "base_uri": "https://localhost:8080/"
    },
    "colab_type": "code",
    "id": "r6yPwXoszuH5",
    "outputId": "a5cd1e2d-f262-4ebc-fe0e-5eee2bcf7e69"
   },
   "outputs": [
    {
     "data": {
      "text/plain": [
       "'Andrew'"
      ]
     },
     "execution_count": 130,
     "metadata": {
      "tags": []
     },
     "output_type": "execute_result"
    }
   ],
   "source": [
    "students[0]"
   ]
  },
  {
   "cell_type": "code",
   "execution_count": null,
   "metadata": {
    "colab": {
     "base_uri": "https://localhost:8080/"
    },
    "colab_type": "code",
    "id": "FesOH2NpzvPh",
    "outputId": "313d8830-6cdc-449b-cb5e-06974189bef6"
   },
   "outputs": [
    {
     "data": {
      "text/plain": [
       "('Donald', 64)"
      ]
     },
     "execution_count": 131,
     "metadata": {
      "tags": []
     },
     "output_type": "execute_result"
    }
   ],
   "source": [
    "u_data_2"
   ]
  },
  {
   "cell_type": "code",
   "execution_count": null,
   "metadata": {
    "colab": {
     "base_uri": "https://localhost:8080/"
    },
    "colab_type": "code",
    "id": "Q2aKxXDYzxu_",
    "outputId": "af1533a5-68c0-4f3d-e0de-86fd44ff0910"
   },
   "outputs": [
    {
     "data": {
      "text/plain": [
       "64"
      ]
     },
     "execution_count": 132,
     "metadata": {
      "tags": []
     },
     "output_type": "execute_result"
    }
   ],
   "source": [
    "u_data_2[1]"
   ]
  },
  {
   "cell_type": "code",
   "execution_count": null,
   "metadata": {
    "colab": {},
    "colab_type": "code",
    "id": "ZoHnCg49z5dD"
   },
   "outputs": [],
   "source": [
    "# u_data_2[0] = 'Barack'"
   ]
  },
  {
   "cell_type": "markdown",
   "metadata": {
    "colab_type": "text",
    "id": "V4gpVCx3x3uy"
   },
   "source": [
    "* typically used to store values that are closely related together"
   ]
  },
  {
   "cell_type": "code",
   "execution_count": null,
   "metadata": {
    "colab": {},
    "colab_type": "code",
    "id": "YbGol-ub0GEW"
   },
   "outputs": [],
   "source": [
    "# SAT scores -> math, writing, reading"
   ]
  },
  {
   "cell_type": "code",
   "execution_count": null,
   "metadata": {
    "colab": {},
    "colab_type": "code",
    "id": "Lw2e_BJm0JZj"
   },
   "outputs": [],
   "source": [
    "sat_score = 790, 780, 640"
   ]
  },
  {
   "cell_type": "code",
   "execution_count": null,
   "metadata": {
    "colab": {
     "base_uri": "https://localhost:8080/"
    },
    "colab_type": "code",
    "id": "xVDHuWKU0ObW",
    "outputId": "d5bc00b8-34df-4c19-8b61-180f14b9dcbf"
   },
   "outputs": [
    {
     "data": {
      "text/plain": [
       "(790, 780, 640)"
      ]
     },
     "execution_count": 136,
     "metadata": {
      "tags": []
     },
     "output_type": "execute_result"
    }
   ],
   "source": [
    "sat_score"
   ]
  },
  {
   "cell_type": "markdown",
   "metadata": {
    "colab_type": "text",
    "id": "oB9d7UsA0PW2"
   },
   "source": [
    "#### Containers III: Sets"
   ]
  },
  {
   "cell_type": "markdown",
   "metadata": {
    "colab_type": "text",
    "id": "1zW-2nFlCmPx"
   },
   "source": [
    "* unordered container of (only) unique values"
   ]
  },
  {
   "cell_type": "markdown",
   "metadata": {
    "colab_type": "text",
    "id": "02smq8epETPy"
   },
   "source": [
    "* constructed using { } and comma-separated elements"
   ]
  },
  {
   "cell_type": "code",
   "execution_count": null,
   "metadata": {
    "colab": {},
    "colab_type": "code",
    "id": "2CmTDucRLlwm"
   },
   "outputs": [],
   "source": [
    "degrees = {'BSc', 'MA', 'PhD'}"
   ]
  },
  {
   "cell_type": "code",
   "execution_count": null,
   "metadata": {
    "colab": {
     "base_uri": "https://localhost:8080/"
    },
    "colab_type": "code",
    "id": "al3uhdStLo0y",
    "outputId": "5d3cb890-b8a1-497b-a0cc-a200a0d1d1ba"
   },
   "outputs": [
    {
     "data": {
      "text/plain": [
       "set"
      ]
     },
     "execution_count": 138,
     "metadata": {
      "tags": []
     },
     "output_type": "execute_result"
    }
   ],
   "source": [
    "type(degrees)"
   ]
  },
  {
   "cell_type": "code",
   "execution_count": null,
   "metadata": {
    "colab": {},
    "colab_type": "code",
    "id": "w0fGdID8LvEI"
   },
   "outputs": [],
   "source": [
    "degrees2 = {'BSc', 'MA', 'PhD', 'MA'}"
   ]
  },
  {
   "cell_type": "code",
   "execution_count": null,
   "metadata": {
    "colab": {
     "base_uri": "https://localhost:8080/"
    },
    "colab_type": "code",
    "id": "AiQ_xW6vLzzp",
    "outputId": "2021b966-9664-4730-abaa-351397a84c75"
   },
   "outputs": [
    {
     "data": {
      "text/plain": [
       "set"
      ]
     },
     "execution_count": 140,
     "metadata": {
      "tags": []
     },
     "output_type": "execute_result"
    }
   ],
   "source": [
    "type(degrees2)"
   ]
  },
  {
   "cell_type": "code",
   "execution_count": null,
   "metadata": {
    "colab": {
     "base_uri": "https://localhost:8080/"
    },
    "colab_type": "code",
    "id": "kpYEVshlL2mQ",
    "outputId": "d7d8a6c5-7657-4df8-9a65-53f36d3adeec"
   },
   "outputs": [
    {
     "data": {
      "text/plain": [
       "{'BSc', 'MA', 'PhD'}"
      ]
     },
     "execution_count": 141,
     "metadata": {
      "tags": []
     },
     "output_type": "execute_result"
    }
   ],
   "source": [
    "degrees2"
   ]
  },
  {
   "cell_type": "code",
   "execution_count": null,
   "metadata": {
    "colab": {},
    "colab_type": "code",
    "id": "1nBW8SxrL_E4"
   },
   "outputs": [],
   "source": [
    "# degrees[0]"
   ]
  },
  {
   "cell_type": "markdown",
   "metadata": {
    "colab_type": "text",
    "id": "iSHTuAQvDQbZ"
   },
   "source": [
    "* .add() and .discard() to add and remove values"
   ]
  },
  {
   "cell_type": "code",
   "execution_count": null,
   "metadata": {
    "colab": {
     "base_uri": "https://localhost:8080/"
    },
    "colab_type": "code",
    "id": "Ikm_FJ7CMHNj",
    "outputId": "b37b65f4-5b8f-4c64-89eb-a8693818369c"
   },
   "outputs": [
    {
     "data": {
      "text/plain": [
       "{'BSc', 'MA', 'PhD'}"
      ]
     },
     "execution_count": 143,
     "metadata": {
      "tags": []
     },
     "output_type": "execute_result"
    }
   ],
   "source": [
    "degrees"
   ]
  },
  {
   "cell_type": "code",
   "execution_count": null,
   "metadata": {
    "colab": {},
    "colab_type": "code",
    "id": "E87rvubeMIev"
   },
   "outputs": [],
   "source": [
    "degrees.add('BA')"
   ]
  },
  {
   "cell_type": "code",
   "execution_count": null,
   "metadata": {
    "colab": {
     "base_uri": "https://localhost:8080/"
    },
    "colab_type": "code",
    "id": "xu_3MC87MLYR",
    "outputId": "205d5125-03f0-4012-8fcd-430090741bed"
   },
   "outputs": [
    {
     "data": {
      "text/plain": [
       "{'BA', 'BSc', 'MA', 'PhD'}"
      ]
     },
     "execution_count": 145,
     "metadata": {
      "tags": []
     },
     "output_type": "execute_result"
    }
   ],
   "source": [
    "degrees"
   ]
  },
  {
   "cell_type": "code",
   "execution_count": null,
   "metadata": {
    "colab": {},
    "colab_type": "code",
    "id": "zjkWv4aSMNrZ"
   },
   "outputs": [],
   "source": [
    "degrees.discard('MA')"
   ]
  },
  {
   "cell_type": "code",
   "execution_count": null,
   "metadata": {
    "colab": {
     "base_uri": "https://localhost:8080/"
    },
    "colab_type": "code",
    "id": "P_uIQfp8MQ2U",
    "outputId": "e73b202b-9be4-4273-af42-a087a22c4175"
   },
   "outputs": [
    {
     "data": {
      "text/plain": [
       "{'BA', 'BSc', 'PhD'}"
      ]
     },
     "execution_count": 147,
     "metadata": {
      "tags": []
     },
     "output_type": "execute_result"
    }
   ],
   "source": [
    "degrees"
   ]
  },
  {
   "cell_type": "markdown",
   "metadata": {
    "colab_type": "text",
    "id": "SCN5y4KwDZAi"
   },
   "source": [
    "* .intersection(), .difference(), and .union()"
   ]
  },
  {
   "cell_type": "code",
   "execution_count": null,
   "metadata": {
    "colab": {
     "base_uri": "https://localhost:8080/"
    },
    "colab_type": "code",
    "id": "kjbobi8VMgUM",
    "outputId": "9d838862-4107-4972-d066-5668aadbc928"
   },
   "outputs": [
    {
     "data": {
      "text/plain": [
       "{'BA', 'BSc', 'PhD'}"
      ]
     },
     "execution_count": 148,
     "metadata": {
      "tags": []
     },
     "output_type": "execute_result"
    }
   ],
   "source": [
    "degrees"
   ]
  },
  {
   "cell_type": "code",
   "execution_count": null,
   "metadata": {
    "colab": {
     "base_uri": "https://localhost:8080/"
    },
    "colab_type": "code",
    "id": "J7oQnh7QMk9V",
    "outputId": "edf5bf63-1224-4b89-b403-4b392a0eb27f"
   },
   "outputs": [
    {
     "data": {
      "text/plain": [
       "{'BSc', 'MA', 'PhD'}"
      ]
     },
     "execution_count": 149,
     "metadata": {
      "tags": []
     },
     "output_type": "execute_result"
    }
   ],
   "source": [
    "degrees2"
   ]
  },
  {
   "cell_type": "code",
   "execution_count": null,
   "metadata": {
    "colab": {
     "base_uri": "https://localhost:8080/"
    },
    "colab_type": "code",
    "id": "iQdlUWJyMl6S",
    "outputId": "13560022-3db2-41a1-d2a3-98ac304c46dd"
   },
   "outputs": [
    {
     "data": {
      "text/plain": [
       "{'BSc', 'PhD'}"
      ]
     },
     "execution_count": 150,
     "metadata": {
      "tags": []
     },
     "output_type": "execute_result"
    }
   ],
   "source": [
    "degrees.intersection(degrees2)"
   ]
  },
  {
   "cell_type": "code",
   "execution_count": null,
   "metadata": {
    "colab": {
     "base_uri": "https://localhost:8080/"
    },
    "colab_type": "code",
    "id": "7NmstQDYMuLy",
    "outputId": "86972a4b-275f-4c2c-9e54-04ca29d5df5a"
   },
   "outputs": [
    {
     "data": {
      "text/plain": [
       "{'BA', 'BSc', 'MA', 'PhD'}"
      ]
     },
     "execution_count": 151,
     "metadata": {
      "tags": []
     },
     "output_type": "execute_result"
    }
   ],
   "source": [
    "degrees.union(degrees2) # degrees2.union(degrees)"
   ]
  },
  {
   "cell_type": "code",
   "execution_count": null,
   "metadata": {
    "colab": {
     "base_uri": "https://localhost:8080/"
    },
    "colab_type": "code",
    "id": "bJVug2A1M1fZ",
    "outputId": "3b87663a-14e8-4fad-826d-e58d74cd4eff"
   },
   "outputs": [
    {
     "data": {
      "text/plain": [
       "{'BA'}"
      ]
     },
     "execution_count": 152,
     "metadata": {
      "tags": []
     },
     "output_type": "execute_result"
    }
   ],
   "source": [
    "degrees.difference(degrees2)"
   ]
  },
  {
   "cell_type": "code",
   "execution_count": null,
   "metadata": {
    "colab": {
     "base_uri": "https://localhost:8080/"
    },
    "colab_type": "code",
    "id": "4Yh2TaQBNJAw",
    "outputId": "9543b3ca-c99e-4dd1-f906-abe8540974df"
   },
   "outputs": [
    {
     "data": {
      "text/plain": [
       "{'MA'}"
      ]
     },
     "execution_count": 153,
     "metadata": {
      "tags": []
     },
     "output_type": "execute_result"
    }
   ],
   "source": [
    "degrees2.difference(degrees)"
   ]
  },
  {
   "cell_type": "markdown",
   "metadata": {
    "colab_type": "text",
    "id": "kz7Zap2qDrLf"
   },
   "source": [
    "* nice shortcut: remove all duplicate values from a list? use set()."
   ]
  },
  {
   "cell_type": "code",
   "execution_count": null,
   "metadata": {
    "colab": {},
    "colab_type": "code",
    "id": "GfdEgN2ENPC5"
   },
   "outputs": [],
   "source": [
    "# task: remove all the unique elements from a list of degrees:"
   ]
  },
  {
   "cell_type": "code",
   "execution_count": null,
   "metadata": {
    "colab": {},
    "colab_type": "code",
    "id": "y_EClXCjNT4E"
   },
   "outputs": [],
   "source": [
    "highest_degree_earned = ['BA', 'BA', 'BSc', 'MA', 'MA', 'MA', 'PhD', 'High School GED', 'Some College', 'BA']"
   ]
  },
  {
   "cell_type": "code",
   "execution_count": null,
   "metadata": {
    "colab": {
     "base_uri": "https://localhost:8080/"
    },
    "colab_type": "code",
    "id": "1T97XiwuNcSU",
    "outputId": "3e188579-3600-4d94-a251-8e570227bf5e"
   },
   "outputs": [
    {
     "data": {
      "text/plain": [
       "list"
      ]
     },
     "execution_count": 156,
     "metadata": {
      "tags": []
     },
     "output_type": "execute_result"
    }
   ],
   "source": [
    "type(highest_degree_earned)"
   ]
  },
  {
   "cell_type": "code",
   "execution_count": null,
   "metadata": {
    "colab": {
     "base_uri": "https://localhost:8080/"
    },
    "colab_type": "code",
    "id": "082ZpM7-NfP2",
    "outputId": "89de8409-9b27-4189-baf9-853d67ef48c3"
   },
   "outputs": [
    {
     "data": {
      "text/plain": [
       "{'BA', 'BSc', 'High School GED', 'MA', 'PhD', 'Some College'}"
      ]
     },
     "execution_count": 157,
     "metadata": {
      "tags": []
     },
     "output_type": "execute_result"
    }
   ],
   "source": [
    "set(highest_degree_earned)"
   ]
  },
  {
   "cell_type": "code",
   "execution_count": null,
   "metadata": {
    "colab": {},
    "colab_type": "code",
    "id": "qMOIhBGgNmHf"
   },
   "outputs": [],
   "source": [
    "highest_degree_earned_unique = list(set(highest_degree_earned))"
   ]
  },
  {
   "cell_type": "code",
   "execution_count": null,
   "metadata": {
    "colab": {
     "base_uri": "https://localhost:8080/"
    },
    "colab_type": "code",
    "id": "vdAZaTAwN3BS",
    "outputId": "88490dea-f59c-4654-b901-cc06684e6a70"
   },
   "outputs": [
    {
     "data": {
      "text/plain": [
       "['BSc', 'Some College', 'PhD', 'MA', 'BA', 'High School GED']"
      ]
     },
     "execution_count": 159,
     "metadata": {
      "tags": []
     },
     "output_type": "execute_result"
    }
   ],
   "source": [
    "highest_degree_earned_unique"
   ]
  },
  {
   "cell_type": "markdown",
   "metadata": {
    "colab_type": "text",
    "id": "a_cnJiw-N3pK"
   },
   "source": [
    "#### Containers IV: Dictionaries"
   ]
  },
  {
   "cell_type": "markdown",
   "metadata": {
    "colab_type": "text",
    "id": "MENeqODi1Che"
   },
   "source": [
    "* dictionaries are mutable and unordered"
   ]
  },
  {
   "cell_type": "code",
   "execution_count": null,
   "metadata": {
    "colab": {},
    "colab_type": "code",
    "id": "2aDVI6gF-_za"
   },
   "outputs": [],
   "source": [
    "student_scores = {'Andrew': 94, 'Jessica': 96, 'Brie': 79}"
   ]
  },
  {
   "cell_type": "code",
   "execution_count": null,
   "metadata": {
    "colab": {
     "base_uri": "https://localhost:8080/"
    },
    "colab_type": "code",
    "id": "XPls3Lv9_J2E",
    "outputId": "d3be2e49-e55c-4b94-cb74-501dab210c3e"
   },
   "outputs": [
    {
     "data": {
      "text/plain": [
       "dict"
      ]
     },
     "execution_count": 161,
     "metadata": {
      "tags": []
     },
     "output_type": "execute_result"
    }
   ],
   "source": [
    "type(student_scores)"
   ]
  },
  {
   "cell_type": "markdown",
   "metadata": {
    "colab_type": "text",
    "id": "KKsQkRAx1Zn0"
   },
   "source": [
    "* they are built using { } and key-value pairs"
   ]
  },
  {
   "cell_type": "markdown",
   "metadata": {
    "colab_type": "text",
    "id": "ojjuPv0L1cbB"
   },
   "source": [
    "* values are accessed using [ ] or with .get()"
   ]
  },
  {
   "cell_type": "code",
   "execution_count": null,
   "metadata": {
    "colab": {
     "base_uri": "https://localhost:8080/"
    },
    "colab_type": "code",
    "id": "1KaVSKTN_Qoa",
    "outputId": "25ace864-4941-4077-c6e5-14a9d76347e8"
   },
   "outputs": [
    {
     "data": {
      "text/plain": [
       "96"
      ]
     },
     "execution_count": 162,
     "metadata": {
      "tags": []
     },
     "output_type": "execute_result"
    }
   ],
   "source": [
    "student_scores['Jessica']"
   ]
  },
  {
   "cell_type": "code",
   "execution_count": null,
   "metadata": {
    "colab": {
     "base_uri": "https://localhost:8080/"
    },
    "colab_type": "code",
    "id": "3kkRUaio_U4J",
    "outputId": "26e817ec-932b-4a3f-aaea-f769b8e8f245"
   },
   "outputs": [
    {
     "data": {
      "text/plain": [
       "79"
      ]
     },
     "execution_count": 163,
     "metadata": {
      "tags": []
     },
     "output_type": "execute_result"
    }
   ],
   "source": [
    "student_scores['Brie']"
   ]
  },
  {
   "cell_type": "code",
   "execution_count": null,
   "metadata": {
    "colab": {},
    "colab_type": "code",
    "id": "8INC1O8x_W-E"
   },
   "outputs": [],
   "source": [
    "# student_scores['Andy']"
   ]
  },
  {
   "cell_type": "code",
   "execution_count": null,
   "metadata": {
    "colab": {
     "base_uri": "https://localhost:8080/"
    },
    "colab_type": "code",
    "id": "wXL1kUWy_jWE",
    "outputId": "e9da8926-761b-4137-fa40-e61662a915bc"
   },
   "outputs": [
    {
     "data": {
      "text/plain": [
       "96"
      ]
     },
     "execution_count": 165,
     "metadata": {
      "tags": []
     },
     "output_type": "execute_result"
    }
   ],
   "source": [
    "student_scores.get('Jessica')"
   ]
  },
  {
   "cell_type": "code",
   "execution_count": null,
   "metadata": {
    "colab": {},
    "colab_type": "code",
    "id": "4wKOv6KZ_qJ3"
   },
   "outputs": [],
   "source": [
    "student_scores.get('Andy')"
   ]
  },
  {
   "cell_type": "code",
   "execution_count": null,
   "metadata": {
    "colab": {
     "base_uri": "https://localhost:8080/"
    },
    "colab_type": "code",
    "id": "0owL4UDU_tT-",
    "outputId": "f2990c21-a8ea-4c21-9468-91b019de5c7c"
   },
   "outputs": [
    {
     "name": "stdout",
     "output_type": "stream",
     "text": [
      "None\n"
     ]
    }
   ],
   "source": [
    "print(student_scores.get('Andy'))"
   ]
  },
  {
   "cell_type": "markdown",
   "metadata": {
    "colab_type": "text",
    "id": "uzGhvIhL5XHZ"
   },
   "source": [
    "* adding and removing elements: dict[key] = value and dict.pop(key)"
   ]
  },
  {
   "cell_type": "code",
   "execution_count": null,
   "metadata": {
    "colab": {
     "base_uri": "https://localhost:8080/"
    },
    "colab_type": "code",
    "id": "qbhHgARZ_zOi",
    "outputId": "8f2152db-fdba-46c5-b44e-4cc0da839f80"
   },
   "outputs": [
    {
     "data": {
      "text/plain": [
       "{'Andrew': 94, 'Brie': 79, 'Jessica': 96}"
      ]
     },
     "execution_count": 168,
     "metadata": {
      "tags": []
     },
     "output_type": "execute_result"
    }
   ],
   "source": [
    "student_scores"
   ]
  },
  {
   "cell_type": "code",
   "execution_count": null,
   "metadata": {
    "colab": {},
    "colab_type": "code",
    "id": "vMUXFtzJ_0QW"
   },
   "outputs": [],
   "source": [
    "# -> Tom got a 69"
   ]
  },
  {
   "cell_type": "code",
   "execution_count": null,
   "metadata": {
    "colab": {},
    "colab_type": "code",
    "id": "YEPR6d9c_26Y"
   },
   "outputs": [],
   "source": [
    "student_scores['Tom'] = 69"
   ]
  },
  {
   "cell_type": "code",
   "execution_count": null,
   "metadata": {
    "colab": {
     "base_uri": "https://localhost:8080/"
    },
    "colab_type": "code",
    "id": "AYx-3urb_52G",
    "outputId": "39df18ce-e857-4cb7-f1d1-16e82d8b4d90"
   },
   "outputs": [
    {
     "data": {
      "text/plain": [
       "{'Andrew': 94, 'Brie': 79, 'Jessica': 96, 'Tom': 69}"
      ]
     },
     "execution_count": 171,
     "metadata": {
      "tags": []
     },
     "output_type": "execute_result"
    }
   ],
   "source": [
    "student_scores"
   ]
  },
  {
   "cell_type": "code",
   "execution_count": null,
   "metadata": {
    "colab": {
     "base_uri": "https://localhost:8080/"
    },
    "colab_type": "code",
    "id": "oqz75nFP_9kN",
    "outputId": "b9af10c5-cb71-4ade-876d-d5d890dbc11b"
   },
   "outputs": [
    {
     "data": {
      "text/plain": [
       "79"
      ]
     },
     "execution_count": 172,
     "metadata": {
      "tags": []
     },
     "output_type": "execute_result"
    }
   ],
   "source": [
    "student_scores.pop('Brie')"
   ]
  },
  {
   "cell_type": "code",
   "execution_count": null,
   "metadata": {
    "colab": {
     "base_uri": "https://localhost:8080/"
    },
    "colab_type": "code",
    "id": "-BR4AprEACqK",
    "outputId": "77a643d9-ba79-4fc6-eace-eb0958019951"
   },
   "outputs": [
    {
     "data": {
      "text/plain": [
       "{'Andrew': 94, 'Jessica': 96, 'Tom': 69}"
      ]
     },
     "execution_count": 173,
     "metadata": {
      "tags": []
     },
     "output_type": "execute_result"
    }
   ],
   "source": [
    "student_scores"
   ]
  },
  {
   "cell_type": "markdown",
   "metadata": {
    "colab_type": "text",
    "id": "dA6q42rfADbU"
   },
   "source": [
    "#### Dictionary Keys And Values"
   ]
  },
  {
   "cell_type": "code",
   "execution_count": null,
   "metadata": {
    "colab": {
     "base_uri": "https://localhost:8080/"
    },
    "colab_type": "code",
    "id": "y4baav1jApIU",
    "outputId": "de0aac8a-dcab-4b4a-d25a-d9447111cf76"
   },
   "outputs": [
    {
     "data": {
      "text/plain": [
       "{'Andrew': 94, 'Jessica': 96, 'Tom': 69}"
      ]
     },
     "execution_count": 174,
     "metadata": {
      "tags": []
     },
     "output_type": "execute_result"
    }
   ],
   "source": [
    "student_scores"
   ]
  },
  {
   "cell_type": "markdown",
   "metadata": {
    "colab_type": "text",
    "id": "Ek_6MkmmAdW4"
   },
   "source": [
    "* the values could be any other value or container object, even other dictionaries"
   ]
  },
  {
   "cell_type": "code",
   "execution_count": null,
   "metadata": {
    "colab": {},
    "colab_type": "code",
    "id": "BYy_tI7ABCOv"
   },
   "outputs": [],
   "source": [
    "student_scores2 = {\n",
    "    'Andrew': 94,\n",
    "    'Jessica': [96, 93],\n",
    "    'Tom': {\n",
    "        'bio': 94,\n",
    "        'chem': 84,\n",
    "        'phys': 79\n",
    "    }\n",
    "}"
   ]
  },
  {
   "cell_type": "code",
   "execution_count": null,
   "metadata": {
    "colab": {
     "base_uri": "https://localhost:8080/"
    },
    "colab_type": "code",
    "id": "BTk9ZAKpBXiR",
    "outputId": "d3aa1da2-6ce6-439e-b28a-4cbe1075e7d9"
   },
   "outputs": [
    {
     "data": {
      "text/plain": [
       "dict"
      ]
     },
     "execution_count": 176,
     "metadata": {
      "tags": []
     },
     "output_type": "execute_result"
    }
   ],
   "source": [
    "type(student_scores2)"
   ]
  },
  {
   "cell_type": "code",
   "execution_count": null,
   "metadata": {
    "colab": {
     "base_uri": "https://localhost:8080/"
    },
    "colab_type": "code",
    "id": "bcPmwhy0BbOt",
    "outputId": "3f726cdd-aeae-4cfb-cd6f-6b1ee93edc0c"
   },
   "outputs": [
    {
     "data": {
      "text/plain": [
       "{'Andrew': 94, 'Jessica': [96, 93], 'Tom': {'bio': 94, 'chem': 84, 'phys': 79}}"
      ]
     },
     "execution_count": 177,
     "metadata": {
      "tags": []
     },
     "output_type": "execute_result"
    }
   ],
   "source": [
    "student_scores2"
   ]
  },
  {
   "cell_type": "markdown",
   "metadata": {
    "colab_type": "text",
    "id": "OIUvGoVKAfqi"
   },
   "source": [
    "* the keys could be any immutable data type"
   ]
  },
  {
   "cell_type": "code",
   "execution_count": null,
   "metadata": {
    "colab": {},
    "colab_type": "code",
    "id": "pzBStt87Blh2"
   },
   "outputs": [],
   "source": [
    "student_scores3 = {\n",
    "    'Andrew': 94,\n",
    "    7: [96, 93],\n",
    "    ('Tom', 'Winklevoss'): {\n",
    "        'bio': 94,\n",
    "        'chem': 84,\n",
    "        'phys': 79\n",
    "    }\n",
    "}"
   ]
  },
  {
   "cell_type": "code",
   "execution_count": null,
   "metadata": {
    "colab": {
     "base_uri": "https://localhost:8080/"
    },
    "colab_type": "code",
    "id": "_bxjfSd9By1p",
    "outputId": "d0be62b8-572f-49ef-f617-f2153ae537ac"
   },
   "outputs": [
    {
     "data": {
      "text/plain": [
       "dict"
      ]
     },
     "execution_count": 179,
     "metadata": {
      "tags": []
     },
     "output_type": "execute_result"
    }
   ],
   "source": [
    "type(student_scores3)"
   ]
  },
  {
   "cell_type": "code",
   "execution_count": null,
   "metadata": {
    "colab": {
     "base_uri": "https://localhost:8080/"
    },
    "colab_type": "code",
    "id": "92cP7D2YB0pT",
    "outputId": "07499143-1558-426b-ccf8-031c0f13cbd6"
   },
   "outputs": [
    {
     "data": {
      "text/plain": [
       "{('Tom', 'Winklevoss'): {'bio': 94, 'chem': 84, 'phys': 79},\n",
       " 7: [96, 93],\n",
       " 'Andrew': 94}"
      ]
     },
     "execution_count": 180,
     "metadata": {
      "tags": []
     },
     "output_type": "execute_result"
    }
   ],
   "source": [
    "student_scores3"
   ]
  },
  {
   "cell_type": "markdown",
   "metadata": {
    "colab_type": "text",
    "id": "vcZ3-IluA07h"
   },
   "source": [
    "* .keys(), .values(), .items()"
   ]
  },
  {
   "cell_type": "code",
   "execution_count": null,
   "metadata": {
    "colab": {
     "base_uri": "https://localhost:8080/"
    },
    "colab_type": "code",
    "id": "K7tKB2ngCLOz",
    "outputId": "44646cc4-6b21-490f-df53-c6a33cd15f92"
   },
   "outputs": [
    {
     "data": {
      "text/plain": [
       "{'Andrew': 94, 'Jessica': 96, 'Tom': 69}"
      ]
     },
     "execution_count": 181,
     "metadata": {
      "tags": []
     },
     "output_type": "execute_result"
    }
   ],
   "source": [
    "student_scores"
   ]
  },
  {
   "cell_type": "code",
   "execution_count": null,
   "metadata": {
    "colab": {
     "base_uri": "https://localhost:8080/"
    },
    "colab_type": "code",
    "id": "DftrgUeJCQuw",
    "outputId": "61564b03-4ed1-4f64-a2b2-d7dd1ad83174"
   },
   "outputs": [
    {
     "data": {
      "text/plain": [
       "dict_keys(['Andrew', 'Jessica', 'Tom'])"
      ]
     },
     "execution_count": 182,
     "metadata": {
      "tags": []
     },
     "output_type": "execute_result"
    }
   ],
   "source": [
    "student_scores.keys()"
   ]
  },
  {
   "cell_type": "code",
   "execution_count": null,
   "metadata": {
    "colab": {
     "base_uri": "https://localhost:8080/"
    },
    "colab_type": "code",
    "id": "l34Q2ZoMChCA",
    "outputId": "cfc1dbcc-aa83-4b98-c0ad-6e048dab95fb"
   },
   "outputs": [
    {
     "data": {
      "text/plain": [
       "dict_keys"
      ]
     },
     "execution_count": 183,
     "metadata": {
      "tags": []
     },
     "output_type": "execute_result"
    }
   ],
   "source": [
    "type(student_scores.keys())"
   ]
  },
  {
   "cell_type": "code",
   "execution_count": null,
   "metadata": {
    "colab": {
     "base_uri": "https://localhost:8080/"
    },
    "colab_type": "code",
    "id": "pA8vLdAjCSC_",
    "outputId": "f084f5e0-51c0-48ab-d67b-c5e868fcbb61"
   },
   "outputs": [
    {
     "data": {
      "text/plain": [
       "dict_values([94, 96, 69])"
      ]
     },
     "execution_count": 184,
     "metadata": {
      "tags": []
     },
     "output_type": "execute_result"
    }
   ],
   "source": [
    "student_scores.values()"
   ]
  },
  {
   "cell_type": "code",
   "execution_count": null,
   "metadata": {
    "colab": {
     "base_uri": "https://localhost:8080/"
    },
    "colab_type": "code",
    "id": "aeEd9VP6CXSE",
    "outputId": "aab1e1a1-0baa-4d09-e656-84cc01470b4a"
   },
   "outputs": [
    {
     "data": {
      "text/plain": [
       "dict_items([('Andrew', 94), ('Jessica', 96), ('Tom', 69)])"
      ]
     },
     "execution_count": 185,
     "metadata": {
      "tags": []
     },
     "output_type": "execute_result"
    }
   ],
   "source": [
    "student_scores.items()"
   ]
  },
  {
   "cell_type": "markdown",
   "metadata": {
    "colab_type": "text",
    "id": "PTLHHmgdCZbq"
   },
   "source": [
    "#### Membership Operators"
   ]
  },
  {
   "cell_type": "code",
   "execution_count": null,
   "metadata": {
    "colab": {
     "base_uri": "https://localhost:8080/"
    },
    "colab_type": "code",
    "id": "tV3oB3Y1DJ_E",
    "outputId": "fa409568-9f6f-4297-9440-a5c787089b3e"
   },
   "outputs": [
    {
     "data": {
      "text/plain": [
       "{'Andrew': 94, 'Jessica': 96, 'Tom': 69}"
      ]
     },
     "execution_count": 186,
     "metadata": {
      "tags": []
     },
     "output_type": "execute_result"
    }
   ],
   "source": [
    "student_scores # dict"
   ]
  },
  {
   "cell_type": "code",
   "execution_count": null,
   "metadata": {
    "colab": {
     "base_uri": "https://localhost:8080/"
    },
    "colab_type": "code",
    "id": "404M7fKhDc42",
    "outputId": "c3e9fd66-0781-43d1-ceb6-7f4193e4570f"
   },
   "outputs": [
    {
     "data": {
      "text/plain": [
       "['Andrew', 'Brie', 'Cynthia', 'Eminem']"
      ]
     },
     "execution_count": 187,
     "metadata": {
      "tags": []
     },
     "output_type": "execute_result"
    }
   ],
   "source": [
    "students # list"
   ]
  },
  {
   "cell_type": "code",
   "execution_count": null,
   "metadata": {
    "colab": {
     "base_uri": "https://localhost:8080/"
    },
    "colab_type": "code",
    "id": "mRnTT8DhDd40",
    "outputId": "0b1585ed-91f0-4c7d-9119-d548f764a86d"
   },
   "outputs": [
    {
     "data": {
      "text/plain": [
       "('Ronald', 59)"
      ]
     },
     "execution_count": 188,
     "metadata": {
      "tags": []
     },
     "output_type": "execute_result"
    }
   ],
   "source": [
    "u_data # tuple"
   ]
  },
  {
   "cell_type": "code",
   "execution_count": null,
   "metadata": {
    "colab": {
     "base_uri": "https://localhost:8080/"
    },
    "colab_type": "code",
    "id": "olnprliyDnko",
    "outputId": "db98a5d0-12c8-493c-8ce7-e3fbb60aa24b"
   },
   "outputs": [
    {
     "data": {
      "text/plain": [
       "{'BA', 'BSc', 'PhD'}"
      ]
     },
     "execution_count": 189,
     "metadata": {
      "tags": []
     },
     "output_type": "execute_result"
    }
   ],
   "source": [
    "degrees # set"
   ]
  },
  {
   "cell_type": "code",
   "execution_count": null,
   "metadata": {
    "colab": {
     "base_uri": "https://localhost:8080/"
    },
    "colab_type": "code",
    "id": "KMsp7NYIGcst",
    "outputId": "5aec3bf9-215d-4cca-d76a-e7fe0697bac6"
   },
   "outputs": [
    {
     "data": {
      "text/plain": [
       "'Andrew Dogood'"
      ]
     },
     "execution_count": 190,
     "metadata": {
      "tags": []
     },
     "output_type": "execute_result"
    }
   ],
   "source": [
    "his_name = \"Andrew Dogood\"\n",
    "his_name # string"
   ]
  },
  {
   "cell_type": "markdown",
   "metadata": {
    "colab_type": "text",
    "id": "DzAJjUO9DrHu"
   },
   "source": [
    "* efficiently test membership with the *in* and *not in* operators"
   ]
  },
  {
   "cell_type": "code",
   "execution_count": null,
   "metadata": {
    "colab": {
     "base_uri": "https://localhost:8080/"
    },
    "colab_type": "code",
    "id": "QBCBl2-qH7kz",
    "outputId": "586efbf0-4d5e-46e5-92bc-3d8ffe5acafa"
   },
   "outputs": [
    {
     "data": {
      "text/plain": [
       "True"
      ]
     },
     "execution_count": 191,
     "metadata": {
      "tags": []
     },
     "output_type": "execute_result"
    }
   ],
   "source": [
    "'rew' in his_name"
   ]
  },
  {
   "cell_type": "code",
   "execution_count": null,
   "metadata": {
    "colab": {
     "base_uri": "https://localhost:8080/"
    },
    "colab_type": "code",
    "id": "_tfIO6iiIHSy",
    "outputId": "cbcb5bde-060b-42cf-f305-99bc3aee2c8e"
   },
   "outputs": [
    {
     "data": {
      "text/plain": [
       "True"
      ]
     },
     "execution_count": 192,
     "metadata": {
      "tags": []
     },
     "output_type": "execute_result"
    }
   ],
   "source": [
    "'do' not in his_name"
   ]
  },
  {
   "cell_type": "code",
   "execution_count": null,
   "metadata": {
    "colab": {
     "base_uri": "https://localhost:8080/"
    },
    "colab_type": "code",
    "id": "eHV0v0uoHoEM",
    "outputId": "774201f5-0260-446b-96d6-fe7619fedeb8"
   },
   "outputs": [
    {
     "data": {
      "text/plain": [
       "True"
      ]
     },
     "execution_count": 193,
     "metadata": {
      "tags": []
     },
     "output_type": "execute_result"
    }
   ],
   "source": [
    "'59' not in u_data"
   ]
  },
  {
   "cell_type": "code",
   "execution_count": null,
   "metadata": {
    "colab": {
     "base_uri": "https://localhost:8080/"
    },
    "colab_type": "code",
    "id": "Fq4YVYvoHx_v",
    "outputId": "193a4198-53eb-447a-8468-a021cb291026"
   },
   "outputs": [
    {
     "data": {
      "text/plain": [
       "False"
      ]
     },
     "execution_count": 194,
     "metadata": {
      "tags": []
     },
     "output_type": "execute_result"
    }
   ],
   "source": [
    "'59' in u_data"
   ]
  },
  {
   "cell_type": "code",
   "execution_count": null,
   "metadata": {
    "colab": {
     "base_uri": "https://localhost:8080/"
    },
    "colab_type": "code",
    "id": "mZXbLZyMHz-A",
    "outputId": "022c526a-d4cf-494d-b334-c0cece41da1b"
   },
   "outputs": [
    {
     "data": {
      "text/plain": [
       "True"
      ]
     },
     "execution_count": 195,
     "metadata": {
      "tags": []
     },
     "output_type": "execute_result"
    }
   ],
   "source": [
    "'BA' in degrees"
   ]
  },
  {
   "cell_type": "code",
   "execution_count": null,
   "metadata": {
    "colab": {
     "base_uri": "https://localhost:8080/"
    },
    "colab_type": "code",
    "id": "ai_zAMpYH2W1",
    "outputId": "23b8b14e-40cf-4298-8bb7-7de68d846317"
   },
   "outputs": [
    {
     "data": {
      "text/plain": [
       "False"
      ]
     },
     "execution_count": 196,
     "metadata": {
      "tags": []
     },
     "output_type": "execute_result"
    }
   ],
   "source": [
    "'BSc' not in degrees"
   ]
  },
  {
   "cell_type": "code",
   "execution_count": null,
   "metadata": {
    "colab": {
     "base_uri": "https://localhost:8080/"
    },
    "colab_type": "code",
    "id": "W5bH5TLOHjbp",
    "outputId": "ff65b5b2-2a08-4bda-b805-d5cd5d8fb8a0"
   },
   "outputs": [
    {
     "data": {
      "text/plain": [
       "True"
      ]
     },
     "execution_count": 197,
     "metadata": {
      "tags": []
     },
     "output_type": "execute_result"
    }
   ],
   "source": [
    "'Andrew' in students"
   ]
  },
  {
   "cell_type": "code",
   "execution_count": null,
   "metadata": {
    "colab": {
     "base_uri": "https://localhost:8080/"
    },
    "colab_type": "code",
    "id": "YbRuJk6pHgUI",
    "outputId": "f1521ab1-8af9-408c-ca13-0777962f99d5"
   },
   "outputs": [
    {
     "data": {
      "text/plain": [
       "False"
      ]
     },
     "execution_count": 198,
     "metadata": {
      "tags": []
     },
     "output_type": "execute_result"
    }
   ],
   "source": [
    "'Andy' in students"
   ]
  },
  {
   "cell_type": "code",
   "execution_count": null,
   "metadata": {
    "colab": {
     "base_uri": "https://localhost:8080/"
    },
    "colab_type": "code",
    "id": "u8wwjFVfG_QY",
    "outputId": "ff8a5898-95ac-42f7-8bfe-b26d274f3efc"
   },
   "outputs": [
    {
     "data": {
      "text/plain": [
       "False"
      ]
     },
     "execution_count": 199,
     "metadata": {
      "tags": []
     },
     "output_type": "execute_result"
    }
   ],
   "source": [
    "'Brandon' in student_scores"
   ]
  },
  {
   "cell_type": "code",
   "execution_count": null,
   "metadata": {
    "colab": {
     "base_uri": "https://localhost:8080/"
    },
    "colab_type": "code",
    "id": "4zQgUv-tHYJU",
    "outputId": "516d222b-b506-454c-d988-8fab62b93535"
   },
   "outputs": [
    {
     "data": {
      "text/plain": [
       "True"
      ]
     },
     "execution_count": 200,
     "metadata": {
      "tags": []
     },
     "output_type": "execute_result"
    }
   ],
   "source": [
    "'Andrew' in student_scores"
   ]
  },
  {
   "cell_type": "markdown",
   "metadata": {
    "colab_type": "text",
    "id": "Q0R5hfHhHbQD"
   },
   "source": [
    "#### Controlling Flow: if, else, And elif"
   ]
  },
  {
   "cell_type": "code",
   "execution_count": null,
   "metadata": {
    "colab": {},
    "colab_type": "code",
    "id": "OpeIAiOYO2va"
   },
   "outputs": [],
   "source": [
    "passed = []\n",
    "failed = []\n",
    "\n",
    "student_1 = {'name': 'Jess', 'exam_score': 72, 'attendance': True }\n",
    "student_2 = {'name': 'Briana', 'exam_score': 90, 'attendance': True }\n",
    "student_3 = {'name': 'Jay', 'exam_score': 64, 'attendance': False }"
   ]
  },
  {
   "cell_type": "markdown",
   "metadata": {
    "colab_type": "text",
    "id": "m7qAC7StIinW"
   },
   "source": [
    "* if statements allow us to control the flow of a program"
   ]
  },
  {
   "cell_type": "code",
   "execution_count": null,
   "metadata": {
    "colab": {},
    "colab_type": "code",
    "id": "GJiI0OQTcOv8"
   },
   "outputs": [],
   "source": [
    "if student_1.get('exam_score') > 70:\n",
    "  passed.append(student_1)"
   ]
  },
  {
   "cell_type": "code",
   "execution_count": null,
   "metadata": {
    "colab": {
     "base_uri": "https://localhost:8080/"
    },
    "colab_type": "code",
    "id": "gPRIqvVXcfAH",
    "outputId": "3c7433d8-8005-4d28-fdf1-6ecedb129a3f"
   },
   "outputs": [
    {
     "data": {
      "text/plain": [
       "[{'attendance': True, 'exam_score': 72, 'name': 'Jess'}]"
      ]
     },
     "execution_count": 203,
     "metadata": {
      "tags": []
     },
     "output_type": "execute_result"
    }
   ],
   "source": [
    "passed"
   ]
  },
  {
   "cell_type": "markdown",
   "metadata": {
    "colab_type": "text",
    "id": "HdNTdrJTOp3_"
   },
   "source": [
    "* else and elif keywords"
   ]
  },
  {
   "cell_type": "code",
   "execution_count": null,
   "metadata": {
    "colab": {},
    "colab_type": "code",
    "id": "gHqi-Qdjci4k"
   },
   "outputs": [],
   "source": [
    "if student_2.get('exam_score') > 70:\n",
    "  passed.append(student_2)\n",
    "else: \n",
    "  failed.append(student_2)"
   ]
  },
  {
   "cell_type": "code",
   "execution_count": null,
   "metadata": {
    "colab": {
     "base_uri": "https://localhost:8080/"
    },
    "colab_type": "code",
    "id": "wN2WKm2Mcti2",
    "outputId": "6cc5fe39-427d-437e-f884-34d2e5fc26e9"
   },
   "outputs": [
    {
     "data": {
      "text/plain": [
       "[{'attendance': True, 'exam_score': 72, 'name': 'Jess'},\n",
       " {'attendance': True, 'exam_score': 90, 'name': 'Briana'}]"
      ]
     },
     "execution_count": 205,
     "metadata": {
      "tags": []
     },
     "output_type": "execute_result"
    }
   ],
   "source": [
    "passed"
   ]
  },
  {
   "cell_type": "code",
   "execution_count": null,
   "metadata": {
    "colab": {},
    "colab_type": "code",
    "id": "PAd7dWYqcyye"
   },
   "outputs": [],
   "source": [
    "if student_3.get('exam_score') > 70:\n",
    "  passed.append(student_3)\n",
    "elif student_3.get('exam_score') > 65 and student_3.get('attendance') == True:\n",
    "  passed.append(student_3)\n",
    "else: \n",
    "  failed.append(student_3)"
   ]
  },
  {
   "cell_type": "code",
   "execution_count": null,
   "metadata": {
    "colab": {
     "base_uri": "https://localhost:8080/"
    },
    "colab_type": "code",
    "id": "c_AYssd2dTP3",
    "outputId": "0f1688ac-5d62-478a-fcc7-7cf86d3fea92"
   },
   "outputs": [
    {
     "data": {
      "text/plain": [
       "[{'attendance': True, 'exam_score': 72, 'name': 'Jess'},\n",
       " {'attendance': True, 'exam_score': 90, 'name': 'Briana'}]"
      ]
     },
     "execution_count": 207,
     "metadata": {
      "tags": []
     },
     "output_type": "execute_result"
    }
   ],
   "source": [
    "passed"
   ]
  },
  {
   "cell_type": "code",
   "execution_count": null,
   "metadata": {
    "colab": {
     "base_uri": "https://localhost:8080/"
    },
    "colab_type": "code",
    "id": "6LP5BXDPdUXY",
    "outputId": "579638b9-bdda-4dca-fbf5-77f6f5d40ad1"
   },
   "outputs": [
    {
     "data": {
      "text/plain": [
       "[{'attendance': False, 'exam_score': 64, 'name': 'Jay'}]"
      ]
     },
     "execution_count": 208,
     "metadata": {
      "tags": []
     },
     "output_type": "execute_result"
    }
   ],
   "source": [
    "failed"
   ]
  },
  {
   "cell_type": "markdown",
   "metadata": {
    "colab_type": "text",
    "id": "NUQ7QX3oQJTM"
   },
   "source": [
    "* combining boolean expressions with *and*, *or*"
   ]
  },
  {
   "cell_type": "markdown",
   "metadata": {
    "colab_type": "text",
    "id": "8sZo15aCQAat"
   },
   "source": [
    "* pitfall: using the assignment '=' operator instead of the comparison '=='"
   ]
  },
  {
   "cell_type": "markdown",
   "metadata": {
    "colab_type": "text",
    "id": "ul3zo8t2jGEY"
   },
   "source": [
    "#### Truth Value Of Non-booleans"
   ]
  },
  {
   "cell_type": "code",
   "execution_count": null,
   "metadata": {
    "colab": {
     "base_uri": "https://localhost:8080/"
    },
    "colab_type": "code",
    "id": "akIt_UfUjG5w",
    "outputId": "d8e13db3-d7ed-4eb1-ee4a-a5a815da0886"
   },
   "outputs": [
    {
     "name": "stdout",
     "output_type": "stream",
     "text": [
      "passed!\n"
     ]
    }
   ],
   "source": [
    "if student_1.get('attendance') == True:\n",
    "  print('passed!')\n",
    "else:\n",
    "  print('failed :(')"
   ]
  },
  {
   "cell_type": "code",
   "execution_count": null,
   "metadata": {
    "colab": {
     "base_uri": "https://localhost:8080/"
    },
    "colab_type": "code",
    "id": "i3okD-KBq3ES",
    "outputId": "3403fccd-2c98-4c28-c10d-bf3a827802c3"
   },
   "outputs": [
    {
     "data": {
      "text/plain": [
       "True"
      ]
     },
     "execution_count": 210,
     "metadata": {
      "tags": []
     },
     "output_type": "execute_result"
    }
   ],
   "source": [
    "student_1.get('attendance')"
   ]
  },
  {
   "cell_type": "markdown",
   "metadata": {
    "colab_type": "text",
    "id": "QNPBWgxIjM0a"
   },
   "source": [
    "* shorthand syntax"
   ]
  },
  {
   "cell_type": "code",
   "execution_count": null,
   "metadata": {
    "colab": {
     "base_uri": "https://localhost:8080/"
    },
    "colab_type": "code",
    "id": "D_MiQkbxq4dG",
    "outputId": "a416a2b3-7de6-4588-a4f2-6c8393c09a71"
   },
   "outputs": [
    {
     "name": "stdout",
     "output_type": "stream",
     "text": [
      "passed!\n"
     ]
    }
   ],
   "source": [
    "if student_1.get('attendance'):\n",
    "  print('passed!')\n",
    "else:\n",
    "  print('failed :(')"
   ]
  },
  {
   "cell_type": "code",
   "execution_count": null,
   "metadata": {
    "colab": {
     "base_uri": "https://localhost:8080/"
    },
    "colab_type": "code",
    "id": "MnbNR4NfrAml",
    "outputId": "8d0521ce-8304-4272-a327-91e854e9c01b"
   },
   "outputs": [
    {
     "data": {
      "text/plain": [
       "72"
      ]
     },
     "execution_count": 212,
     "metadata": {
      "tags": []
     },
     "output_type": "execute_result"
    }
   ],
   "source": [
    "student_1.get('exam_score')"
   ]
  },
  {
   "cell_type": "code",
   "execution_count": null,
   "metadata": {
    "colab": {
     "base_uri": "https://localhost:8080/"
    },
    "colab_type": "code",
    "id": "2ECXKiEUrD4M",
    "outputId": "fbf794e1-5033-4104-8245-3d7e7db14b4e"
   },
   "outputs": [
    {
     "name": "stdout",
     "output_type": "stream",
     "text": [
      "passed!\n"
     ]
    }
   ],
   "source": [
    "if student_1.get('exam_score'):\n",
    "  print('passed!')\n",
    "else:\n",
    "  print('failed :(')"
   ]
  },
  {
   "cell_type": "code",
   "execution_count": null,
   "metadata": {
    "colab": {
     "base_uri": "https://localhost:8080/"
    },
    "colab_type": "code",
    "id": "G4UIgeZdrSMF",
    "outputId": "09f84291-affd-44b7-9f9e-6a02dc3fb493"
   },
   "outputs": [
    {
     "name": "stdout",
     "output_type": "stream",
     "text": [
      "passed!\n"
     ]
    }
   ],
   "source": [
    "if 72:\n",
    "  print('passed!')\n",
    "else:\n",
    "  print('failed :(')"
   ]
  },
  {
   "cell_type": "code",
   "execution_count": null,
   "metadata": {
    "colab": {
     "base_uri": "https://localhost:8080/"
    },
    "colab_type": "code",
    "id": "3r9LByr5rXNx",
    "outputId": "d41bb33b-28d6-4645-eda9-b1049c9630a1"
   },
   "outputs": [
    {
     "name": "stdout",
     "output_type": "stream",
     "text": [
      "failed :(\n"
     ]
    }
   ],
   "source": [
    "if 0.0:\n",
    "  print('passed!')\n",
    "else:\n",
    "  print('failed :(')"
   ]
  },
  {
   "cell_type": "code",
   "execution_count": null,
   "metadata": {
    "colab": {
     "base_uri": "https://localhost:8080/"
    },
    "colab_type": "code",
    "id": "2mYphlgQrac5",
    "outputId": "537613d9-34c4-4093-bce6-980f4d080118"
   },
   "outputs": [
    {
     "name": "stdout",
     "output_type": "stream",
     "text": [
      "passed!\n"
     ]
    }
   ],
   "source": [
    "if ['a']:\n",
    "  print('passed!')\n",
    "else:\n",
    "  print('failed :(')"
   ]
  },
  {
   "cell_type": "markdown",
   "metadata": {
    "colab_type": "text",
    "id": "G-a-NF4Njjc2"
   },
   "source": [
    "* all objects (not just booleans) in python have a truth value"
   ]
  },
  {
   "cell_type": "markdown",
   "metadata": {
    "colab_type": "text",
    "id": "-tTm8fnmjxCO"
   },
   "source": [
    "* falsy objects: None, False, ( ), { }, [ ], 0, 0.0"
   ]
  },
  {
   "cell_type": "markdown",
   "metadata": {
    "colab_type": "text",
    "id": "rWnhok6sruUC"
   },
   "source": [
    "#### For Loops"
   ]
  },
  {
   "cell_type": "code",
   "execution_count": null,
   "metadata": {
    "colab": {
     "base_uri": "https://localhost:8080/"
    },
    "colab_type": "code",
    "id": "KMY0e_OAx-iR",
    "outputId": "6ba0e13d-f27f-4807-9ecc-aa4bd51f5784"
   },
   "outputs": [
    {
     "name": "stdout",
     "output_type": "stream",
     "text": [
      "hey, welcome\n",
      "this is python\n",
      "pandas is coming soon\n"
     ]
    }
   ],
   "source": [
    "should_greet = True\n",
    "\n",
    "greetings = ['hey, welcome', 'this is python', 'pandas is coming soon']\n",
    "\n",
    "language = 'python'\n",
    "\n",
    "if should_greet:\n",
    "  print(greetings[0])\n",
    "  print(greetings[1])\n",
    "  print(greetings[2])"
   ]
  },
  {
   "cell_type": "markdown",
   "metadata": {
    "colab_type": "text",
    "id": "gpiUdfI9xLmo"
   },
   "source": [
    "* loops help us execute a block of code multiple times"
   ]
  },
  {
   "cell_type": "markdown",
   "metadata": {
    "colab_type": "text",
    "id": "nRyjYsflxEFV"
   },
   "source": [
    "* python has two types of loops: *for* and *while* (next lecture)"
   ]
  },
  {
   "cell_type": "markdown",
   "metadata": {
    "colab_type": "text",
    "id": "RkT_TbcGrvHs"
   },
   "source": [
    "* for loops help us loop over iterables, which are objects that return one element at a time"
   ]
  },
  {
   "cell_type": "code",
   "execution_count": null,
   "metadata": {
    "colab": {
     "base_uri": "https://localhost:8080/"
    },
    "colab_type": "code",
    "id": "6LEWCTGo14_Z",
    "outputId": "defa105c-20d0-4292-93b3-c2734c0aadb7"
   },
   "outputs": [
    {
     "name": "stdout",
     "output_type": "stream",
     "text": [
      "hey, welcome\n",
      "this is python\n",
      "pandas is coming soon\n"
     ]
    }
   ],
   "source": [
    "for gr in greetings:\n",
    "  print(gr)"
   ]
  },
  {
   "cell_type": "code",
   "execution_count": null,
   "metadata": {
    "colab": {
     "base_uri": "https://localhost:8080/"
    },
    "colab_type": "code",
    "id": "iE9ZWJ8H2a71",
    "outputId": "3202e6b0-b45a-4daa-ce8c-84642148c674"
   },
   "outputs": [
    {
     "name": "stdout",
     "output_type": "stream",
     "text": [
      "p\n",
      "y\n",
      "t\n",
      "h\n",
      "o\n",
      "n\n"
     ]
    }
   ],
   "source": [
    "for char in language:\n",
    "  print(char)"
   ]
  },
  {
   "cell_type": "markdown",
   "metadata": {
    "colab_type": "text",
    "id": "L6NxlgjZ2kiv"
   },
   "source": [
    "#### The range() Immutable Sequence"
   ]
  },
  {
   "cell_type": "code",
   "execution_count": null,
   "metadata": {
    "colab": {},
    "colab_type": "code",
    "id": "CidrFHFo3oT5"
   },
   "outputs": [],
   "source": [
    "say_hi = 6"
   ]
  },
  {
   "cell_type": "code",
   "execution_count": null,
   "metadata": {
    "colab": {
     "base_uri": "https://localhost:8080/"
    },
    "colab_type": "code",
    "id": "hz48pQ6f5FMZ",
    "outputId": "78f1b0a7-7433-4110-f9a0-085c0fd1ff59"
   },
   "outputs": [
    {
     "name": "stdout",
     "output_type": "stream",
     "text": [
      "hi\n",
      "hi\n",
      "hi\n",
      "hi\n",
      "hi\n",
      "hi\n"
     ]
    }
   ],
   "source": [
    "for i in range(say_hi):\n",
    "  print('hi')"
   ]
  },
  {
   "cell_type": "code",
   "execution_count": null,
   "metadata": {
    "colab": {
     "base_uri": "https://localhost:8080/"
    },
    "colab_type": "code",
    "id": "XGcXXKAN5UjO",
    "outputId": "bc6e37dd-2a87-4e3a-890c-13fd186a83b4"
   },
   "outputs": [
    {
     "data": {
      "text/plain": [
       "[0, 1, 2, 3, 4, 5]"
      ]
     },
     "execution_count": 222,
     "metadata": {
      "tags": []
     },
     "output_type": "execute_result"
    }
   ],
   "source": [
    "list(range(6)) # start = 0, step = 1"
   ]
  },
  {
   "cell_type": "markdown",
   "metadata": {
    "colab_type": "text",
    "id": "B44pxFFr3Xja"
   },
   "source": [
    "* range() is an immutable sequence type that is very useful in for loops "
   ]
  },
  {
   "cell_type": "code",
   "execution_count": null,
   "metadata": {
    "colab": {
     "base_uri": "https://localhost:8080/"
    },
    "colab_type": "code",
    "id": "dS6Jh85K5egF",
    "outputId": "eedbc8af-5b67-4391-c587-29f4cb42e88e"
   },
   "outputs": [
    {
     "data": {
      "text/plain": [
       "[0, 1, 2, 3, 4, 5]"
      ]
     },
     "execution_count": 223,
     "metadata": {
      "tags": []
     },
     "output_type": "execute_result"
    }
   ],
   "source": [
    "list(range(0, 6, 1))"
   ]
  },
  {
   "cell_type": "code",
   "execution_count": null,
   "metadata": {
    "colab": {
     "base_uri": "https://localhost:8080/"
    },
    "colab_type": "code",
    "id": "zYLT8dts4kQb",
    "outputId": "66ca4554-0fc3-46a6-a031-d9c0a5d04b1d"
   },
   "outputs": [
    {
     "data": {
      "text/plain": [
       "range(3, 10)"
      ]
     },
     "execution_count": 224,
     "metadata": {
      "tags": []
     },
     "output_type": "execute_result"
    }
   ],
   "source": [
    "range(3, 10, 1)"
   ]
  },
  {
   "cell_type": "code",
   "execution_count": null,
   "metadata": {
    "colab": {
     "base_uri": "https://localhost:8080/"
    },
    "colab_type": "code",
    "id": "TnTL-2zB4xv5",
    "outputId": "9285e218-6497-4fe7-c4b2-6006f4e1a271"
   },
   "outputs": [
    {
     "data": {
      "text/plain": [
       "[3, 4, 5, 6, 7, 8, 9, 10]"
      ]
     },
     "execution_count": 225,
     "metadata": {
      "tags": []
     },
     "output_type": "execute_result"
    }
   ],
   "source": [
    "list(range(3, 11, 1))"
   ]
  },
  {
   "cell_type": "code",
   "execution_count": null,
   "metadata": {
    "colab": {
     "base_uri": "https://localhost:8080/"
    },
    "colab_type": "code",
    "id": "i0SMeMQY4785",
    "outputId": "039430bd-9e79-4490-8c0c-9b19b8abb317"
   },
   "outputs": [
    {
     "data": {
      "text/plain": [
       "[0, 2, 4, 6, 8, 10]"
      ]
     },
     "execution_count": 226,
     "metadata": {
      "tags": []
     },
     "output_type": "execute_result"
    }
   ],
   "source": [
    "list(range(0, 11, 2))"
   ]
  },
  {
   "cell_type": "markdown",
   "metadata": {
    "colab_type": "text",
    "id": "QXQvANoN3hpO"
   },
   "source": [
    "* ...start, stop, and step must be integers "
   ]
  },
  {
   "cell_type": "markdown",
   "metadata": {
    "colab_type": "text",
    "id": "LKXlB99O6Eb3"
   },
   "source": [
    "#### While Loops"
   ]
  },
  {
   "cell_type": "code",
   "execution_count": null,
   "metadata": {
    "colab": {},
    "colab_type": "code",
    "id": "h6QtKHpp7R3F"
   },
   "outputs": [],
   "source": [
    "balance = 2000\n",
    "next_round_cost = 42.34\n",
    "games_played = 0\n",
    "\n",
    "# Q: how many games could be played if the cost to play doubles each round?"
   ]
  },
  {
   "cell_type": "markdown",
   "metadata": {
    "colab_type": "text",
    "id": "D5OnOptr6FIy"
   },
   "source": [
    "* *for* loops run a definite number of times whereas *while* loops repeat an indefinite number of times, i.e. until a condition is met"
   ]
  },
  {
   "cell_type": "code",
   "execution_count": null,
   "metadata": {
    "colab": {},
    "colab_type": "code",
    "id": "xoR9Kls08Pes"
   },
   "outputs": [],
   "source": [
    "# definite:\n",
    "#   for each element in a list of elements, \n",
    "#   for each character in a string,\n",
    "#   for each elemement in a set, etc\n",
    "\n",
    "# indefinite:\n",
    "#   until a condition is met"
   ]
  },
  {
   "cell_type": "markdown",
   "metadata": {
    "colab_type": "text",
    "id": "R6KxcjrJ6yFA"
   },
   "source": [
    "* each time the loop runs, the condition is re-evaluated, repeating indefinitely until the condition evaluates to False"
   ]
  },
  {
   "cell_type": "code",
   "execution_count": null,
   "metadata": {
    "colab": {},
    "colab_type": "code",
    "id": "7M9-vKOj80dt"
   },
   "outputs": [],
   "source": [
    "# while (condition):\n",
    "#   # loop body"
   ]
  },
  {
   "cell_type": "code",
   "execution_count": null,
   "metadata": {
    "colab": {},
    "colab_type": "code",
    "id": "pZck48MO9DaW"
   },
   "outputs": [],
   "source": [
    "while balance > next_round_cost:\n",
    "  games_played += 1\n",
    "  balance -= next_round_cost\n",
    "  next_round_cost *= 2  "
   ]
  },
  {
   "cell_type": "code",
   "execution_count": null,
   "metadata": {
    "colab": {
     "base_uri": "https://localhost:8080/"
    },
    "colab_type": "code",
    "id": "YJ_ZQI3O9d0T",
    "outputId": "d232f876-4448-4225-fcbd-33836faba836"
   },
   "outputs": [
    {
     "data": {
      "text/plain": [
       "5"
      ]
     },
     "execution_count": 231,
     "metadata": {
      "tags": []
     },
     "output_type": "execute_result"
    }
   ],
   "source": [
    "games_played"
   ]
  },
  {
   "cell_type": "code",
   "execution_count": null,
   "metadata": {
    "colab": {
     "base_uri": "https://localhost:8080/"
    },
    "colab_type": "code",
    "id": "5nLpj0Bp9fsv",
    "outputId": "0ddc1f16-ba7e-4675-df4b-16e03bc8b37b"
   },
   "outputs": [
    {
     "data": {
      "text/plain": [
       "1354.88"
      ]
     },
     "execution_count": 232,
     "metadata": {
      "tags": []
     },
     "output_type": "execute_result"
    }
   ],
   "source": [
    "next_round_cost"
   ]
  },
  {
   "cell_type": "code",
   "execution_count": null,
   "metadata": {
    "colab": {
     "base_uri": "https://localhost:8080/"
    },
    "colab_type": "code",
    "id": "5AT9rPkZ9iDZ",
    "outputId": "6819f528-1d92-466d-d9d2-47d1ab787fe2"
   },
   "outputs": [
    {
     "data": {
      "text/plain": [
       "687.4599999999998"
      ]
     },
     "execution_count": 233,
     "metadata": {
      "tags": []
     },
     "output_type": "execute_result"
    }
   ],
   "source": [
    "balance"
   ]
  },
  {
   "cell_type": "markdown",
   "metadata": {
    "colab_type": "text",
    "id": "xfikn66v6W8o"
   },
   "source": [
    "* very important: always make sure that the body of the while loop modifies some part of the condition"
   ]
  },
  {
   "cell_type": "markdown",
   "metadata": {
    "colab_type": "text",
    "id": "4RLfDI8L-Ue0"
   },
   "source": [
    "#### Break And Continue"
   ]
  },
  {
   "cell_type": "code",
   "execution_count": null,
   "metadata": {
    "colab": {},
    "colab_type": "code",
    "id": "lirqTaSU_IU2"
   },
   "outputs": [],
   "source": [
    "greetings2 = ['hey', 'hello', 'stop', 'what\\'s up?', 'let me tell you a story, are you ready?', 'hey there', 'what\\'s new?']"
   ]
  },
  {
   "cell_type": "markdown",
   "metadata": {
    "colab_type": "text",
    "id": "XeyEN-OX-Vlt"
   },
   "source": [
    "* break exits out of a loop"
   ]
  },
  {
   "cell_type": "code",
   "execution_count": null,
   "metadata": {
    "colab": {
     "base_uri": "https://localhost:8080/"
    },
    "colab_type": "code",
    "id": "0HQC5idZEL3z",
    "outputId": "4c88c68f-7f5d-4061-9d09-8b974bcf8bbb"
   },
   "outputs": [
    {
     "name": "stdout",
     "output_type": "stream",
     "text": [
      "hey\n",
      "hello\n"
     ]
    }
   ],
   "source": [
    "for greeting in greetings2:\n",
    "  if greeting == 'stop':\n",
    "    break\n",
    "  else: \n",
    "    print(greeting)"
   ]
  },
  {
   "cell_type": "code",
   "execution_count": null,
   "metadata": {
    "colab": {
     "base_uri": "https://localhost:8080/"
    },
    "colab_type": "code",
    "id": "8AsnEdAiE6ca",
    "outputId": "fa43f5bf-3d9b-40c1-c4a6-379552177342"
   },
   "outputs": [
    {
     "name": "stdout",
     "output_type": "stream",
     "text": [
      "hey\n",
      "hello\n"
     ]
    }
   ],
   "source": [
    "for greeting in greetings2:\n",
    "  if greeting == 'stop': break\n",
    "\n",
    "  print(greeting)"
   ]
  },
  {
   "cell_type": "markdown",
   "metadata": {
    "colab_type": "text",
    "id": "BVbqofoN-wUb"
   },
   "source": [
    "* continue skips a single iteration"
   ]
  },
  {
   "cell_type": "code",
   "execution_count": null,
   "metadata": {
    "colab": {
     "base_uri": "https://localhost:8080/"
    },
    "colab_type": "code",
    "id": "VbvcPzOPEfCU",
    "outputId": "eccda2d2-3733-4696-f9c7-695858f9b153"
   },
   "outputs": [
    {
     "name": "stdout",
     "output_type": "stream",
     "text": [
      "hey\n",
      "hello\n",
      "stop\n",
      "what's up?\n",
      "hey there\n",
      "what's new?\n"
     ]
    }
   ],
   "source": [
    "for greeting in greetings2:\n",
    "  if len(greeting) > 11:\n",
    "    continue\n",
    "  else:\n",
    "    print(greeting)"
   ]
  },
  {
   "cell_type": "code",
   "execution_count": null,
   "metadata": {
    "colab": {
     "base_uri": "https://localhost:8080/"
    },
    "colab_type": "code",
    "id": "8_eYMSPNFBRF",
    "outputId": "e5269293-6f59-427a-9037-d8f9dda656e6"
   },
   "outputs": [
    {
     "name": "stdout",
     "output_type": "stream",
     "text": [
      "hey\n",
      "hello\n",
      "stop\n",
      "what's up?\n",
      "hey there\n",
      "what's new?\n"
     ]
    }
   ],
   "source": [
    "for greeting in greetings2:\n",
    "  if len(greeting) > 11:  continue\n",
    "\n",
    "  print(greeting)"
   ]
  },
  {
   "cell_type": "markdown",
   "metadata": {
    "colab_type": "text",
    "id": "vLmByUGbEh5n"
   },
   "source": [
    "#### Zipping Iterables"
   ]
  },
  {
   "cell_type": "code",
   "execution_count": null,
   "metadata": {
    "colab": {},
    "colab_type": "code",
    "id": "ZRtkQpsBFQ6y"
   },
   "outputs": [],
   "source": [
    "names = ['Andrew', 'Brian', 'Caledon', 'Deirdre']\n",
    "\n",
    "score = [100, 90, 74, 84]"
   ]
  },
  {
   "cell_type": "markdown",
   "metadata": {
    "colab_type": "text",
    "id": "9f4aKB3pHkt_"
   },
   "source": [
    "* zip creates an iterable (a zip object) combining values from several other iterables"
   ]
  },
  {
   "cell_type": "code",
   "execution_count": null,
   "metadata": {
    "colab": {
     "base_uri": "https://localhost:8080/"
    },
    "colab_type": "code",
    "id": "G7ny57soJa8h",
    "outputId": "b187505d-054c-408c-f8bf-d9d7028a2c9b"
   },
   "outputs": [
    {
     "data": {
      "text/plain": [
       "[('Andrew', 100), ('Brian', 90), ('Caledon', 74), ('Deirdre', 84)]"
      ]
     },
     "execution_count": 240,
     "metadata": {
      "tags": []
     },
     "output_type": "execute_result"
    }
   ],
   "source": [
    "list(zip(names, score))"
   ]
  },
  {
   "cell_type": "markdown",
   "metadata": {
    "colab_type": "text",
    "id": "T8Y9DY3hH4Mk"
   },
   "source": [
    "* values could be unpacked in a for loop"
   ]
  },
  {
   "cell_type": "code",
   "execution_count": null,
   "metadata": {
    "colab": {
     "base_uri": "https://localhost:8080/"
    },
    "colab_type": "code",
    "id": "98dop6ktJmRg",
    "outputId": "a05ec6fb-cfe8-4f4d-f048-7d83a30bcb93"
   },
   "outputs": [
    {
     "name": "stdout",
     "output_type": "stream",
     "text": [
      "Andrew got a 100 on the exam\n",
      "Brian got a 90 on the exam\n",
      "Caledon got a 74 on the exam\n",
      "Deirdre got a 84 on the exam\n"
     ]
    }
   ],
   "source": [
    "for student_name, student_score in zip(names, score):\n",
    "  print(\"{} got a {} on the exam\".format(student_name, student_score))"
   ]
  },
  {
   "cell_type": "code",
   "execution_count": null,
   "metadata": {
    "colab": {},
    "colab_type": "code",
    "id": "o6NcNFZkJpKj"
   },
   "outputs": [],
   "source": [
    "names = ['Andrew', 'Brian', 'Caledon', 'Deirdre']\n",
    "\n",
    "score = [100, 90, 74, 84]\n",
    "\n",
    "attendance = [True, True, False, True]"
   ]
  },
  {
   "cell_type": "code",
   "execution_count": null,
   "metadata": {
    "colab": {
     "base_uri": "https://localhost:8080/"
    },
    "colab_type": "code",
    "id": "2BHH1_TZKAi4",
    "outputId": "62da3bad-083b-486a-8dce-9b4983c14e07"
   },
   "outputs": [
    {
     "name": "stdout",
     "output_type": "stream",
     "text": [
      "('Andrew', 100, True)\n",
      "('Brian', 90, True)\n",
      "('Caledon', 74, False)\n",
      "('Deirdre', 84, True)\n"
     ]
    }
   ],
   "source": [
    "for i in zip(names, score, attendance):\n",
    "  print(i)"
   ]
  },
  {
   "cell_type": "markdown",
   "metadata": {
    "colab_type": "text",
    "id": "Be3l_tlhKDGV"
   },
   "source": [
    "#### List Comprehensions"
   ]
  },
  {
   "cell_type": "code",
   "execution_count": null,
   "metadata": {
    "colab": {},
    "colab_type": "code",
    "id": "ddTKEDvpNd8q"
   },
   "outputs": [],
   "source": [
    "numbers = [10, 2, 4, 12, 13, 1, 712, 23, 2, 192]\n",
    "\n",
    "students = [{'name': 'Andrea', 'score': 90},\n",
    "            {'name': 'Astrid', 'score': 76},\n",
    "            {'name': 'Beatrice', 'score': 64},\n",
    "            {'name': 'Brenda', 'score': 96}]\n",
    "\n",
    "# Q1: create a list containing all the odd integers in numbers\n",
    "# Q2: create a list of all the students who scored more than 90"
   ]
  },
  {
   "cell_type": "markdown",
   "metadata": {
    "colab_type": "text",
    "id": "vXHpaLqIKSgU"
   },
   "source": [
    "* comprehensions are a pythonic way to build lists, sets, and dictionaries without a for loop"
   ]
  },
  {
   "cell_type": "code",
   "execution_count": null,
   "metadata": {
    "colab": {
     "base_uri": "https://localhost:8080/"
    },
    "colab_type": "code",
    "id": "n4iVqOD1T_lk",
    "outputId": "a4365b80-77c9-4f60-85bb-e17415e5108c"
   },
   "outputs": [
    {
     "data": {
      "text/plain": [
       "[10, 2, 4, 12, 13, 1, 712, 23, 2, 192]"
      ]
     },
     "execution_count": 245,
     "metadata": {
      "tags": []
     },
     "output_type": "execute_result"
    }
   ],
   "source": [
    "numbers"
   ]
  },
  {
   "cell_type": "code",
   "execution_count": null,
   "metadata": {
    "colab": {},
    "colab_type": "code",
    "id": "L1QBYz3JUGyl"
   },
   "outputs": [],
   "source": [
    "# odd or even"
   ]
  },
  {
   "cell_type": "code",
   "execution_count": null,
   "metadata": {
    "colab": {
     "base_uri": "https://localhost:8080/"
    },
    "colab_type": "code",
    "id": "rOoQp46dUIXq",
    "outputId": "0c1437d4-6d4c-443c-8156-f8ea063571b2"
   },
   "outputs": [
    {
     "data": {
      "text/plain": [
       "0"
      ]
     },
     "execution_count": 247,
     "metadata": {
      "tags": []
     },
     "output_type": "execute_result"
    }
   ],
   "source": [
    "10 % 2"
   ]
  },
  {
   "cell_type": "code",
   "execution_count": null,
   "metadata": {
    "colab": {
     "base_uri": "https://localhost:8080/"
    },
    "colab_type": "code",
    "id": "V1YFKdmSULct",
    "outputId": "b05b1595-9b36-4c1a-a2f2-421a68502d3f"
   },
   "outputs": [
    {
     "data": {
      "text/plain": [
       "1"
      ]
     },
     "execution_count": 248,
     "metadata": {
      "tags": []
     },
     "output_type": "execute_result"
    }
   ],
   "source": [
    "13 % 2"
   ]
  },
  {
   "cell_type": "code",
   "execution_count": null,
   "metadata": {
    "colab": {},
    "colab_type": "code",
    "id": "5FlfK13XUT_A"
   },
   "outputs": [],
   "source": [
    "odds = []"
   ]
  },
  {
   "cell_type": "code",
   "execution_count": null,
   "metadata": {
    "colab": {},
    "colab_type": "code",
    "id": "bbTztRXJUElm"
   },
   "outputs": [],
   "source": [
    "for number in numbers:\n",
    "  if number % 2 == 1:\n",
    "    odds.append(number)"
   ]
  },
  {
   "cell_type": "code",
   "execution_count": null,
   "metadata": {
    "colab": {
     "base_uri": "https://localhost:8080/"
    },
    "colab_type": "code",
    "id": "Bt39Lqs-UWz0",
    "outputId": "cf072a4f-abce-405c-a74a-e69573ec7d26"
   },
   "outputs": [
    {
     "data": {
      "text/plain": [
       "[13, 1, 23]"
      ]
     },
     "execution_count": 251,
     "metadata": {
      "tags": []
     },
     "output_type": "execute_result"
    }
   ],
   "source": [
    "odds"
   ]
  },
  {
   "cell_type": "code",
   "execution_count": null,
   "metadata": {
    "colab": {
     "base_uri": "https://localhost:8080/"
    },
    "colab_type": "code",
    "id": "2TCv98oRUhQ4",
    "outputId": "7062d8f4-a710-470e-e6a3-7eae46eb5308"
   },
   "outputs": [
    {
     "data": {
      "text/plain": [
       "[10, 2, 4, 12, 13, 1, 712, 23, 2, 192]"
      ]
     },
     "execution_count": 252,
     "metadata": {
      "tags": []
     },
     "output_type": "execute_result"
    }
   ],
   "source": [
    "numbers"
   ]
  },
  {
   "cell_type": "code",
   "execution_count": null,
   "metadata": {
    "colab": {
     "base_uri": "https://localhost:8080/"
    },
    "colab_type": "code",
    "id": "p0VNe_ADUXXK",
    "outputId": "29456c28-5280-4952-ae60-ac898727839c"
   },
   "outputs": [
    {
     "data": {
      "text/plain": [
       "[13, 1, 23]"
      ]
     },
     "execution_count": 253,
     "metadata": {
      "tags": []
     },
     "output_type": "execute_result"
    }
   ],
   "source": [
    "[number for number in numbers if number % 2 == 1]"
   ]
  },
  {
   "cell_type": "code",
   "execution_count": null,
   "metadata": {
    "colab": {},
    "colab_type": "code",
    "id": "i3audOMnUgX1"
   },
   "outputs": [],
   "source": [
    "# Q2"
   ]
  },
  {
   "cell_type": "code",
   "execution_count": null,
   "metadata": {
    "colab": {
     "base_uri": "https://localhost:8080/"
    },
    "colab_type": "code",
    "id": "1dEnDjERVM5j",
    "outputId": "f24610d3-8f86-432b-b69b-3969b507c460"
   },
   "outputs": [
    {
     "data": {
      "text/plain": [
       "[{'name': 'Andrea', 'score': 90},\n",
       " {'name': 'Astrid', 'score': 76},\n",
       " {'name': 'Beatrice', 'score': 64},\n",
       " {'name': 'Brenda', 'score': 96}]"
      ]
     },
     "execution_count": 255,
     "metadata": {
      "tags": []
     },
     "output_type": "execute_result"
    }
   ],
   "source": [
    "students"
   ]
  },
  {
   "cell_type": "code",
   "execution_count": null,
   "metadata": {
    "colab": {
     "base_uri": "https://localhost:8080/"
    },
    "colab_type": "code",
    "id": "riAoVDwYVOYB",
    "outputId": "7c892b89-3479-438d-8795-e2da2b257de5"
   },
   "outputs": [
    {
     "data": {
      "text/plain": [
       "[{'name': 'Andrea', 'score': 90}, {'name': 'Brenda', 'score': 96}]"
      ]
     },
     "execution_count": 256,
     "metadata": {
      "tags": []
     },
     "output_type": "execute_result"
    }
   ],
   "source": [
    "[student for student in students if student.get('score') >= 90]"
   ]
  },
  {
   "cell_type": "code",
   "execution_count": null,
   "metadata": {
    "colab": {
     "base_uri": "https://localhost:8080/"
    },
    "colab_type": "code",
    "id": "FrwvRo1NVOga",
    "outputId": "df3fb878-6696-499c-8044-1528c8c54a9f"
   },
   "outputs": [
    {
     "data": {
      "text/plain": [
       "['Andrea', 'Brenda']"
      ]
     },
     "execution_count": 257,
     "metadata": {
      "tags": []
     },
     "output_type": "execute_result"
    }
   ],
   "source": [
    "[student.get('name') for student in students if student.get('score') >= 90]"
   ]
  },
  {
   "cell_type": "markdown",
   "metadata": {
    "colab_type": "text",
    "id": "dUEwpHjvVgPL"
   },
   "source": [
    "#### Defining Functions"
   ]
  },
  {
   "cell_type": "code",
   "execution_count": null,
   "metadata": {
    "colab": {},
    "colab_type": "code",
    "id": "p3NsrHWXY75d"
   },
   "outputs": [],
   "source": [
    "scores = [90, 73, 43, 100]\n",
    "\n",
    "students = [{'name': 'Andrea', 'scores': [90, 73, 43, 100]}, # 'average': 76.5, 'passed': True\n",
    "            {'name': 'Astrid', 'scores': [76, 44, 66, 73]},\n",
    "            {'name': 'Beatrice', 'scores': [64, 74, 91, 64]},\n",
    "            {'name': 'Brenda', 'scores': [96, 82, 76, 100]}]"
   ]
  },
  {
   "cell_type": "code",
   "execution_count": null,
   "metadata": {
    "colab": {},
    "colab_type": "code",
    "id": "ze0RdpA1ZbIx"
   },
   "outputs": [],
   "source": [
    "# Q1: add an average score to each student dictionary in the students list\n",
    "\n",
    "# Q2: add a passed (True/False) to each dictionary if the student's average is higher than 70"
   ]
  },
  {
   "cell_type": "markdown",
   "metadata": {
    "colab_type": "text",
    "id": "AEHQSn7JV6QK"
   },
   "source": [
    "* functions allow us to simplify and speed up our code by organizing it around reusable blocks"
   ]
  },
  {
   "cell_type": "markdown",
   "metadata": {
    "colab_type": "text",
    "id": "V28q1JLZYzjH"
   },
   "source": [
    "* functions are great for generalizing repetitive tasks"
   ]
  },
  {
   "cell_type": "code",
   "execution_count": null,
   "metadata": {
    "colab": {},
    "colab_type": "code",
    "id": "QY6EIcb2gNJV"
   },
   "outputs": [],
   "source": [
    "def get_average(scores_list): # function header\n",
    "  _avg = sum(scores_list) / len(scores_list)\n",
    "\n",
    "  return _avg"
   ]
  },
  {
   "cell_type": "code",
   "execution_count": null,
   "metadata": {
    "colab": {},
    "colab_type": "code",
    "id": "nAeFhnEshDij"
   },
   "outputs": [],
   "source": [
    "def did_pass(score_avg):\n",
    "  return True if score_avg > 70 else False"
   ]
  },
  {
   "cell_type": "code",
   "execution_count": null,
   "metadata": {
    "colab": {},
    "colab_type": "code",
    "id": "8q6NJW5Mhf83"
   },
   "outputs": [],
   "source": [
    "for student in students:\n",
    "  score_avg = get_average(student.get('scores'))\n",
    "\n",
    "  student['average']  = score_avg\n",
    "  student['passed']   = did_pass(score_avg)"
   ]
  },
  {
   "cell_type": "code",
   "execution_count": null,
   "metadata": {
    "colab": {
     "base_uri": "https://localhost:8080/"
    },
    "colab_type": "code",
    "id": "vJmeIUYChfq0",
    "outputId": "29f98b8b-1b1c-421d-f389-1da06f5bb03f"
   },
   "outputs": [
    {
     "data": {
      "text/plain": [
       "[{'average': 76.5,\n",
       "  'name': 'Andrea',\n",
       "  'passed': True,\n",
       "  'scores': [90, 73, 43, 100]},\n",
       " {'average': 64.75,\n",
       "  'name': 'Astrid',\n",
       "  'passed': False,\n",
       "  'scores': [76, 44, 66, 73]},\n",
       " {'average': 73.25,\n",
       "  'name': 'Beatrice',\n",
       "  'passed': True,\n",
       "  'scores': [64, 74, 91, 64]},\n",
       " {'average': 88.5,\n",
       "  'name': 'Brenda',\n",
       "  'passed': True,\n",
       "  'scores': [96, 82, 76, 100]}]"
      ]
     },
     "execution_count": 263,
     "metadata": {
      "tags": []
     },
     "output_type": "execute_result"
    }
   ],
   "source": [
    "students"
   ]
  },
  {
   "cell_type": "code",
   "execution_count": null,
   "metadata": {
    "colab": {},
    "colab_type": "code",
    "id": "lucRd6Iyhfmp"
   },
   "outputs": [],
   "source": []
  },
  {
   "cell_type": "code",
   "execution_count": null,
   "metadata": {
    "colab": {},
    "colab_type": "code",
    "id": "s4OTurGyhfjK"
   },
   "outputs": [],
   "source": []
  },
  {
   "cell_type": "code",
   "execution_count": null,
   "metadata": {
    "colab": {},
    "colab_type": "code",
    "id": "c9Ji-TC8hfdz"
   },
   "outputs": [],
   "source": []
  },
  {
   "cell_type": "code",
   "execution_count": null,
   "metadata": {
    "colab": {},
    "colab_type": "code",
    "id": "CqU-AFyegNFM"
   },
   "outputs": [],
   "source": [
    "# get_average(scores)"
   ]
  },
  {
   "cell_type": "code",
   "execution_count": null,
   "metadata": {
    "colab": {},
    "colab_type": "code",
    "id": "gAO24uFWgM_b"
   },
   "outputs": [],
   "source": [
    "# get_average(scores2)"
   ]
  },
  {
   "cell_type": "code",
   "execution_count": null,
   "metadata": {
    "colab": {
     "base_uri": "https://localhost:8080/"
    },
    "colab_type": "code",
    "id": "elT47wZtgM6x",
    "outputId": "893bb908-fbdb-4114-dbed-9eac7cf49e96"
   },
   "outputs": [
    {
     "data": {
      "text/plain": [
       "False"
      ]
     },
     "execution_count": 266,
     "metadata": {
      "tags": []
     },
     "output_type": "execute_result"
    }
   ],
   "source": [
    "did_pass(70)"
   ]
  },
  {
   "cell_type": "code",
   "execution_count": null,
   "metadata": {
    "colab": {
     "base_uri": "https://localhost:8080/"
    },
    "colab_type": "code",
    "id": "q_5ZJai5gMuR",
    "outputId": "77333e8a-2ed1-4d01-f5fe-f5049833fe26"
   },
   "outputs": [
    {
     "data": {
      "text/plain": [
       "True"
      ]
     },
     "execution_count": 267,
     "metadata": {
      "tags": []
     },
     "output_type": "execute_result"
    }
   ],
   "source": [
    "did_pass(71)"
   ]
  },
  {
   "cell_type": "code",
   "execution_count": null,
   "metadata": {
    "colab": {
     "base_uri": "https://localhost:8080/"
    },
    "colab_type": "code",
    "id": "O42lRvwOfkak",
    "outputId": "61878064-fb7a-4b0c-e929-fbfe14269122"
   },
   "outputs": [
    {
     "data": {
      "text/plain": [
       "[90, 73, 43, 100]"
      ]
     },
     "execution_count": 268,
     "metadata": {
      "tags": []
     },
     "output_type": "execute_result"
    }
   ],
   "source": [
    "scores"
   ]
  },
  {
   "cell_type": "code",
   "execution_count": null,
   "metadata": {
    "colab": {
     "base_uri": "https://localhost:8080/"
    },
    "colab_type": "code",
    "id": "T0EjhnnKf25n",
    "outputId": "ea181fba-e5c5-46fc-b133-b8f3c38650be"
   },
   "outputs": [
    {
     "data": {
      "text/plain": [
       "306"
      ]
     },
     "execution_count": 269,
     "metadata": {
      "tags": []
     },
     "output_type": "execute_result"
    }
   ],
   "source": [
    "sum(scores)"
   ]
  },
  {
   "cell_type": "code",
   "execution_count": null,
   "metadata": {
    "colab": {
     "base_uri": "https://localhost:8080/"
    },
    "colab_type": "code",
    "id": "3ekPeYYNf5xa",
    "outputId": "c86a03b2-b6f5-4e4a-f922-7de090bffd78"
   },
   "outputs": [
    {
     "data": {
      "text/plain": [
       "4"
      ]
     },
     "execution_count": 270,
     "metadata": {
      "tags": []
     },
     "output_type": "execute_result"
    }
   ],
   "source": [
    "len(scores)"
   ]
  },
  {
   "cell_type": "code",
   "execution_count": null,
   "metadata": {
    "colab": {
     "base_uri": "https://localhost:8080/"
    },
    "colab_type": "code",
    "id": "TRXrlRV0f7SG",
    "outputId": "dc52f04e-a8ec-4dc3-a171-acb80d40cef6"
   },
   "outputs": [
    {
     "data": {
      "text/plain": [
       "76.5"
      ]
     },
     "execution_count": 271,
     "metadata": {
      "tags": []
     },
     "output_type": "execute_result"
    }
   ],
   "source": [
    "sum(scores) / len(scores)"
   ]
  },
  {
   "cell_type": "code",
   "execution_count": null,
   "metadata": {
    "colab": {},
    "colab_type": "code",
    "id": "wu5fLQ2rf-QX"
   },
   "outputs": [],
   "source": [
    "scores2 = [60, 72, 90, 100]"
   ]
  },
  {
   "cell_type": "code",
   "execution_count": null,
   "metadata": {
    "colab": {
     "base_uri": "https://localhost:8080/"
    },
    "colab_type": "code",
    "id": "8mY4MOpDgB-y",
    "outputId": "1bebf2c6-0524-485c-bed1-3a461de73270"
   },
   "outputs": [
    {
     "data": {
      "text/plain": [
       "80.5"
      ]
     },
     "execution_count": 273,
     "metadata": {
      "tags": []
     },
     "output_type": "execute_result"
    }
   ],
   "source": [
    "sum(scores2) / len(scores2)"
   ]
  },
  {
   "cell_type": "markdown",
   "metadata": {
    "colab_type": "text",
    "id": "AzZyqYJ5gF4T"
   },
   "source": [
    "#### Function Arguments: Positional vs Keyword"
   ]
  },
  {
   "cell_type": "code",
   "execution_count": null,
   "metadata": {
    "colab": {},
    "colab_type": "code",
    "id": "cZv2JczAi93e"
   },
   "outputs": [],
   "source": [
    "# Q: define a function that formats a name from 'Mary Anderson' to 'Anderson, Mary'"
   ]
  },
  {
   "cell_type": "code",
   "execution_count": null,
   "metadata": {
    "colab": {},
    "colab_type": "code",
    "id": "8JlLjVNbkCny"
   },
   "outputs": [],
   "source": [
    "def reverse_name(first, last):\n",
    "  return \"{}, {}\".format(last, first)"
   ]
  },
  {
   "cell_type": "code",
   "execution_count": null,
   "metadata": {
    "colab": {
     "base_uri": "https://localhost:8080/"
    },
    "colab_type": "code",
    "id": "fjA9LoP4kSm8",
    "outputId": "2db50291-1815-43bc-84e8-e968bfefdb36"
   },
   "outputs": [
    {
     "data": {
      "text/plain": [
       "'Anderson, Mary'"
      ]
     },
     "execution_count": 276,
     "metadata": {
      "tags": []
     },
     "output_type": "execute_result"
    }
   ],
   "source": [
    "reverse_name('Mary', 'Anderson') # positional"
   ]
  },
  {
   "cell_type": "code",
   "execution_count": null,
   "metadata": {
    "colab": {
     "base_uri": "https://localhost:8080/"
    },
    "colab_type": "code",
    "id": "OJSDovXLkVIg",
    "outputId": "0e636142-38af-416b-adb8-8ccfa04f73d5"
   },
   "outputs": [
    {
     "data": {
      "text/plain": [
       "'Anderson, Mary'"
      ]
     },
     "execution_count": 277,
     "metadata": {
      "tags": []
     },
     "output_type": "execute_result"
    }
   ],
   "source": [
    "reverse_name(first='Mary', last='Anderson') # keyword"
   ]
  },
  {
   "cell_type": "code",
   "execution_count": null,
   "metadata": {
    "colab": {
     "base_uri": "https://localhost:8080/"
    },
    "colab_type": "code",
    "id": "wZYpPbg-kqfa",
    "outputId": "36de1d98-e552-4d19-9482-65866ba1f72a"
   },
   "outputs": [
    {
     "data": {
      "text/plain": [
       "'Anderson, Mary'"
      ]
     },
     "execution_count": 278,
     "metadata": {
      "tags": []
     },
     "output_type": "execute_result"
    }
   ],
   "source": [
    "reverse_name(last='Anderson', first='Mary')"
   ]
  },
  {
   "cell_type": "code",
   "execution_count": null,
   "metadata": {
    "colab": {
     "base_uri": "https://localhost:8080/"
    },
    "colab_type": "code",
    "id": "CR6Tqtg-k3_0",
    "outputId": "4add4095-04fc-4ab1-e014-2a34f00d151f"
   },
   "outputs": [
    {
     "data": {
      "text/plain": [
       "'Mary, Anderson'"
      ]
     },
     "execution_count": 279,
     "metadata": {
      "tags": []
     },
     "output_type": "execute_result"
    }
   ],
   "source": [
    "reverse_name('Anderson', 'Mary') # wrong!"
   ]
  },
  {
   "cell_type": "code",
   "execution_count": null,
   "metadata": {
    "colab": {
     "base_uri": "https://localhost:8080/"
    },
    "colab_type": "code",
    "id": "kLoDXj9Rk8Ne",
    "outputId": "2e6cc736-7f28-44c9-8c51-509bb6a8f472"
   },
   "outputs": [
    {
     "data": {
      "text/plain": [
       "'Anderson, Mary'"
      ]
     },
     "execution_count": 280,
     "metadata": {
      "tags": []
     },
     "output_type": "execute_result"
    }
   ],
   "source": [
    "reverse_name('Mary', last='Anderson')"
   ]
  },
  {
   "cell_type": "code",
   "execution_count": null,
   "metadata": {
    "colab": {},
    "colab_type": "code",
    "id": "2OMkfV1elJli"
   },
   "outputs": [],
   "source": [
    "# reverse_name(first='Mary', 'Anderson') # wrong, syntaxerror!"
   ]
  },
  {
   "cell_type": "markdown",
   "metadata": {
    "colab_type": "text",
    "id": "TkufyEIQlUvg"
   },
   "source": [
    "#### Lambdas"
   ]
  },
  {
   "cell_type": "code",
   "execution_count": null,
   "metadata": {
    "colab": {
     "base_uri": "https://localhost:8080/"
    },
    "colab_type": "code",
    "id": "llfADYrXw1z-",
    "outputId": "554f4dec-00bc-4bae-f59e-1717f8c2deff"
   },
   "outputs": [
    {
     "data": {
      "text/plain": [
       "[10, 2, 4, 12, 13, 1, 712, 23, 2, 192]"
      ]
     },
     "execution_count": 282,
     "metadata": {
      "tags": []
     },
     "output_type": "execute_result"
    }
   ],
   "source": [
    "numbers"
   ]
  },
  {
   "cell_type": "markdown",
   "metadata": {
    "colab_type": "text",
    "id": "rwmH9m1ulsUH"
   },
   "source": [
    "* lambdas are functions that don't have a name, i.e. they're anonymous"
   ]
  },
  {
   "cell_type": "code",
   "execution_count": null,
   "metadata": {
    "colab": {},
    "colab_type": "code",
    "id": "aAMdtjIMyY6T"
   },
   "outputs": [],
   "source": [
    "# def function_name(param):\n",
    "#   # function definition"
   ]
  },
  {
   "cell_type": "code",
   "execution_count": null,
   "metadata": {
    "colab": {
     "base_uri": "https://localhost:8080/"
    },
    "colab_type": "code",
    "id": "1TC54pdgydSZ",
    "outputId": "817ed6ae-2cd5-4778-e5a3-d0882875e6fd"
   },
   "outputs": [
    {
     "data": {
      "text/plain": [
       "<function __main__.<lambda>>"
      ]
     },
     "execution_count": 284,
     "metadata": {
      "tags": []
     },
     "output_type": "execute_result"
    }
   ],
   "source": [
    "lambda x: x ** 3"
   ]
  },
  {
   "cell_type": "code",
   "execution_count": null,
   "metadata": {
    "colab": {},
    "colab_type": "code",
    "id": "NoUYmRciyuto"
   },
   "outputs": [],
   "source": [
    "a = 10"
   ]
  },
  {
   "cell_type": "code",
   "execution_count": null,
   "metadata": {
    "colab": {},
    "colab_type": "code",
    "id": "pIee2FKyyxMU"
   },
   "outputs": [],
   "source": [
    "# _(10) "
   ]
  },
  {
   "cell_type": "code",
   "execution_count": null,
   "metadata": {
    "colab": {},
    "colab_type": "code",
    "id": "T_CMgZqEy2Uy"
   },
   "outputs": [],
   "source": [
    "cube_it = lambda x: x ** 3"
   ]
  },
  {
   "cell_type": "code",
   "execution_count": null,
   "metadata": {
    "colab": {
     "base_uri": "https://localhost:8080/"
    },
    "colab_type": "code",
    "id": "ZrK5twJ-y6Ru",
    "outputId": "5eb55abd-65e1-453c-cd89-9ce68ebee93f"
   },
   "outputs": [
    {
     "data": {
      "text/plain": [
       "8000"
      ]
     },
     "execution_count": 288,
     "metadata": {
      "tags": []
     },
     "output_type": "execute_result"
    }
   ],
   "source": [
    "cube_it(20)"
   ]
  },
  {
   "cell_type": "code",
   "execution_count": null,
   "metadata": {
    "colab": {},
    "colab_type": "code",
    "id": "DjBxFQqqy_Eh"
   },
   "outputs": [],
   "source": [
    "def cube_it2(n):\n",
    "  return n ** 3"
   ]
  },
  {
   "cell_type": "markdown",
   "metadata": {
    "colab_type": "text",
    "id": "C5B36Qe0ukSA"
   },
   "source": [
    "* lambdas as great for doing one thing in one place"
   ]
  },
  {
   "cell_type": "markdown",
   "metadata": {
    "colab_type": "text",
    "id": "qXaHCigpunp3"
   },
   "source": [
    "* they contain only one statement and they automatically return the result of that statement"
   ]
  },
  {
   "cell_type": "code",
   "execution_count": null,
   "metadata": {
    "colab": {},
    "colab_type": "code",
    "id": "RlaeNp4YzFRE"
   },
   "outputs": [],
   "source": [
    "# map()"
   ]
  },
  {
   "cell_type": "code",
   "execution_count": null,
   "metadata": {
    "colab": {
     "base_uri": "https://localhost:8080/"
    },
    "colab_type": "code",
    "id": "4m89uVJgzG3j",
    "outputId": "f38246be-a460-498e-a69e-e91da20175a3"
   },
   "outputs": [
    {
     "data": {
      "text/plain": [
       "[10, 2, 4, 12, 13, 1, 712, 23, 2, 192]"
      ]
     },
     "execution_count": 291,
     "metadata": {
      "tags": []
     },
     "output_type": "execute_result"
    }
   ],
   "source": [
    "numbers"
   ]
  },
  {
   "cell_type": "code",
   "execution_count": null,
   "metadata": {
    "colab": {
     "base_uri": "https://localhost:8080/"
    },
    "colab_type": "code",
    "id": "SIDoUu5kzHh4",
    "outputId": "37845ded-9485-49fb-c38b-6da9f65b3962"
   },
   "outputs": [
    {
     "data": {
      "text/plain": [
       "[1000, 8, 64, 1728, 2197, 1, 360944128, 12167, 8, 7077888]"
      ]
     },
     "execution_count": 292,
     "metadata": {
      "tags": []
     },
     "output_type": "execute_result"
    }
   ],
   "source": [
    "list(map(cube_it2, numbers))"
   ]
  },
  {
   "cell_type": "code",
   "execution_count": null,
   "metadata": {
    "colab": {
     "base_uri": "https://localhost:8080/"
    },
    "colab_type": "code",
    "id": "h9mtgbDazN_7",
    "outputId": "1677dfc8-33ca-43fb-c8b4-3023d624907f"
   },
   "outputs": [
    {
     "data": {
      "text/plain": [
       "[1000, 8, 64, 1728, 2197, 1, 360944128, 12167, 8, 7077888]"
      ]
     },
     "execution_count": 293,
     "metadata": {
      "tags": []
     },
     "output_type": "execute_result"
    }
   ],
   "source": [
    "list(map(lambda x: x ** 3, numbers))"
   ]
  },
  {
   "cell_type": "markdown",
   "metadata": {
    "colab_type": "text",
    "id": "7-MO45NfzWE2"
   },
   "source": [
    "#### Importing Modules"
   ]
  },
  {
   "cell_type": "code",
   "execution_count": null,
   "metadata": {
    "colab": {},
    "colab_type": "code",
    "id": "VMZGXyqw9Y56"
   },
   "outputs": [],
   "source": [
    "def get_average(scores_list):\n",
    "  _avg = sum(scores_list) / len(scores_list)\n",
    "\n",
    "  return _avg"
   ]
  },
  {
   "cell_type": "markdown",
   "metadata": {
    "colab_type": "text",
    "id": "T92qf1890Mb7"
   },
   "source": [
    "* modules define variables, functions, or classes that could be referenced by other programs"
   ]
  },
  {
   "cell_type": "markdown",
   "metadata": {
    "colab_type": "text",
    "id": "llyXBk__7sFH"
   },
   "source": [
    "* a lot of functionality comes with modules from Python Standard Library"
   ]
  },
  {
   "cell_type": "markdown",
   "metadata": {
    "colab_type": "text",
    "id": "GERb072e8EZz"
   },
   "source": [
    "* we access modules using the *import* keyword"
   ]
  },
  {
   "cell_type": "code",
   "execution_count": null,
   "metadata": {
    "colab": {},
    "colab_type": "code",
    "id": "7urnFGqXAdTM"
   },
   "outputs": [],
   "source": [
    "import statistics"
   ]
  },
  {
   "cell_type": "code",
   "execution_count": null,
   "metadata": {
    "colab": {
     "base_uri": "https://localhost:8080/"
    },
    "colab_type": "code",
    "id": "t8sGdayuAZ5o",
    "outputId": "ac77c3ad-2faf-47ef-8f43-7489db341230"
   },
   "outputs": [
    {
     "data": {
      "text/plain": [
       "[90, 73, 43, 100]"
      ]
     },
     "execution_count": 296,
     "metadata": {
      "tags": []
     },
     "output_type": "execute_result"
    }
   ],
   "source": [
    "scores"
   ]
  },
  {
   "cell_type": "code",
   "execution_count": null,
   "metadata": {
    "colab": {
     "base_uri": "https://localhost:8080/"
    },
    "colab_type": "code",
    "id": "YZ10XaR5Ajkk",
    "outputId": "0524ff69-cce3-484c-faeb-bff0a0a9811f"
   },
   "outputs": [
    {
     "data": {
      "text/plain": [
       "76.5"
      ]
     },
     "execution_count": 297,
     "metadata": {
      "tags": []
     },
     "output_type": "execute_result"
    }
   ],
   "source": [
    "get_average(scores)"
   ]
  },
  {
   "cell_type": "code",
   "execution_count": null,
   "metadata": {
    "colab": {
     "base_uri": "https://localhost:8080/"
    },
    "colab_type": "code",
    "id": "2OcaNyvXAnGW",
    "outputId": "d73c25e5-54ae-4048-f8c0-8d37300722ce"
   },
   "outputs": [
    {
     "data": {
      "text/plain": [
       "76.5"
      ]
     },
     "execution_count": 298,
     "metadata": {
      "tags": []
     },
     "output_type": "execute_result"
    }
   ],
   "source": [
    "statistics.mean(scores)"
   ]
  },
  {
   "cell_type": "markdown",
   "metadata": {
    "colab_type": "text",
    "id": "y-OObl1f8rk6"
   },
   "source": [
    "* to import specific functions from a module we use *from < module > import < function >*"
   ]
  },
  {
   "cell_type": "code",
   "execution_count": null,
   "metadata": {
    "colab": {},
    "colab_type": "code",
    "id": "PcFjUQj9AsiD"
   },
   "outputs": [],
   "source": [
    "from statistics import mean"
   ]
  },
  {
   "cell_type": "code",
   "execution_count": null,
   "metadata": {
    "colab": {
     "base_uri": "https://localhost:8080/"
    },
    "colab_type": "code",
    "id": "1iv01DMGAv-z",
    "outputId": "4c754456-4557-437c-e04e-b77cc90f8171"
   },
   "outputs": [
    {
     "data": {
      "text/plain": [
       "76.5"
      ]
     },
     "execution_count": 300,
     "metadata": {
      "tags": []
     },
     "output_type": "execute_result"
    }
   ],
   "source": [
    "mean(scores)"
   ]
  },
  {
   "cell_type": "markdown",
   "metadata": {
    "colab_type": "text",
    "id": "8QnZB2F4860D"
   },
   "source": [
    "* we could alias our imports using the *as* keyword"
   ]
  },
  {
   "cell_type": "code",
   "execution_count": null,
   "metadata": {
    "colab": {},
    "colab_type": "code",
    "id": "mfrLOvaDA09b"
   },
   "outputs": [],
   "source": [
    "from statistics import mean as avg"
   ]
  },
  {
   "cell_type": "code",
   "execution_count": null,
   "metadata": {
    "colab": {
     "base_uri": "https://localhost:8080/"
    },
    "colab_type": "code",
    "id": "aOSeKlvHA3G1",
    "outputId": "cef01d9d-8bde-4a8f-f46b-166e65fa4093"
   },
   "outputs": [
    {
     "data": {
      "text/plain": [
       "76.5"
      ]
     },
     "execution_count": 302,
     "metadata": {
      "tags": []
     },
     "output_type": "execute_result"
    }
   ],
   "source": [
    "avg(scores)"
   ]
  },
  {
   "cell_type": "code",
   "execution_count": null,
   "metadata": {
    "colab": {},
    "colab_type": "code",
    "id": "KoSnF6iWA6oF"
   },
   "outputs": [],
   "source": [
    "# import pandas as pd\n",
    "# from matplotlib import pyplot as plt"
   ]
  },
  {
   "cell_type": "code",
   "execution_count": null,
   "metadata": {
    "colab": {},
    "colab_type": "code",
    "id": "wyL23jPjBN5O"
   },
   "outputs": [],
   "source": []
  }
 ],
 "metadata": {
  "colab": {
   "collapsed_sections": [
    "39tfJzLBMLjF",
    "j0XYiqY1HsXR",
    "I0NW-Y5cH8PK",
    "5ZWFvFjCM7Ou",
    "XhUxYlJ-eekG",
    "BZfTHaM-gl-Y",
    "jkZHq--knlup",
    "Yc7L8GNttvA5",
    "txtYTs3tSHMw",
    "0CzdUiSNbqyU",
    "nZre24Xpin_A",
    "sIsjdMf-o6cU",
    "zlYp5hEJw6jr",
    "oB9d7UsA0PW2",
    "a_cnJiw-N3pK",
    "dA6q42rfADbU",
    "PTLHHmgdCZbq",
    "Q0R5hfHhHbQD",
    "ul3zo8t2jGEY",
    "rWnhok6sruUC",
    "L6NxlgjZ2kiv",
    "LKXlB99O6Eb3",
    "4RLfDI8L-Ue0",
    "vLmByUGbEh5n",
    "Be3l_tlhKDGV",
    "dUEwpHjvVgPL",
    "AzZyqYJ5gF4T",
    "TkufyEIQlUvg",
    "7-MO45NfzWE2"
   ],
   "name": "Appendix A - Rapid-Fire Python Fundamentals",
   "provenance": []
  },
  "kernelspec": {
   "display_name": "Python 3 (ipykernel)",
   "language": "python",
   "name": "python3"
  },
  "language_info": {
   "codemirror_mode": {
    "name": "ipython",
    "version": 3
   },
   "file_extension": ".py",
   "mimetype": "text/x-python",
   "name": "python",
   "nbconvert_exporter": "python",
   "pygments_lexer": "ipython3",
   "version": "3.9.7"
  }
 },
 "nbformat": 4,
 "nbformat_minor": 1
}
